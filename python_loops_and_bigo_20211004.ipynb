{
  "nbformat": 4,
  "nbformat_minor": 0,
  "metadata": {
    "colab": {
      "provenance": [],
      "collapsed_sections": [
        "2ACF9H30UUEl",
        "8S7JZLW7UbBz"
      ],
      "toc_visible": true,
      "include_colab_link": true
    },
    "kernelspec": {
      "name": "python3",
      "display_name": "Python 3"
    }
  },
  "cells": [
    {
      "cell_type": "markdown",
      "metadata": {
        "id": "view-in-github",
        "colab_type": "text"
      },
      "source": [
        "<a href=\"https://colab.research.google.com/github/KatherineElkins/programming-humanity-2024fall/blob/main/python_loops_and_bigo_20211004.ipynb\" target=\"_parent\"><img src=\"https://colab.research.google.com/assets/colab-badge.svg\" alt=\"Open In Colab\"/></a>"
      ]
    },
    {
      "cell_type": "markdown",
      "metadata": {
        "id": "M1CxyTs6LUEg"
      },
      "source": [
        "# **Python Loops, DataStructures and BigO Notation**\n",
        "\n",
        "By Jon Chun\n",
        "04 Oct 2021"
      ]
    },
    {
      "cell_type": "markdown",
      "metadata": {
        "id": "p8n_rhu9uCoG"
      },
      "source": [
        "# **Fixed Loops (for...) vs Conditional Loops (while...)**\n"
      ]
    },
    {
      "cell_type": "code",
      "metadata": {
        "colab": {
          "base_uri": "https://localhost:8080/"
        },
        "id": "pTCzOhy0uB3_",
        "outputId": "134db601-21b5-4024-9561-0636a74342aa"
      },
      "source": [
        "# Digging a hole one inch at a time until we reach the desired depth\n",
        "\n",
        "depth_now = 0\n",
        "depth_levels = [1,2,3,4,5,6,7,8,9,10,11,12,13,14,15,16,17,18,19,20,21,22,23,24]\n",
        "for depth in depth_levels:\n",
        "  depth_now = depth\n",
        "\n",
        "print(f'Yea! We dug a hole {depth_now} inches deep!')"
      ],
      "execution_count": null,
      "outputs": [
        {
          "output_type": "stream",
          "name": "stdout",
          "text": [
            "Yea! We dug a hole 24 inches deep!\n"
          ]
        }
      ]
    },
    {
      "cell_type": "code",
      "metadata": {
        "colab": {
          "base_uri": "https://localhost:8080/"
        },
        "id": "D9TPm1zIuB2X",
        "outputId": "f54f4b96-7422-423c-dbfa-b181bf3d90f7"
      },
      "source": [
        "# Conditionally raising the oven temperature to the perfect temperature for grandma's secreta\n",
        "\n",
        "temp_now = 0\n",
        "temp_level = [70,100,130,160,190,220,250,280,310,340,370,400,430]\n",
        "temp_setpoint = 350\n",
        "\n",
        "i = 0\n",
        "while temp_level[i] < temp_setpoint:\n",
        "  i = i + 1\n",
        "\n",
        "print(f'Hoohah! You oven is preheated to {temp_level[i]} degrees little chef!')"
      ],
      "execution_count": null,
      "outputs": [
        {
          "output_type": "stream",
          "name": "stdout",
          "text": [
            "Hoohah! You oven is preheated to 370 degrees little chef!\n"
          ]
        }
      ]
    },
    {
      "cell_type": "code",
      "metadata": {
        "id": "_m9A7EVfuB03"
      },
      "source": [],
      "execution_count": null,
      "outputs": []
    },
    {
      "cell_type": "code",
      "metadata": {
        "id": "9LeVhJM4uBuo"
      },
      "source": [],
      "execution_count": null,
      "outputs": []
    },
    {
      "cell_type": "markdown",
      "metadata": {
        "id": "hOhKY9XtkGRD"
      },
      "source": [
        "# **Iterate over List**\n",
        "\n",
        "* https://www.pythonpool.com/python-iterate-through-list/"
      ]
    },
    {
      "cell_type": "code",
      "metadata": {
        "id": "eEcsAVdh4OFP"
      },
      "source": [
        "import time\n",
        "import random"
      ],
      "execution_count": null,
      "outputs": []
    },
    {
      "cell_type": "code",
      "metadata": {
        "id": "IJaBMAWp4Q7z"
      },
      "source": [
        "def gen_rand_ls(asize):\n",
        "  rand_ls = [random.randrange(1, 100, 1) for i in range(asize)]\n",
        "  return rand_ls"
      ],
      "execution_count": null,
      "outputs": []
    },
    {
      "cell_type": "code",
      "metadata": {
        "colab": {
          "base_uri": "https://localhost:8080/"
        },
        "id": "oJuwUlhV4Q73",
        "outputId": "0a7df845-e833-400d-d6dc-5b7ebc9b20fd"
      },
      "source": [
        "my_size = 10\n",
        "\n",
        "test_ls = gen_rand_ls(my_size)\n",
        "test_ls"
      ],
      "execution_count": null,
      "outputs": [
        {
          "output_type": "execute_result",
          "data": {
            "text/plain": [
              "[74, 75, 75, 48, 96, 66, 63, 72, 44, 39]"
            ]
          },
          "metadata": {},
          "execution_count": 3
        }
      ]
    },
    {
      "cell_type": "code",
      "metadata": {
        "colab": {
          "base_uri": "https://localhost:8080/"
        },
        "id": "ktUoUoNh4SrZ",
        "outputId": "4e49a763-4906-4822-fa6d-be9ee2815f1e"
      },
      "source": [
        "my_size = 10\n",
        "\n",
        "short_ls = gen_rand_ls(my_size)\n",
        "short_ls"
      ],
      "execution_count": null,
      "outputs": [
        {
          "output_type": "execute_result",
          "data": {
            "text/plain": [
              "[19, 84, 99, 13, 19, 32, 87, 85, 38, 98]"
            ]
          },
          "metadata": {},
          "execution_count": 4
        }
      ]
    },
    {
      "cell_type": "code",
      "metadata": {
        "id": "0mxobFoa4Wm_",
        "colab": {
          "base_uri": "https://localhost:8080/"
        },
        "outputId": "7f837cda-f930-410f-f401-8e14f773936b"
      },
      "source": [
        "my_size = 1000\n",
        "\n",
        "long_ls = gen_rand_ls(my_size)\n",
        "long_ls"
      ],
      "execution_count": null,
      "outputs": [
        {
          "output_type": "execute_result",
          "data": {
            "text/plain": [
              "[95,\n",
              " 96,\n",
              " 7,\n",
              " 17,\n",
              " 90,\n",
              " 44,\n",
              " 3,\n",
              " 9,\n",
              " 59,\n",
              " 35,\n",
              " 9,\n",
              " 14,\n",
              " 54,\n",
              " 48,\n",
              " 3,\n",
              " 22,\n",
              " 40,\n",
              " 9,\n",
              " 93,\n",
              " 22,\n",
              " 31,\n",
              " 99,\n",
              " 61,\n",
              " 59,\n",
              " 45,\n",
              " 18,\n",
              " 27,\n",
              " 98,\n",
              " 77,\n",
              " 23,\n",
              " 17,\n",
              " 79,\n",
              " 78,\n",
              " 64,\n",
              " 1,\n",
              " 85,\n",
              " 20,\n",
              " 13,\n",
              " 38,\n",
              " 62,\n",
              " 78,\n",
              " 39,\n",
              " 36,\n",
              " 63,\n",
              " 13,\n",
              " 89,\n",
              " 91,\n",
              " 36,\n",
              " 81,\n",
              " 46,\n",
              " 91,\n",
              " 17,\n",
              " 67,\n",
              " 87,\n",
              " 70,\n",
              " 69,\n",
              " 13,\n",
              " 6,\n",
              " 78,\n",
              " 55,\n",
              " 3,\n",
              " 47,\n",
              " 80,\n",
              " 70,\n",
              " 23,\n",
              " 85,\n",
              " 39,\n",
              " 11,\n",
              " 89,\n",
              " 18,\n",
              " 64,\n",
              " 87,\n",
              " 41,\n",
              " 6,\n",
              " 72,\n",
              " 65,\n",
              " 54,\n",
              " 35,\n",
              " 4,\n",
              " 7,\n",
              " 78,\n",
              " 20,\n",
              " 72,\n",
              " 17,\n",
              " 46,\n",
              " 67,\n",
              " 44,\n",
              " 26,\n",
              " 81,\n",
              " 12,\n",
              " 64,\n",
              " 63,\n",
              " 51,\n",
              " 95,\n",
              " 68,\n",
              " 25,\n",
              " 92,\n",
              " 4,\n",
              " 34,\n",
              " 62,\n",
              " 85,\n",
              " 19,\n",
              " 9,\n",
              " 54,\n",
              " 84,\n",
              " 54,\n",
              " 4,\n",
              " 42,\n",
              " 71,\n",
              " 88,\n",
              " 1,\n",
              " 7,\n",
              " 11,\n",
              " 43,\n",
              " 87,\n",
              " 23,\n",
              " 29,\n",
              " 82,\n",
              " 48,\n",
              " 76,\n",
              " 75,\n",
              " 44,\n",
              " 53,\n",
              " 9,\n",
              " 33,\n",
              " 98,\n",
              " 54,\n",
              " 35,\n",
              " 48,\n",
              " 47,\n",
              " 9,\n",
              " 63,\n",
              " 86,\n",
              " 69,\n",
              " 57,\n",
              " 46,\n",
              " 93,\n",
              " 25,\n",
              " 59,\n",
              " 41,\n",
              " 32,\n",
              " 7,\n",
              " 58,\n",
              " 33,\n",
              " 76,\n",
              " 27,\n",
              " 34,\n",
              " 83,\n",
              " 16,\n",
              " 4,\n",
              " 86,\n",
              " 59,\n",
              " 2,\n",
              " 8,\n",
              " 61,\n",
              " 39,\n",
              " 19,\n",
              " 70,\n",
              " 11,\n",
              " 76,\n",
              " 17,\n",
              " 58,\n",
              " 54,\n",
              " 96,\n",
              " 21,\n",
              " 60,\n",
              " 45,\n",
              " 62,\n",
              " 90,\n",
              " 85,\n",
              " 31,\n",
              " 47,\n",
              " 24,\n",
              " 91,\n",
              " 20,\n",
              " 53,\n",
              " 94,\n",
              " 36,\n",
              " 41,\n",
              " 29,\n",
              " 85,\n",
              " 80,\n",
              " 18,\n",
              " 75,\n",
              " 59,\n",
              " 91,\n",
              " 80,\n",
              " 50,\n",
              " 68,\n",
              " 23,\n",
              " 39,\n",
              " 29,\n",
              " 89,\n",
              " 93,\n",
              " 95,\n",
              " 84,\n",
              " 61,\n",
              " 63,\n",
              " 32,\n",
              " 47,\n",
              " 18,\n",
              " 66,\n",
              " 97,\n",
              " 55,\n",
              " 19,\n",
              " 36,\n",
              " 10,\n",
              " 11,\n",
              " 10,\n",
              " 18,\n",
              " 58,\n",
              " 60,\n",
              " 30,\n",
              " 35,\n",
              " 17,\n",
              " 31,\n",
              " 96,\n",
              " 31,\n",
              " 19,\n",
              " 98,\n",
              " 37,\n",
              " 51,\n",
              " 6,\n",
              " 61,\n",
              " 55,\n",
              " 87,\n",
              " 94,\n",
              " 59,\n",
              " 34,\n",
              " 51,\n",
              " 62,\n",
              " 79,\n",
              " 44,\n",
              " 29,\n",
              " 40,\n",
              " 72,\n",
              " 89,\n",
              " 11,\n",
              " 60,\n",
              " 79,\n",
              " 69,\n",
              " 44,\n",
              " 94,\n",
              " 40,\n",
              " 69,\n",
              " 81,\n",
              " 87,\n",
              " 1,\n",
              " 33,\n",
              " 40,\n",
              " 47,\n",
              " 88,\n",
              " 52,\n",
              " 64,\n",
              " 88,\n",
              " 7,\n",
              " 19,\n",
              " 50,\n",
              " 46,\n",
              " 70,\n",
              " 43,\n",
              " 15,\n",
              " 72,\n",
              " 1,\n",
              " 84,\n",
              " 21,\n",
              " 64,\n",
              " 82,\n",
              " 94,\n",
              " 74,\n",
              " 46,\n",
              " 76,\n",
              " 48,\n",
              " 8,\n",
              " 57,\n",
              " 76,\n",
              " 23,\n",
              " 46,\n",
              " 71,\n",
              " 50,\n",
              " 70,\n",
              " 23,\n",
              " 11,\n",
              " 57,\n",
              " 2,\n",
              " 41,\n",
              " 14,\n",
              " 81,\n",
              " 46,\n",
              " 4,\n",
              " 26,\n",
              " 10,\n",
              " 30,\n",
              " 23,\n",
              " 24,\n",
              " 53,\n",
              " 86,\n",
              " 21,\n",
              " 77,\n",
              " 60,\n",
              " 27,\n",
              " 60,\n",
              " 63,\n",
              " 63,\n",
              " 94,\n",
              " 75,\n",
              " 52,\n",
              " 22,\n",
              " 68,\n",
              " 17,\n",
              " 53,\n",
              " 81,\n",
              " 24,\n",
              " 43,\n",
              " 17,\n",
              " 26,\n",
              " 46,\n",
              " 86,\n",
              " 67,\n",
              " 58,\n",
              " 22,\n",
              " 29,\n",
              " 58,\n",
              " 22,\n",
              " 54,\n",
              " 98,\n",
              " 87,\n",
              " 20,\n",
              " 39,\n",
              " 32,\n",
              " 49,\n",
              " 65,\n",
              " 90,\n",
              " 87,\n",
              " 11,\n",
              " 49,\n",
              " 82,\n",
              " 84,\n",
              " 30,\n",
              " 64,\n",
              " 51,\n",
              " 58,\n",
              " 61,\n",
              " 6,\n",
              " 93,\n",
              " 34,\n",
              " 26,\n",
              " 26,\n",
              " 36,\n",
              " 97,\n",
              " 93,\n",
              " 30,\n",
              " 9,\n",
              " 88,\n",
              " 14,\n",
              " 40,\n",
              " 46,\n",
              " 16,\n",
              " 42,\n",
              " 9,\n",
              " 4,\n",
              " 48,\n",
              " 96,\n",
              " 58,\n",
              " 86,\n",
              " 53,\n",
              " 81,\n",
              " 94,\n",
              " 76,\n",
              " 64,\n",
              " 84,\n",
              " 9,\n",
              " 81,\n",
              " 52,\n",
              " 49,\n",
              " 57,\n",
              " 22,\n",
              " 55,\n",
              " 73,\n",
              " 8,\n",
              " 92,\n",
              " 1,\n",
              " 11,\n",
              " 91,\n",
              " 55,\n",
              " 40,\n",
              " 83,\n",
              " 25,\n",
              " 43,\n",
              " 25,\n",
              " 78,\n",
              " 39,\n",
              " 69,\n",
              " 44,\n",
              " 91,\n",
              " 78,\n",
              " 91,\n",
              " 13,\n",
              " 90,\n",
              " 88,\n",
              " 29,\n",
              " 85,\n",
              " 77,\n",
              " 66,\n",
              " 37,\n",
              " 91,\n",
              " 84,\n",
              " 25,\n",
              " 17,\n",
              " 2,\n",
              " 18,\n",
              " 10,\n",
              " 79,\n",
              " 2,\n",
              " 29,\n",
              " 26,\n",
              " 7,\n",
              " 71,\n",
              " 76,\n",
              " 27,\n",
              " 2,\n",
              " 95,\n",
              " 26,\n",
              " 99,\n",
              " 72,\n",
              " 34,\n",
              " 17,\n",
              " 76,\n",
              " 80,\n",
              " 65,\n",
              " 51,\n",
              " 83,\n",
              " 65,\n",
              " 32,\n",
              " 99,\n",
              " 75,\n",
              " 40,\n",
              " 43,\n",
              " 70,\n",
              " 36,\n",
              " 72,\n",
              " 59,\n",
              " 23,\n",
              " 37,\n",
              " 47,\n",
              " 35,\n",
              " 48,\n",
              " 80,\n",
              " 66,\n",
              " 29,\n",
              " 75,\n",
              " 18,\n",
              " 31,\n",
              " 67,\n",
              " 59,\n",
              " 62,\n",
              " 58,\n",
              " 70,\n",
              " 12,\n",
              " 10,\n",
              " 29,\n",
              " 9,\n",
              " 99,\n",
              " 86,\n",
              " 59,\n",
              " 98,\n",
              " 42,\n",
              " 78,\n",
              " 81,\n",
              " 28,\n",
              " 18,\n",
              " 38,\n",
              " 80,\n",
              " 2,\n",
              " 44,\n",
              " 68,\n",
              " 21,\n",
              " 90,\n",
              " 65,\n",
              " 74,\n",
              " 40,\n",
              " 28,\n",
              " 88,\n",
              " 14,\n",
              " 77,\n",
              " 83,\n",
              " 28,\n",
              " 67,\n",
              " 29,\n",
              " 18,\n",
              " 71,\n",
              " 66,\n",
              " 83,\n",
              " 66,\n",
              " 36,\n",
              " 98,\n",
              " 40,\n",
              " 79,\n",
              " 61,\n",
              " 51,\n",
              " 70,\n",
              " 7,\n",
              " 78,\n",
              " 71,\n",
              " 81,\n",
              " 64,\n",
              " 39,\n",
              " 93,\n",
              " 92,\n",
              " 37,\n",
              " 16,\n",
              " 70,\n",
              " 84,\n",
              " 44,\n",
              " 31,\n",
              " 50,\n",
              " 56,\n",
              " 25,\n",
              " 82,\n",
              " 12,\n",
              " 48,\n",
              " 71,\n",
              " 80,\n",
              " 68,\n",
              " 81,\n",
              " 36,\n",
              " 69,\n",
              " 37,\n",
              " 34,\n",
              " 13,\n",
              " 36,\n",
              " 2,\n",
              " 31,\n",
              " 69,\n",
              " 3,\n",
              " 64,\n",
              " 35,\n",
              " 49,\n",
              " 66,\n",
              " 82,\n",
              " 97,\n",
              " 68,\n",
              " 90,\n",
              " 67,\n",
              " 79,\n",
              " 57,\n",
              " 21,\n",
              " 13,\n",
              " 81,\n",
              " 16,\n",
              " 47,\n",
              " 79,\n",
              " 4,\n",
              " 99,\n",
              " 62,\n",
              " 99,\n",
              " 72,\n",
              " 84,\n",
              " 98,\n",
              " 96,\n",
              " 81,\n",
              " 41,\n",
              " 23,\n",
              " 91,\n",
              " 19,\n",
              " 58,\n",
              " 52,\n",
              " 43,\n",
              " 37,\n",
              " 36,\n",
              " 14,\n",
              " 7,\n",
              " 41,\n",
              " 94,\n",
              " 24,\n",
              " 9,\n",
              " 64,\n",
              " 97,\n",
              " 53,\n",
              " 12,\n",
              " 43,\n",
              " 43,\n",
              " 57,\n",
              " 76,\n",
              " 26,\n",
              " 36,\n",
              " 60,\n",
              " 71,\n",
              " 48,\n",
              " 94,\n",
              " 1,\n",
              " 15,\n",
              " 64,\n",
              " 46,\n",
              " 6,\n",
              " 70,\n",
              " 86,\n",
              " 63,\n",
              " 44,\n",
              " 58,\n",
              " 61,\n",
              " 67,\n",
              " 88,\n",
              " 66,\n",
              " 74,\n",
              " 14,\n",
              " 68,\n",
              " 76,\n",
              " 13,\n",
              " 15,\n",
              " 70,\n",
              " 21,\n",
              " 66,\n",
              " 3,\n",
              " 33,\n",
              " 34,\n",
              " 62,\n",
              " 44,\n",
              " 66,\n",
              " 83,\n",
              " 11,\n",
              " 16,\n",
              " 68,\n",
              " 42,\n",
              " 98,\n",
              " 57,\n",
              " 21,\n",
              " 53,\n",
              " 85,\n",
              " 62,\n",
              " 45,\n",
              " 88,\n",
              " 79,\n",
              " 39,\n",
              " 89,\n",
              " 69,\n",
              " 51,\n",
              " 99,\n",
              " 71,\n",
              " 39,\n",
              " 11,\n",
              " 91,\n",
              " 51,\n",
              " 73,\n",
              " 7,\n",
              " 53,\n",
              " 89,\n",
              " 11,\n",
              " 51,\n",
              " 18,\n",
              " 99,\n",
              " 41,\n",
              " 55,\n",
              " 1,\n",
              " 57,\n",
              " 59,\n",
              " 4,\n",
              " 53,\n",
              " 84,\n",
              " 99,\n",
              " 11,\n",
              " 15,\n",
              " 31,\n",
              " 25,\n",
              " 6,\n",
              " 94,\n",
              " 23,\n",
              " 77,\n",
              " 84,\n",
              " 88,\n",
              " 85,\n",
              " 22,\n",
              " 69,\n",
              " 92,\n",
              " 64,\n",
              " 61,\n",
              " 22,\n",
              " 83,\n",
              " 46,\n",
              " 70,\n",
              " 81,\n",
              " 15,\n",
              " 17,\n",
              " 84,\n",
              " 42,\n",
              " 64,\n",
              " 9,\n",
              " 3,\n",
              " 16,\n",
              " 33,\n",
              " 50,\n",
              " 62,\n",
              " 15,\n",
              " 31,\n",
              " 82,\n",
              " 28,\n",
              " 59,\n",
              " 8,\n",
              " 3,\n",
              " 24,\n",
              " 33,\n",
              " 74,\n",
              " 8,\n",
              " 89,\n",
              " 77,\n",
              " 18,\n",
              " 67,\n",
              " 1,\n",
              " 13,\n",
              " 55,\n",
              " 71,\n",
              " 55,\n",
              " 40,\n",
              " 21,\n",
              " 73,\n",
              " 81,\n",
              " 15,\n",
              " 15,\n",
              " 31,\n",
              " 99,\n",
              " 4,\n",
              " 3,\n",
              " 12,\n",
              " 75,\n",
              " 32,\n",
              " 3,\n",
              " 2,\n",
              " 97,\n",
              " 68,\n",
              " 16,\n",
              " 67,\n",
              " 68,\n",
              " 62,\n",
              " 65,\n",
              " 82,\n",
              " 90,\n",
              " 65,\n",
              " 92,\n",
              " 58,\n",
              " 99,\n",
              " 58,\n",
              " 97,\n",
              " 83,\n",
              " 33,\n",
              " 64,\n",
              " 3,\n",
              " 89,\n",
              " 69,\n",
              " 8,\n",
              " 12,\n",
              " 59,\n",
              " 87,\n",
              " 34,\n",
              " 22,\n",
              " 22,\n",
              " 10,\n",
              " 76,\n",
              " 3,\n",
              " 88,\n",
              " 15,\n",
              " 10,\n",
              " 80,\n",
              " 50,\n",
              " 71,\n",
              " 37,\n",
              " 43,\n",
              " 23,\n",
              " 74,\n",
              " 71,\n",
              " 38,\n",
              " 4,\n",
              " 85,\n",
              " 85,\n",
              " 63,\n",
              " 79,\n",
              " 47,\n",
              " 8,\n",
              " 3,\n",
              " 1,\n",
              " 91,\n",
              " 77,\n",
              " 56,\n",
              " 61,\n",
              " 74,\n",
              " 42,\n",
              " 14,\n",
              " 86,\n",
              " 16,\n",
              " 38,\n",
              " 97,\n",
              " 47,\n",
              " 67,\n",
              " 71,\n",
              " 54,\n",
              " 23,\n",
              " 23,\n",
              " 41,\n",
              " 89,\n",
              " 27,\n",
              " 21,\n",
              " 79,\n",
              " 96,\n",
              " 81,\n",
              " 37,\n",
              " 46,\n",
              " 3,\n",
              " 67,\n",
              " 66,\n",
              " 60,\n",
              " 91,\n",
              " 62,\n",
              " 88,\n",
              " 93,\n",
              " 73,\n",
              " 84,\n",
              " 73,\n",
              " 41,\n",
              " 20,\n",
              " 32,\n",
              " 34,\n",
              " 4,\n",
              " 45,\n",
              " 62,\n",
              " 45,\n",
              " 30,\n",
              " 20,\n",
              " 85,\n",
              " 55,\n",
              " 66,\n",
              " 6,\n",
              " 64,\n",
              " 99,\n",
              " 55,\n",
              " 76,\n",
              " 57,\n",
              " 67,\n",
              " 86,\n",
              " 5,\n",
              " 14,\n",
              " 15,\n",
              " 58,\n",
              " 68,\n",
              " 63,\n",
              " 94,\n",
              " 48,\n",
              " 4,\n",
              " 46,\n",
              " 11,\n",
              " 71,\n",
              " 73,\n",
              " 44,\n",
              " 75,\n",
              " 97,\n",
              " 42,\n",
              " 10,\n",
              " 29,\n",
              " 31,\n",
              " 83,\n",
              " 23,\n",
              " 62,\n",
              " 6,\n",
              " 42,\n",
              " 96,\n",
              " 42,\n",
              " 54,\n",
              " 15,\n",
              " 84,\n",
              " 80,\n",
              " 37,\n",
              " 48,\n",
              " 98,\n",
              " 42,\n",
              " 30,\n",
              " 6,\n",
              " 68,\n",
              " 75,\n",
              " 86,\n",
              " 89,\n",
              " 94,\n",
              " 7,\n",
              " 84,\n",
              " 23,\n",
              " 63,\n",
              " 6,\n",
              " 96,\n",
              " 59,\n",
              " 86,\n",
              " 87,\n",
              " 77,\n",
              " 71,\n",
              " 46,\n",
              " 72,\n",
              " 79,\n",
              " 21,\n",
              " 7,\n",
              " 46,\n",
              " 72,\n",
              " 5,\n",
              " 52,\n",
              " 33,\n",
              " 11,\n",
              " 43,\n",
              " 52,\n",
              " 8,\n",
              " 68,\n",
              " 8,\n",
              " 77,\n",
              " 85,\n",
              " 39,\n",
              " 68,\n",
              " 24,\n",
              " 21,\n",
              " 63,\n",
              " 5,\n",
              " 43,\n",
              " 42,\n",
              " 63,\n",
              " 83,\n",
              " 40,\n",
              " 16,\n",
              " 73,\n",
              " 87,\n",
              " 36,\n",
              " 3,\n",
              " 55,\n",
              " 97,\n",
              " 32,\n",
              " 97,\n",
              " 62,\n",
              " 34,\n",
              " 47,\n",
              " 46,\n",
              " 68,\n",
              " 98,\n",
              " 92,\n",
              " 86,\n",
              " 63,\n",
              " 78,\n",
              " 70,\n",
              " 71,\n",
              " 51,\n",
              " 53,\n",
              " 33,\n",
              " 40,\n",
              " 43,\n",
              " 91,\n",
              " 28,\n",
              " 70,\n",
              " 1,\n",
              " 85,\n",
              " 33,\n",
              " 59,\n",
              " 6,\n",
              " 73,\n",
              " 69,\n",
              " 62,\n",
              " 42,\n",
              " 60,\n",
              " 36,\n",
              " 22,\n",
              " 53,\n",
              " 14,\n",
              " 58,\n",
              " 66,\n",
              " 42,\n",
              " 12,\n",
              " 95,\n",
              " 40,\n",
              " 62,\n",
              " 40,\n",
              " 75,\n",
              " 3,\n",
              " 40,\n",
              " 73,\n",
              " 81,\n",
              " 44,\n",
              " 37,\n",
              " 11,\n",
              " 52,\n",
              " 25,\n",
              " 29,\n",
              " 31,\n",
              " 50,\n",
              " 89,\n",
              " 95,\n",
              " 52,\n",
              " 89,\n",
              " 29,\n",
              " 69,\n",
              " 73,\n",
              " 2,\n",
              " 61,\n",
              " 63,\n",
              " 6,\n",
              " 4,\n",
              " 86,\n",
              " 14,\n",
              " 82,\n",
              " 10,\n",
              " 39]"
            ]
          },
          "metadata": {},
          "execution_count": 5
        }
      ]
    },
    {
      "cell_type": "markdown",
      "metadata": {
        "id": "8zWeXsU7kQa5"
      },
      "source": [
        "## **For Loop**\n",
        "\n",
        "Syntax\n",
        "```\n",
        "for variableName in listName:\n",
        "```"
      ]
    },
    {
      "cell_type": "code",
      "metadata": {
        "colab": {
          "base_uri": "https://localhost:8080/"
        },
        "id": "vwKLuZb4kGIc",
        "outputId": "9aaf2555-b76b-41b7-c022-7285d8afb6d0"
      },
      "source": [
        "# Program to iterate through list using for loop\n",
        "list = [9, 11, 13, 15, 17, 19]\n",
        "\n",
        "# For Loop to iterate through list\n",
        "for i in list:\n",
        "    print(i)"
      ],
      "execution_count": null,
      "outputs": [
        {
          "output_type": "stream",
          "name": "stdout",
          "text": [
            "9\n",
            "11\n",
            "13\n",
            "15\n",
            "17\n",
            "19\n"
          ]
        }
      ]
    },
    {
      "cell_type": "markdown",
      "metadata": {
        "id": "_9w3M-qkkZCF"
      },
      "source": [
        "## **While Loop**\n",
        "\n",
        "Syntax\n",
        "\n",
        "```\n",
        "while(condition_to_be_checked) :\n",
        "    Statement\n",
        "        UpdationExpression\n",
        "```"
      ]
    },
    {
      "cell_type": "code",
      "metadata": {
        "colab": {
          "base_uri": "https://localhost:8080/"
        },
        "id": "xQc77E3xkGFz",
        "outputId": "383373ba-4375-4cb4-b329-4874e0b5dab8"
      },
      "source": [
        "# Program to loop through the list using while loop\n",
        "list = [9, 11, 13, 15, 17, 19]\n",
        "\n",
        "# Finding length of the list\n",
        "length = len(list)\n",
        "i = 0\n",
        "\n",
        "# While Loop to iterate through list\n",
        "while i < length:\n",
        "    print(list[i])\n",
        "    i += 1"
      ],
      "execution_count": null,
      "outputs": [
        {
          "output_type": "stream",
          "name": "stdout",
          "text": [
            "9\n",
            "11\n",
            "13\n",
            "15\n",
            "17\n",
            "19\n"
          ]
        }
      ]
    },
    {
      "cell_type": "markdown",
      "metadata": {
        "id": "fBAIo3cnkrWu"
      },
      "source": [
        "## **Numpy Iterator**\n",
        "\n",
        "Syntax\n",
        "\n",
        "```\n",
        "for val in np.nditer(numpy_array):\n",
        "\tStatemnet\n",
        "```"
      ]
    },
    {
      "cell_type": "code",
      "metadata": {
        "colab": {
          "base_uri": "https://localhost:8080/"
        },
        "id": "0AQnNdEjkGDB",
        "outputId": "aa07a20d-35c9-4796-e2fb-8b1d60ed6e2c"
      },
      "source": [
        "import numpy as np\n",
        "\n",
        "x = np.arange(10)\n",
        "\n",
        "\n",
        "for n in np.nditer(x):\n",
        "    print(n)"
      ],
      "execution_count": null,
      "outputs": [
        {
          "output_type": "stream",
          "name": "stdout",
          "text": [
            "0\n",
            "1\n",
            "2\n",
            "3\n",
            "4\n",
            "5\n",
            "6\n",
            "7\n",
            "8\n",
            "9\n"
          ]
        }
      ]
    },
    {
      "cell_type": "markdown",
      "metadata": {
        "id": "Tf21Hq6Fk2-G"
      },
      "source": [
        "## **Enumerate**\n",
        "\n",
        "Syntax:\n",
        "\n",
        "```\n",
        "enumerate(iterable, start=0)\n",
        "```"
      ]
    },
    {
      "cell_type": "code",
      "metadata": {
        "id": "rxKkuGLUk7gy"
      },
      "source": [
        "list = [10, 20, 30, 40, 50, 60, 70]\n",
        "\n",
        "for i, res in enumerate(list):\n",
        "    print (i,\":\",res)"
      ],
      "execution_count": null,
      "outputs": []
    },
    {
      "cell_type": "markdown",
      "metadata": {
        "id": "Bn9F2slrlA2o"
      },
      "source": [
        "## **List Comprehension**\n",
        "\n",
        "Syntax\n",
        "\n",
        "```\n",
        "[expression for item in list]\n",
        "```"
      ]
    },
    {
      "cell_type": "code",
      "metadata": {
        "id": "IfoM4VvSkGAF"
      },
      "source": [
        "list = [10, 20, 30, 40, 50, 60, 70]\n",
        "[print(i) for i in list]"
      ],
      "execution_count": null,
      "outputs": []
    },
    {
      "cell_type": "markdown",
      "metadata": {
        "id": "r7fGJ1hVlMqI"
      },
      "source": [
        "## **Loop and Range**\n",
        "\n",
        "Syntax:\n",
        "\n",
        "```\n",
        "range(start, stop, step)\n",
        "```"
      ]
    },
    {
      "cell_type": "code",
      "metadata": {
        "id": "_EYGZH3RkF9Z"
      },
      "source": [
        "%%timeit\n",
        "\n",
        "list = [10, 20, 30, 40, 50, 60, 70] * 10000\n",
        "length = len(list)\n",
        "for x in range(length):\n",
        "    print(list[x])"
      ],
      "execution_count": null,
      "outputs": []
    },
    {
      "cell_type": "markdown",
      "metadata": {
        "id": "aIbB0iNalcqF"
      },
      "source": [
        "## **Map and Lambda**\n",
        "\n",
        "Syntax:\n",
        "\n",
        "```\n",
        "lambda arguments : expression\n",
        "\n",
        "map(function, iterables)\n",
        "```"
      ]
    },
    {
      "cell_type": "code",
      "metadata": {
        "id": "LvB6CVHvkF6X"
      },
      "source": [
        "n = [10, 20, 30, 40, 50, 60, 70]\n",
        "ans = list(map(lambda y:y, n))\n",
        "print(ans)"
      ],
      "execution_count": null,
      "outputs": []
    },
    {
      "cell_type": "code",
      "metadata": {
        "id": "ipjxJ6avkF3e"
      },
      "source": [],
      "execution_count": null,
      "outputs": []
    },
    {
      "cell_type": "markdown",
      "metadata": {
        "id": "ubj0d3gCOzGX"
      },
      "source": [
        "# **Big O Notation**\n",
        "\n",
        "* https://colab.research.google.com/gist/jonkrohn/9d8802220a065efdaa8d3000a73c403c/big-o-notation.ipynb\n",
        "\n",
        "* https://colab.research.google.com/github/jakevdp/PythonDataScienceHandbook/blob/master/notebooks/01.07-Timing-and-Profiling.ipynb\n",
        "\n",
        "* https://www.kaggle.com/ozkanozturk/big-o-notation-code-complexity-python-basics"
      ]
    },
    {
      "cell_type": "code",
      "metadata": {
        "id": "rR7kFMg3PSDT"
      },
      "source": [
        "import time"
      ],
      "execution_count": 6,
      "outputs": []
    },
    {
      "cell_type": "markdown",
      "metadata": {
        "id": "DMLnnWCbO3QA"
      },
      "source": [
        "#### Constant Time"
      ]
    },
    {
      "cell_type": "code",
      "metadata": {
        "id": "BlnfRyUwO16k"
      },
      "source": [
        "def take_first(my_list):\n",
        "  return my_list[0]"
      ],
      "execution_count": 7,
      "outputs": []
    },
    {
      "cell_type": "code",
      "metadata": {
        "id": "Y5PIzM-4WoG-"
      },
      "source": [
        "short_list = [13, 25, 42]"
      ],
      "execution_count": 8,
      "outputs": []
    },
    {
      "cell_type": "code",
      "metadata": {
        "id": "3nHVIFonMGBp"
      },
      "source": [
        "tic = time.perf_counter()\n",
        "first = take_first(short_list)\n",
        "toc = time.perf_counter()"
      ],
      "execution_count": 10,
      "outputs": []
    },
    {
      "cell_type": "code",
      "metadata": {
        "id": "_Np65K7yXPFl",
        "colab": {
          "base_uri": "https://localhost:8080/"
        },
        "outputId": "da4cf73a-6285-4ccc-b462-059704385a72"
      },
      "source": [
        "first"
      ],
      "execution_count": 11,
      "outputs": [
        {
          "output_type": "execute_result",
          "data": {
            "text/plain": [
              "13"
            ]
          },
          "metadata": {},
          "execution_count": 11
        }
      ]
    },
    {
      "cell_type": "code",
      "metadata": {
        "id": "P0owpiPEPHuL",
        "colab": {
          "base_uri": "https://localhost:8080/"
        },
        "outputId": "80fc8f2e-39c3-4dc2-fdf3-1dafe1d1e19d"
      },
      "source": [
        "toc-tic"
      ],
      "execution_count": 12,
      "outputs": [
        {
          "output_type": "execute_result",
          "data": {
            "text/plain": [
              "9.611699999823031e-05"
            ]
          },
          "metadata": {},
          "execution_count": 12
        }
      ]
    },
    {
      "cell_type": "code",
      "metadata": {
        "id": "AvyPjweCRfYB"
      },
      "source": [
        "long_list = [42] * 10**8 # one hundred million items"
      ],
      "execution_count": 13,
      "outputs": []
    },
    {
      "cell_type": "code",
      "metadata": {
        "id": "eEyXwNVBTOKq",
        "colab": {
          "base_uri": "https://localhost:8080/"
        },
        "outputId": "a75b0be4-24c2-451a-b0c4-a87d3ed12075"
      },
      "source": [
        "len(long_list)"
      ],
      "execution_count": 14,
      "outputs": [
        {
          "output_type": "execute_result",
          "data": {
            "text/plain": [
              "100000000"
            ]
          },
          "metadata": {},
          "execution_count": 14
        }
      ]
    },
    {
      "cell_type": "code",
      "metadata": {
        "id": "Q-3OdxzwRHHy"
      },
      "source": [
        "tic = time.perf_counter()\n",
        "first = take_first(long_list)\n",
        "toc = time.perf_counter()"
      ],
      "execution_count": 17,
      "outputs": []
    },
    {
      "cell_type": "code",
      "metadata": {
        "id": "eYfVVpq0XSBJ",
        "colab": {
          "base_uri": "https://localhost:8080/"
        },
        "outputId": "d7e7e096-7dd4-4e0b-ddd8-1d16407cadcb"
      },
      "source": [
        "first"
      ],
      "execution_count": 18,
      "outputs": [
        {
          "output_type": "execute_result",
          "data": {
            "text/plain": [
              "42"
            ]
          },
          "metadata": {},
          "execution_count": 18
        }
      ]
    },
    {
      "cell_type": "code",
      "metadata": {
        "id": "wKMsVOQRTbxc",
        "colab": {
          "base_uri": "https://localhost:8080/"
        },
        "outputId": "a97ebb96-9d02-4690-f2da-b3b66fd190d0"
      },
      "source": [
        "toc-tic"
      ],
      "execution_count": 19,
      "outputs": [
        {
          "output_type": "execute_result",
          "data": {
            "text/plain": [
              "9.54070000034335e-05"
            ]
          },
          "metadata": {},
          "execution_count": 19
        }
      ]
    },
    {
      "cell_type": "code",
      "metadata": {
        "id": "_7lYwANvX55t",
        "colab": {
          "base_uri": "https://localhost:8080/"
        },
        "outputId": "8419fb93-7459-4753-fb18-86655627d76f"
      },
      "source": [
        "list_lengths = [10**l for l in range(1, 8)]\n",
        "list_lengths"
      ],
      "execution_count": 20,
      "outputs": [
        {
          "output_type": "execute_result",
          "data": {
            "text/plain": [
              "[10, 100, 1000, 10000, 100000, 1000000, 10000000]"
            ]
          },
          "metadata": {},
          "execution_count": 20
        }
      ]
    },
    {
      "cell_type": "code",
      "metadata": {
        "id": "j0igW42mY4cn"
      },
      "source": [
        "constant_times = []\n",
        "\n",
        "for l in list_lengths:\n",
        "  lst = [42]*l\n",
        "\n",
        "  tic = time.perf_counter()\n",
        "  x = take_first(lst)\n",
        "  toc = time.perf_counter()\n",
        "\n",
        "  constant_times.append(toc-tic)"
      ],
      "execution_count": 22,
      "outputs": []
    },
    {
      "cell_type": "code",
      "metadata": {
        "id": "6i2ND8bCemLw"
      },
      "source": [
        "import pandas as pd"
      ],
      "execution_count": 24,
      "outputs": []
    },
    {
      "cell_type": "code",
      "metadata": {
        "id": "DuX_4N5VengR",
        "colab": {
          "base_uri": "https://localhost:8080/",
          "height": 269
        },
        "outputId": "2b0ed502-eadf-4f06-f9fe-0e8c06e4795e"
      },
      "source": [
        "constant_df = pd.DataFrame(list(zip(list_lengths, constant_times)), columns=['N', 'time'])\n",
        "constant_df"
      ],
      "execution_count": 25,
      "outputs": [
        {
          "output_type": "execute_result",
          "data": {
            "text/plain": [
              "          N          time\n",
              "0        10  2.287000e-06\n",
              "1       100  6.570000e-07\n",
              "2      1000  3.960000e-07\n",
              "3     10000  4.390000e-07\n",
              "4    100000  1.011000e-06\n",
              "5   1000000  2.694410e-04\n",
              "6  10000000  2.872840e-04"
            ],
            "text/html": [
              "\n",
              "  <div id=\"df-ceb36ac7-5f98-4e71-ba84-912d9eae3831\" class=\"colab-df-container\">\n",
              "    <div>\n",
              "<style scoped>\n",
              "    .dataframe tbody tr th:only-of-type {\n",
              "        vertical-align: middle;\n",
              "    }\n",
              "\n",
              "    .dataframe tbody tr th {\n",
              "        vertical-align: top;\n",
              "    }\n",
              "\n",
              "    .dataframe thead th {\n",
              "        text-align: right;\n",
              "    }\n",
              "</style>\n",
              "<table border=\"1\" class=\"dataframe\">\n",
              "  <thead>\n",
              "    <tr style=\"text-align: right;\">\n",
              "      <th></th>\n",
              "      <th>N</th>\n",
              "      <th>time</th>\n",
              "    </tr>\n",
              "  </thead>\n",
              "  <tbody>\n",
              "    <tr>\n",
              "      <th>0</th>\n",
              "      <td>10</td>\n",
              "      <td>2.287000e-06</td>\n",
              "    </tr>\n",
              "    <tr>\n",
              "      <th>1</th>\n",
              "      <td>100</td>\n",
              "      <td>6.570000e-07</td>\n",
              "    </tr>\n",
              "    <tr>\n",
              "      <th>2</th>\n",
              "      <td>1000</td>\n",
              "      <td>3.960000e-07</td>\n",
              "    </tr>\n",
              "    <tr>\n",
              "      <th>3</th>\n",
              "      <td>10000</td>\n",
              "      <td>4.390000e-07</td>\n",
              "    </tr>\n",
              "    <tr>\n",
              "      <th>4</th>\n",
              "      <td>100000</td>\n",
              "      <td>1.011000e-06</td>\n",
              "    </tr>\n",
              "    <tr>\n",
              "      <th>5</th>\n",
              "      <td>1000000</td>\n",
              "      <td>2.694410e-04</td>\n",
              "    </tr>\n",
              "    <tr>\n",
              "      <th>6</th>\n",
              "      <td>10000000</td>\n",
              "      <td>2.872840e-04</td>\n",
              "    </tr>\n",
              "  </tbody>\n",
              "</table>\n",
              "</div>\n",
              "    <div class=\"colab-df-buttons\">\n",
              "\n",
              "  <div class=\"colab-df-container\">\n",
              "    <button class=\"colab-df-convert\" onclick=\"convertToInteractive('df-ceb36ac7-5f98-4e71-ba84-912d9eae3831')\"\n",
              "            title=\"Convert this dataframe to an interactive table.\"\n",
              "            style=\"display:none;\">\n",
              "\n",
              "  <svg xmlns=\"http://www.w3.org/2000/svg\" height=\"24px\" viewBox=\"0 -960 960 960\">\n",
              "    <path d=\"M120-120v-720h720v720H120Zm60-500h600v-160H180v160Zm220 220h160v-160H400v160Zm0 220h160v-160H400v160ZM180-400h160v-160H180v160Zm440 0h160v-160H620v160ZM180-180h160v-160H180v160Zm440 0h160v-160H620v160Z\"/>\n",
              "  </svg>\n",
              "    </button>\n",
              "\n",
              "  <style>\n",
              "    .colab-df-container {\n",
              "      display:flex;\n",
              "      gap: 12px;\n",
              "    }\n",
              "\n",
              "    .colab-df-convert {\n",
              "      background-color: #E8F0FE;\n",
              "      border: none;\n",
              "      border-radius: 50%;\n",
              "      cursor: pointer;\n",
              "      display: none;\n",
              "      fill: #1967D2;\n",
              "      height: 32px;\n",
              "      padding: 0 0 0 0;\n",
              "      width: 32px;\n",
              "    }\n",
              "\n",
              "    .colab-df-convert:hover {\n",
              "      background-color: #E2EBFA;\n",
              "      box-shadow: 0px 1px 2px rgba(60, 64, 67, 0.3), 0px 1px 3px 1px rgba(60, 64, 67, 0.15);\n",
              "      fill: #174EA6;\n",
              "    }\n",
              "\n",
              "    .colab-df-buttons div {\n",
              "      margin-bottom: 4px;\n",
              "    }\n",
              "\n",
              "    [theme=dark] .colab-df-convert {\n",
              "      background-color: #3B4455;\n",
              "      fill: #D2E3FC;\n",
              "    }\n",
              "\n",
              "    [theme=dark] .colab-df-convert:hover {\n",
              "      background-color: #434B5C;\n",
              "      box-shadow: 0px 1px 3px 1px rgba(0, 0, 0, 0.15);\n",
              "      filter: drop-shadow(0px 1px 2px rgba(0, 0, 0, 0.3));\n",
              "      fill: #FFFFFF;\n",
              "    }\n",
              "  </style>\n",
              "\n",
              "    <script>\n",
              "      const buttonEl =\n",
              "        document.querySelector('#df-ceb36ac7-5f98-4e71-ba84-912d9eae3831 button.colab-df-convert');\n",
              "      buttonEl.style.display =\n",
              "        google.colab.kernel.accessAllowed ? 'block' : 'none';\n",
              "\n",
              "      async function convertToInteractive(key) {\n",
              "        const element = document.querySelector('#df-ceb36ac7-5f98-4e71-ba84-912d9eae3831');\n",
              "        const dataTable =\n",
              "          await google.colab.kernel.invokeFunction('convertToInteractive',\n",
              "                                                    [key], {});\n",
              "        if (!dataTable) return;\n",
              "\n",
              "        const docLinkHtml = 'Like what you see? Visit the ' +\n",
              "          '<a target=\"_blank\" href=https://colab.research.google.com/notebooks/data_table.ipynb>data table notebook</a>'\n",
              "          + ' to learn more about interactive tables.';\n",
              "        element.innerHTML = '';\n",
              "        dataTable['output_type'] = 'display_data';\n",
              "        await google.colab.output.renderOutput(dataTable, element);\n",
              "        const docLink = document.createElement('div');\n",
              "        docLink.innerHTML = docLinkHtml;\n",
              "        element.appendChild(docLink);\n",
              "      }\n",
              "    </script>\n",
              "  </div>\n",
              "\n",
              "\n",
              "    <div id=\"df-eae9e728-dd3d-402a-92fb-e8d1a5dd2f0f\">\n",
              "      <button class=\"colab-df-quickchart\" onclick=\"quickchart('df-eae9e728-dd3d-402a-92fb-e8d1a5dd2f0f')\"\n",
              "                title=\"Suggest charts\"\n",
              "                style=\"display:none;\">\n",
              "\n",
              "<svg xmlns=\"http://www.w3.org/2000/svg\" height=\"24px\"viewBox=\"0 0 24 24\"\n",
              "     width=\"24px\">\n",
              "    <g>\n",
              "        <path d=\"M19 3H5c-1.1 0-2 .9-2 2v14c0 1.1.9 2 2 2h14c1.1 0 2-.9 2-2V5c0-1.1-.9-2-2-2zM9 17H7v-7h2v7zm4 0h-2V7h2v10zm4 0h-2v-4h2v4z\"/>\n",
              "    </g>\n",
              "</svg>\n",
              "      </button>\n",
              "\n",
              "<style>\n",
              "  .colab-df-quickchart {\n",
              "      --bg-color: #E8F0FE;\n",
              "      --fill-color: #1967D2;\n",
              "      --hover-bg-color: #E2EBFA;\n",
              "      --hover-fill-color: #174EA6;\n",
              "      --disabled-fill-color: #AAA;\n",
              "      --disabled-bg-color: #DDD;\n",
              "  }\n",
              "\n",
              "  [theme=dark] .colab-df-quickchart {\n",
              "      --bg-color: #3B4455;\n",
              "      --fill-color: #D2E3FC;\n",
              "      --hover-bg-color: #434B5C;\n",
              "      --hover-fill-color: #FFFFFF;\n",
              "      --disabled-bg-color: #3B4455;\n",
              "      --disabled-fill-color: #666;\n",
              "  }\n",
              "\n",
              "  .colab-df-quickchart {\n",
              "    background-color: var(--bg-color);\n",
              "    border: none;\n",
              "    border-radius: 50%;\n",
              "    cursor: pointer;\n",
              "    display: none;\n",
              "    fill: var(--fill-color);\n",
              "    height: 32px;\n",
              "    padding: 0;\n",
              "    width: 32px;\n",
              "  }\n",
              "\n",
              "  .colab-df-quickchart:hover {\n",
              "    background-color: var(--hover-bg-color);\n",
              "    box-shadow: 0 1px 2px rgba(60, 64, 67, 0.3), 0 1px 3px 1px rgba(60, 64, 67, 0.15);\n",
              "    fill: var(--button-hover-fill-color);\n",
              "  }\n",
              "\n",
              "  .colab-df-quickchart-complete:disabled,\n",
              "  .colab-df-quickchart-complete:disabled:hover {\n",
              "    background-color: var(--disabled-bg-color);\n",
              "    fill: var(--disabled-fill-color);\n",
              "    box-shadow: none;\n",
              "  }\n",
              "\n",
              "  .colab-df-spinner {\n",
              "    border: 2px solid var(--fill-color);\n",
              "    border-color: transparent;\n",
              "    border-bottom-color: var(--fill-color);\n",
              "    animation:\n",
              "      spin 1s steps(1) infinite;\n",
              "  }\n",
              "\n",
              "  @keyframes spin {\n",
              "    0% {\n",
              "      border-color: transparent;\n",
              "      border-bottom-color: var(--fill-color);\n",
              "      border-left-color: var(--fill-color);\n",
              "    }\n",
              "    20% {\n",
              "      border-color: transparent;\n",
              "      border-left-color: var(--fill-color);\n",
              "      border-top-color: var(--fill-color);\n",
              "    }\n",
              "    30% {\n",
              "      border-color: transparent;\n",
              "      border-left-color: var(--fill-color);\n",
              "      border-top-color: var(--fill-color);\n",
              "      border-right-color: var(--fill-color);\n",
              "    }\n",
              "    40% {\n",
              "      border-color: transparent;\n",
              "      border-right-color: var(--fill-color);\n",
              "      border-top-color: var(--fill-color);\n",
              "    }\n",
              "    60% {\n",
              "      border-color: transparent;\n",
              "      border-right-color: var(--fill-color);\n",
              "    }\n",
              "    80% {\n",
              "      border-color: transparent;\n",
              "      border-right-color: var(--fill-color);\n",
              "      border-bottom-color: var(--fill-color);\n",
              "    }\n",
              "    90% {\n",
              "      border-color: transparent;\n",
              "      border-bottom-color: var(--fill-color);\n",
              "    }\n",
              "  }\n",
              "</style>\n",
              "\n",
              "      <script>\n",
              "        async function quickchart(key) {\n",
              "          const quickchartButtonEl =\n",
              "            document.querySelector('#' + key + ' button');\n",
              "          quickchartButtonEl.disabled = true;  // To prevent multiple clicks.\n",
              "          quickchartButtonEl.classList.add('colab-df-spinner');\n",
              "          try {\n",
              "            const charts = await google.colab.kernel.invokeFunction(\n",
              "                'suggestCharts', [key], {});\n",
              "          } catch (error) {\n",
              "            console.error('Error during call to suggestCharts:', error);\n",
              "          }\n",
              "          quickchartButtonEl.classList.remove('colab-df-spinner');\n",
              "          quickchartButtonEl.classList.add('colab-df-quickchart-complete');\n",
              "        }\n",
              "        (() => {\n",
              "          let quickchartButtonEl =\n",
              "            document.querySelector('#df-eae9e728-dd3d-402a-92fb-e8d1a5dd2f0f button');\n",
              "          quickchartButtonEl.style.display =\n",
              "            google.colab.kernel.accessAllowed ? 'block' : 'none';\n",
              "        })();\n",
              "      </script>\n",
              "    </div>\n",
              "\n",
              "  <div id=\"id_68c7003e-b7d7-4f32-9968-fde2a1bb2365\">\n",
              "    <style>\n",
              "      .colab-df-generate {\n",
              "        background-color: #E8F0FE;\n",
              "        border: none;\n",
              "        border-radius: 50%;\n",
              "        cursor: pointer;\n",
              "        display: none;\n",
              "        fill: #1967D2;\n",
              "        height: 32px;\n",
              "        padding: 0 0 0 0;\n",
              "        width: 32px;\n",
              "      }\n",
              "\n",
              "      .colab-df-generate:hover {\n",
              "        background-color: #E2EBFA;\n",
              "        box-shadow: 0px 1px 2px rgba(60, 64, 67, 0.3), 0px 1px 3px 1px rgba(60, 64, 67, 0.15);\n",
              "        fill: #174EA6;\n",
              "      }\n",
              "\n",
              "      [theme=dark] .colab-df-generate {\n",
              "        background-color: #3B4455;\n",
              "        fill: #D2E3FC;\n",
              "      }\n",
              "\n",
              "      [theme=dark] .colab-df-generate:hover {\n",
              "        background-color: #434B5C;\n",
              "        box-shadow: 0px 1px 3px 1px rgba(0, 0, 0, 0.15);\n",
              "        filter: drop-shadow(0px 1px 2px rgba(0, 0, 0, 0.3));\n",
              "        fill: #FFFFFF;\n",
              "      }\n",
              "    </style>\n",
              "    <button class=\"colab-df-generate\" onclick=\"generateWithVariable('constant_df')\"\n",
              "            title=\"Generate code using this dataframe.\"\n",
              "            style=\"display:none;\">\n",
              "\n",
              "  <svg xmlns=\"http://www.w3.org/2000/svg\" height=\"24px\"viewBox=\"0 0 24 24\"\n",
              "       width=\"24px\">\n",
              "    <path d=\"M7,19H8.4L18.45,9,17,7.55,7,17.6ZM5,21V16.75L18.45,3.32a2,2,0,0,1,2.83,0l1.4,1.43a1.91,1.91,0,0,1,.58,1.4,1.91,1.91,0,0,1-.58,1.4L9.25,21ZM18.45,9,17,7.55Zm-12,3A5.31,5.31,0,0,0,4.9,8.1,5.31,5.31,0,0,0,1,6.5,5.31,5.31,0,0,0,4.9,4.9,5.31,5.31,0,0,0,6.5,1,5.31,5.31,0,0,0,8.1,4.9,5.31,5.31,0,0,0,12,6.5,5.46,5.46,0,0,0,6.5,12Z\"/>\n",
              "  </svg>\n",
              "    </button>\n",
              "    <script>\n",
              "      (() => {\n",
              "      const buttonEl =\n",
              "        document.querySelector('#id_68c7003e-b7d7-4f32-9968-fde2a1bb2365 button.colab-df-generate');\n",
              "      buttonEl.style.display =\n",
              "        google.colab.kernel.accessAllowed ? 'block' : 'none';\n",
              "\n",
              "      buttonEl.onclick = () => {\n",
              "        google.colab.notebook.generateWithVariable('constant_df');\n",
              "      }\n",
              "      })();\n",
              "    </script>\n",
              "  </div>\n",
              "\n",
              "    </div>\n",
              "  </div>\n"
            ],
            "application/vnd.google.colaboratory.intrinsic+json": {
              "type": "dataframe",
              "variable_name": "constant_df",
              "summary": "{\n  \"name\": \"constant_df\",\n  \"rows\": 7,\n  \"fields\": [\n    {\n      \"column\": \"N\",\n      \"properties\": {\n        \"dtype\": \"number\",\n        \"std\": 3727676,\n        \"min\": 10,\n        \"max\": 10000000,\n        \"num_unique_values\": 7,\n        \"samples\": [\n          10,\n          100,\n          1000000\n        ],\n        \"semantic_type\": \"\",\n        \"description\": \"\"\n      }\n    },\n    {\n      \"column\": \"time\",\n      \"properties\": {\n        \"dtype\": \"number\",\n        \"std\": 0.00013545900665970655,\n        \"min\": 3.9599996171091334e-07,\n        \"max\": 0.0002872839999668031,\n        \"num_unique_values\": 7,\n        \"samples\": [\n          2.286999972511694e-06,\n          6.570000437022827e-07,\n          0.00026944100000036997\n        ],\n        \"semantic_type\": \"\",\n        \"description\": \"\"\n      }\n    }\n  ]\n}"
            }
          },
          "metadata": {},
          "execution_count": 25
        }
      ]
    },
    {
      "cell_type": "markdown",
      "metadata": {
        "id": "2ACF9H30UUEl"
      },
      "source": [
        "#### Linear Time"
      ]
    },
    {
      "cell_type": "code",
      "metadata": {
        "id": "2CnMr4wwV2Oj"
      },
      "source": [
        "def find_max(my_list):\n",
        "  max_value = my_list[0]\n",
        "  for i in range(len(my_list)):\n",
        "    if my_list[i] > max_value:\n",
        "      max_value = my_list[i]\n",
        "  return max_value"
      ],
      "execution_count": 27,
      "outputs": []
    },
    {
      "cell_type": "code",
      "metadata": {
        "id": "-q39XMCyTci3"
      },
      "source": [
        "tic = time.perf_counter()\n",
        "largest = find_max(short_list)\n",
        "toc = time.perf_counter()"
      ],
      "execution_count": 29,
      "outputs": []
    },
    {
      "cell_type": "code",
      "metadata": {
        "id": "2lWTIzxoXlPc",
        "colab": {
          "base_uri": "https://localhost:8080/"
        },
        "outputId": "47d0a6e6-dec9-4c81-8c54-b034596e5b63"
      },
      "source": [
        "largest"
      ],
      "execution_count": 30,
      "outputs": [
        {
          "output_type": "execute_result",
          "data": {
            "text/plain": [
              "42"
            ]
          },
          "metadata": {},
          "execution_count": 30
        }
      ]
    },
    {
      "cell_type": "code",
      "metadata": {
        "id": "LAspDSQwX2t_",
        "colab": {
          "base_uri": "https://localhost:8080/"
        },
        "outputId": "043d8679-19f7-4ded-eae8-e4a291a0694e"
      },
      "source": [
        "toc-tic"
      ],
      "execution_count": 31,
      "outputs": [
        {
          "output_type": "execute_result",
          "data": {
            "text/plain": [
              "0.00011844900001278802"
            ]
          },
          "metadata": {},
          "execution_count": 31
        }
      ]
    },
    {
      "cell_type": "code",
      "metadata": {
        "id": "kJnXPyMbbpoF"
      },
      "source": [
        "tic = time.perf_counter()\n",
        "largest = find_max(long_list)\n",
        "toc = time.perf_counter()"
      ],
      "execution_count": 33,
      "outputs": []
    },
    {
      "cell_type": "code",
      "metadata": {
        "id": "_PIJp3c4bx1t",
        "colab": {
          "base_uri": "https://localhost:8080/",
          "height": 34
        },
        "outputId": "9c49928b-82b8-4806-ef25-7a5922f92b75"
      },
      "source": [
        "largest"
      ],
      "execution_count": null,
      "outputs": [
        {
          "output_type": "execute_result",
          "data": {
            "text/plain": [
              "42"
            ]
          },
          "metadata": {
            "tags": []
          },
          "execution_count": 21
        }
      ]
    },
    {
      "cell_type": "code",
      "metadata": {
        "id": "RlrrPljvbyhm",
        "colab": {
          "base_uri": "https://localhost:8080/",
          "height": 34
        },
        "outputId": "2fcffab1-1175-44b1-9906-ac5a91414adb"
      },
      "source": [
        "toc-tic"
      ],
      "execution_count": null,
      "outputs": [
        {
          "output_type": "execute_result",
          "data": {
            "text/plain": [
              "5.187785999999999"
            ]
          },
          "metadata": {
            "tags": []
          },
          "execution_count": 22
        }
      ]
    },
    {
      "cell_type": "code",
      "metadata": {
        "id": "fmtWD8C6bK0z"
      },
      "source": [
        "linear_times = []\n",
        "\n",
        "for l in list_lengths:\n",
        "  lst = [42]*l\n",
        "\n",
        "  tic = time.perf_counter()\n",
        "  x = find_max(lst)\n",
        "  toc = time.perf_counter()\n",
        "\n",
        "  linear_times.append(toc-tic)"
      ],
      "execution_count": 35,
      "outputs": []
    },
    {
      "cell_type": "code",
      "metadata": {
        "id": "_fdLU4f5d-n1",
        "colab": {
          "base_uri": "https://localhost:8080/",
          "height": 269
        },
        "outputId": "a2d219b1-d743-4250-a2cc-1feff58d7842"
      },
      "source": [
        "linear_df = pd.DataFrame(list(zip(list_lengths, linear_times)), columns=['N', 'time'])\n",
        "linear_df"
      ],
      "execution_count": 36,
      "outputs": [
        {
          "output_type": "execute_result",
          "data": {
            "text/plain": [
              "          N      time\n",
              "0        10  0.000003\n",
              "1       100  0.000003\n",
              "2      1000  0.000036\n",
              "3     10000  0.000395\n",
              "4    100000  0.004997\n",
              "5   1000000  0.042177\n",
              "6  10000000  0.416937"
            ],
            "text/html": [
              "\n",
              "  <div id=\"df-988a169e-a0c4-4b38-b893-83f421cea675\" class=\"colab-df-container\">\n",
              "    <div>\n",
              "<style scoped>\n",
              "    .dataframe tbody tr th:only-of-type {\n",
              "        vertical-align: middle;\n",
              "    }\n",
              "\n",
              "    .dataframe tbody tr th {\n",
              "        vertical-align: top;\n",
              "    }\n",
              "\n",
              "    .dataframe thead th {\n",
              "        text-align: right;\n",
              "    }\n",
              "</style>\n",
              "<table border=\"1\" class=\"dataframe\">\n",
              "  <thead>\n",
              "    <tr style=\"text-align: right;\">\n",
              "      <th></th>\n",
              "      <th>N</th>\n",
              "      <th>time</th>\n",
              "    </tr>\n",
              "  </thead>\n",
              "  <tbody>\n",
              "    <tr>\n",
              "      <th>0</th>\n",
              "      <td>10</td>\n",
              "      <td>0.000003</td>\n",
              "    </tr>\n",
              "    <tr>\n",
              "      <th>1</th>\n",
              "      <td>100</td>\n",
              "      <td>0.000003</td>\n",
              "    </tr>\n",
              "    <tr>\n",
              "      <th>2</th>\n",
              "      <td>1000</td>\n",
              "      <td>0.000036</td>\n",
              "    </tr>\n",
              "    <tr>\n",
              "      <th>3</th>\n",
              "      <td>10000</td>\n",
              "      <td>0.000395</td>\n",
              "    </tr>\n",
              "    <tr>\n",
              "      <th>4</th>\n",
              "      <td>100000</td>\n",
              "      <td>0.004997</td>\n",
              "    </tr>\n",
              "    <tr>\n",
              "      <th>5</th>\n",
              "      <td>1000000</td>\n",
              "      <td>0.042177</td>\n",
              "    </tr>\n",
              "    <tr>\n",
              "      <th>6</th>\n",
              "      <td>10000000</td>\n",
              "      <td>0.416937</td>\n",
              "    </tr>\n",
              "  </tbody>\n",
              "</table>\n",
              "</div>\n",
              "    <div class=\"colab-df-buttons\">\n",
              "\n",
              "  <div class=\"colab-df-container\">\n",
              "    <button class=\"colab-df-convert\" onclick=\"convertToInteractive('df-988a169e-a0c4-4b38-b893-83f421cea675')\"\n",
              "            title=\"Convert this dataframe to an interactive table.\"\n",
              "            style=\"display:none;\">\n",
              "\n",
              "  <svg xmlns=\"http://www.w3.org/2000/svg\" height=\"24px\" viewBox=\"0 -960 960 960\">\n",
              "    <path d=\"M120-120v-720h720v720H120Zm60-500h600v-160H180v160Zm220 220h160v-160H400v160Zm0 220h160v-160H400v160ZM180-400h160v-160H180v160Zm440 0h160v-160H620v160ZM180-180h160v-160H180v160Zm440 0h160v-160H620v160Z\"/>\n",
              "  </svg>\n",
              "    </button>\n",
              "\n",
              "  <style>\n",
              "    .colab-df-container {\n",
              "      display:flex;\n",
              "      gap: 12px;\n",
              "    }\n",
              "\n",
              "    .colab-df-convert {\n",
              "      background-color: #E8F0FE;\n",
              "      border: none;\n",
              "      border-radius: 50%;\n",
              "      cursor: pointer;\n",
              "      display: none;\n",
              "      fill: #1967D2;\n",
              "      height: 32px;\n",
              "      padding: 0 0 0 0;\n",
              "      width: 32px;\n",
              "    }\n",
              "\n",
              "    .colab-df-convert:hover {\n",
              "      background-color: #E2EBFA;\n",
              "      box-shadow: 0px 1px 2px rgba(60, 64, 67, 0.3), 0px 1px 3px 1px rgba(60, 64, 67, 0.15);\n",
              "      fill: #174EA6;\n",
              "    }\n",
              "\n",
              "    .colab-df-buttons div {\n",
              "      margin-bottom: 4px;\n",
              "    }\n",
              "\n",
              "    [theme=dark] .colab-df-convert {\n",
              "      background-color: #3B4455;\n",
              "      fill: #D2E3FC;\n",
              "    }\n",
              "\n",
              "    [theme=dark] .colab-df-convert:hover {\n",
              "      background-color: #434B5C;\n",
              "      box-shadow: 0px 1px 3px 1px rgba(0, 0, 0, 0.15);\n",
              "      filter: drop-shadow(0px 1px 2px rgba(0, 0, 0, 0.3));\n",
              "      fill: #FFFFFF;\n",
              "    }\n",
              "  </style>\n",
              "\n",
              "    <script>\n",
              "      const buttonEl =\n",
              "        document.querySelector('#df-988a169e-a0c4-4b38-b893-83f421cea675 button.colab-df-convert');\n",
              "      buttonEl.style.display =\n",
              "        google.colab.kernel.accessAllowed ? 'block' : 'none';\n",
              "\n",
              "      async function convertToInteractive(key) {\n",
              "        const element = document.querySelector('#df-988a169e-a0c4-4b38-b893-83f421cea675');\n",
              "        const dataTable =\n",
              "          await google.colab.kernel.invokeFunction('convertToInteractive',\n",
              "                                                    [key], {});\n",
              "        if (!dataTable) return;\n",
              "\n",
              "        const docLinkHtml = 'Like what you see? Visit the ' +\n",
              "          '<a target=\"_blank\" href=https://colab.research.google.com/notebooks/data_table.ipynb>data table notebook</a>'\n",
              "          + ' to learn more about interactive tables.';\n",
              "        element.innerHTML = '';\n",
              "        dataTable['output_type'] = 'display_data';\n",
              "        await google.colab.output.renderOutput(dataTable, element);\n",
              "        const docLink = document.createElement('div');\n",
              "        docLink.innerHTML = docLinkHtml;\n",
              "        element.appendChild(docLink);\n",
              "      }\n",
              "    </script>\n",
              "  </div>\n",
              "\n",
              "\n",
              "    <div id=\"df-3285ccc5-c322-4251-a286-1658312f7512\">\n",
              "      <button class=\"colab-df-quickchart\" onclick=\"quickchart('df-3285ccc5-c322-4251-a286-1658312f7512')\"\n",
              "                title=\"Suggest charts\"\n",
              "                style=\"display:none;\">\n",
              "\n",
              "<svg xmlns=\"http://www.w3.org/2000/svg\" height=\"24px\"viewBox=\"0 0 24 24\"\n",
              "     width=\"24px\">\n",
              "    <g>\n",
              "        <path d=\"M19 3H5c-1.1 0-2 .9-2 2v14c0 1.1.9 2 2 2h14c1.1 0 2-.9 2-2V5c0-1.1-.9-2-2-2zM9 17H7v-7h2v7zm4 0h-2V7h2v10zm4 0h-2v-4h2v4z\"/>\n",
              "    </g>\n",
              "</svg>\n",
              "      </button>\n",
              "\n",
              "<style>\n",
              "  .colab-df-quickchart {\n",
              "      --bg-color: #E8F0FE;\n",
              "      --fill-color: #1967D2;\n",
              "      --hover-bg-color: #E2EBFA;\n",
              "      --hover-fill-color: #174EA6;\n",
              "      --disabled-fill-color: #AAA;\n",
              "      --disabled-bg-color: #DDD;\n",
              "  }\n",
              "\n",
              "  [theme=dark] .colab-df-quickchart {\n",
              "      --bg-color: #3B4455;\n",
              "      --fill-color: #D2E3FC;\n",
              "      --hover-bg-color: #434B5C;\n",
              "      --hover-fill-color: #FFFFFF;\n",
              "      --disabled-bg-color: #3B4455;\n",
              "      --disabled-fill-color: #666;\n",
              "  }\n",
              "\n",
              "  .colab-df-quickchart {\n",
              "    background-color: var(--bg-color);\n",
              "    border: none;\n",
              "    border-radius: 50%;\n",
              "    cursor: pointer;\n",
              "    display: none;\n",
              "    fill: var(--fill-color);\n",
              "    height: 32px;\n",
              "    padding: 0;\n",
              "    width: 32px;\n",
              "  }\n",
              "\n",
              "  .colab-df-quickchart:hover {\n",
              "    background-color: var(--hover-bg-color);\n",
              "    box-shadow: 0 1px 2px rgba(60, 64, 67, 0.3), 0 1px 3px 1px rgba(60, 64, 67, 0.15);\n",
              "    fill: var(--button-hover-fill-color);\n",
              "  }\n",
              "\n",
              "  .colab-df-quickchart-complete:disabled,\n",
              "  .colab-df-quickchart-complete:disabled:hover {\n",
              "    background-color: var(--disabled-bg-color);\n",
              "    fill: var(--disabled-fill-color);\n",
              "    box-shadow: none;\n",
              "  }\n",
              "\n",
              "  .colab-df-spinner {\n",
              "    border: 2px solid var(--fill-color);\n",
              "    border-color: transparent;\n",
              "    border-bottom-color: var(--fill-color);\n",
              "    animation:\n",
              "      spin 1s steps(1) infinite;\n",
              "  }\n",
              "\n",
              "  @keyframes spin {\n",
              "    0% {\n",
              "      border-color: transparent;\n",
              "      border-bottom-color: var(--fill-color);\n",
              "      border-left-color: var(--fill-color);\n",
              "    }\n",
              "    20% {\n",
              "      border-color: transparent;\n",
              "      border-left-color: var(--fill-color);\n",
              "      border-top-color: var(--fill-color);\n",
              "    }\n",
              "    30% {\n",
              "      border-color: transparent;\n",
              "      border-left-color: var(--fill-color);\n",
              "      border-top-color: var(--fill-color);\n",
              "      border-right-color: var(--fill-color);\n",
              "    }\n",
              "    40% {\n",
              "      border-color: transparent;\n",
              "      border-right-color: var(--fill-color);\n",
              "      border-top-color: var(--fill-color);\n",
              "    }\n",
              "    60% {\n",
              "      border-color: transparent;\n",
              "      border-right-color: var(--fill-color);\n",
              "    }\n",
              "    80% {\n",
              "      border-color: transparent;\n",
              "      border-right-color: var(--fill-color);\n",
              "      border-bottom-color: var(--fill-color);\n",
              "    }\n",
              "    90% {\n",
              "      border-color: transparent;\n",
              "      border-bottom-color: var(--fill-color);\n",
              "    }\n",
              "  }\n",
              "</style>\n",
              "\n",
              "      <script>\n",
              "        async function quickchart(key) {\n",
              "          const quickchartButtonEl =\n",
              "            document.querySelector('#' + key + ' button');\n",
              "          quickchartButtonEl.disabled = true;  // To prevent multiple clicks.\n",
              "          quickchartButtonEl.classList.add('colab-df-spinner');\n",
              "          try {\n",
              "            const charts = await google.colab.kernel.invokeFunction(\n",
              "                'suggestCharts', [key], {});\n",
              "          } catch (error) {\n",
              "            console.error('Error during call to suggestCharts:', error);\n",
              "          }\n",
              "          quickchartButtonEl.classList.remove('colab-df-spinner');\n",
              "          quickchartButtonEl.classList.add('colab-df-quickchart-complete');\n",
              "        }\n",
              "        (() => {\n",
              "          let quickchartButtonEl =\n",
              "            document.querySelector('#df-3285ccc5-c322-4251-a286-1658312f7512 button');\n",
              "          quickchartButtonEl.style.display =\n",
              "            google.colab.kernel.accessAllowed ? 'block' : 'none';\n",
              "        })();\n",
              "      </script>\n",
              "    </div>\n",
              "\n",
              "  <div id=\"id_dd885d29-0342-44d0-ade6-99f724b8faef\">\n",
              "    <style>\n",
              "      .colab-df-generate {\n",
              "        background-color: #E8F0FE;\n",
              "        border: none;\n",
              "        border-radius: 50%;\n",
              "        cursor: pointer;\n",
              "        display: none;\n",
              "        fill: #1967D2;\n",
              "        height: 32px;\n",
              "        padding: 0 0 0 0;\n",
              "        width: 32px;\n",
              "      }\n",
              "\n",
              "      .colab-df-generate:hover {\n",
              "        background-color: #E2EBFA;\n",
              "        box-shadow: 0px 1px 2px rgba(60, 64, 67, 0.3), 0px 1px 3px 1px rgba(60, 64, 67, 0.15);\n",
              "        fill: #174EA6;\n",
              "      }\n",
              "\n",
              "      [theme=dark] .colab-df-generate {\n",
              "        background-color: #3B4455;\n",
              "        fill: #D2E3FC;\n",
              "      }\n",
              "\n",
              "      [theme=dark] .colab-df-generate:hover {\n",
              "        background-color: #434B5C;\n",
              "        box-shadow: 0px 1px 3px 1px rgba(0, 0, 0, 0.15);\n",
              "        filter: drop-shadow(0px 1px 2px rgba(0, 0, 0, 0.3));\n",
              "        fill: #FFFFFF;\n",
              "      }\n",
              "    </style>\n",
              "    <button class=\"colab-df-generate\" onclick=\"generateWithVariable('linear_df')\"\n",
              "            title=\"Generate code using this dataframe.\"\n",
              "            style=\"display:none;\">\n",
              "\n",
              "  <svg xmlns=\"http://www.w3.org/2000/svg\" height=\"24px\"viewBox=\"0 0 24 24\"\n",
              "       width=\"24px\">\n",
              "    <path d=\"M7,19H8.4L18.45,9,17,7.55,7,17.6ZM5,21V16.75L18.45,3.32a2,2,0,0,1,2.83,0l1.4,1.43a1.91,1.91,0,0,1,.58,1.4,1.91,1.91,0,0,1-.58,1.4L9.25,21ZM18.45,9,17,7.55Zm-12,3A5.31,5.31,0,0,0,4.9,8.1,5.31,5.31,0,0,0,1,6.5,5.31,5.31,0,0,0,4.9,4.9,5.31,5.31,0,0,0,6.5,1,5.31,5.31,0,0,0,8.1,4.9,5.31,5.31,0,0,0,12,6.5,5.46,5.46,0,0,0,6.5,12Z\"/>\n",
              "  </svg>\n",
              "    </button>\n",
              "    <script>\n",
              "      (() => {\n",
              "      const buttonEl =\n",
              "        document.querySelector('#id_dd885d29-0342-44d0-ade6-99f724b8faef button.colab-df-generate');\n",
              "      buttonEl.style.display =\n",
              "        google.colab.kernel.accessAllowed ? 'block' : 'none';\n",
              "\n",
              "      buttonEl.onclick = () => {\n",
              "        google.colab.notebook.generateWithVariable('linear_df');\n",
              "      }\n",
              "      })();\n",
              "    </script>\n",
              "  </div>\n",
              "\n",
              "    </div>\n",
              "  </div>\n"
            ],
            "application/vnd.google.colaboratory.intrinsic+json": {
              "type": "dataframe",
              "variable_name": "linear_df",
              "summary": "{\n  \"name\": \"linear_df\",\n  \"rows\": 7,\n  \"fields\": [\n    {\n      \"column\": \"N\",\n      \"properties\": {\n        \"dtype\": \"number\",\n        \"std\": 3727676,\n        \"min\": 10,\n        \"max\": 10000000,\n        \"num_unique_values\": 7,\n        \"samples\": [\n          10,\n          100,\n          1000000\n        ],\n        \"semantic_type\": \"\",\n        \"description\": \"\"\n      }\n    },\n    {\n      \"column\": \"time\",\n      \"properties\": {\n        \"dtype\": \"number\",\n        \"std\": 0.15535491016313122,\n        \"min\": 2.68900004130046e-06,\n        \"max\": 0.416936512999996,\n        \"num_unique_values\": 7,\n        \"samples\": [\n          2.68900004130046e-06,\n          3.416999959426903e-06,\n          0.04217672100003256\n        ],\n        \"semantic_type\": \"\",\n        \"description\": \"\"\n      }\n    }\n  ]\n}"
            }
          },
          "metadata": {},
          "execution_count": 36
        }
      ]
    },
    {
      "cell_type": "code",
      "metadata": {
        "id": "BY5mPpYWfCxj"
      },
      "source": [
        "import seaborn as sns"
      ],
      "execution_count": 37,
      "outputs": []
    },
    {
      "cell_type": "code",
      "metadata": {
        "id": "eA_6v8hreSpH",
        "colab": {
          "base_uri": "https://localhost:8080/",
          "height": 369
        },
        "outputId": "a466d8c3-d0a4-43ff-8205-440573720103"
      },
      "source": [
        "_ = sns.lmplot(x='N', y='time', data=linear_df, ci=None)"
      ],
      "execution_count": null,
      "outputs": [
        {
          "output_type": "display_data",
          "data": {
            "image/png": "[encoded data removed]",
            "text/plain": [
              "<Figure size 360x360 with 1 Axes>"
            ]
          },
          "metadata": {
            "tags": []
          }
        }
      ]
    },
    {
      "cell_type": "markdown",
      "metadata": {
        "id": "8S7JZLW7UbBz"
      },
      "source": [
        "#### Polynomial Time"
      ]
    },
    {
      "cell_type": "code",
      "metadata": {
        "id": "cXQMBEPlplpZ"
      },
      "source": [
        "def element_multiplier(my_list):\n",
        "  for i in range(len(my_list)):\n",
        "    for j in range(len(my_list)):\n",
        "      x = my_list[i] * my_list[j]"
      ],
      "execution_count": 38,
      "outputs": []
    },
    {
      "cell_type": "code",
      "metadata": {
        "id": "0h1VeAaSqYNv",
        "colab": {
          "base_uri": "https://localhost:8080/"
        },
        "outputId": "2d64e461-a55d-45bf-8857-31657719311f"
      },
      "source": [
        "list_lengths"
      ],
      "execution_count": 39,
      "outputs": [
        {
          "output_type": "execute_result",
          "data": {
            "text/plain": [
              "[10, 100, 1000, 10000, 100000, 1000000, 10000000]"
            ]
          },
          "metadata": {},
          "execution_count": 39
        }
      ]
    },
    {
      "cell_type": "code",
      "metadata": {
        "id": "5OlX1YyirN48",
        "colab": {
          "base_uri": "https://localhost:8080/"
        },
        "outputId": "bc0c5015-6b6b-4011-9751-bef521be8d96"
      },
      "source": [
        "list_lengths[:4] # compute time gets annoyingly long from list_lengths[5] onward"
      ],
      "execution_count": 40,
      "outputs": [
        {
          "output_type": "execute_result",
          "data": {
            "text/plain": [
              "[10, 100, 1000, 10000]"
            ]
          },
          "metadata": {},
          "execution_count": 40
        }
      ]
    },
    {
      "cell_type": "code",
      "metadata": {
        "id": "6j6cAuMltFqW",
        "colab": {
          "base_uri": "https://localhost:8080/"
        },
        "outputId": "3038d640-2573-41ac-bd6c-e68a20c5d845"
      },
      "source": [
        "granular_list_lengths = list_lengths[:4] + [50, 500, 5000]\n",
        "granular_list_lengths"
      ],
      "execution_count": 41,
      "outputs": [
        {
          "output_type": "execute_result",
          "data": {
            "text/plain": [
              "[10, 100, 1000, 10000, 50, 500, 5000]"
            ]
          },
          "metadata": {},
          "execution_count": 41
        }
      ]
    },
    {
      "cell_type": "code",
      "metadata": {
        "id": "YPDXf8DVtYyk"
      },
      "source": [
        "granular_list_lengths.sort()"
      ],
      "execution_count": 42,
      "outputs": []
    },
    {
      "cell_type": "code",
      "metadata": {
        "id": "v0hlQ1bEtdA7",
        "colab": {
          "base_uri": "https://localhost:8080/"
        },
        "outputId": "1be6c2c2-aa8b-4b48-a99f-81afcc59ed1a"
      },
      "source": [
        "granular_list_lengths"
      ],
      "execution_count": 43,
      "outputs": [
        {
          "output_type": "execute_result",
          "data": {
            "text/plain": [
              "[10, 50, 100, 500, 1000, 5000, 10000]"
            ]
          },
          "metadata": {},
          "execution_count": 43
        }
      ]
    },
    {
      "cell_type": "code",
      "metadata": {
        "id": "M7TmUgtrrSJR"
      },
      "source": [
        "poly_times = []\n",
        "\n",
        "for l in granular_list_lengths:\n",
        "  lst = [42]*l\n",
        "\n",
        "  tic = time.perf_counter()\n",
        "  x = element_multiplier(lst)\n",
        "  toc = time.perf_counter()\n",
        "\n",
        "  poly_times.append(toc-tic)"
      ],
      "execution_count": 47,
      "outputs": []
    },
    {
      "cell_type": "code",
      "metadata": {
        "id": "iFaVujgXrsKz",
        "colab": {
          "base_uri": "https://localhost:8080/",
          "height": 269
        },
        "outputId": "b0bf113a-85f6-4567-ab92-ccb1fd2ff10d"
      },
      "source": [
        "poly_df = pd.DataFrame(list(zip(granular_list_lengths, poly_times)), columns=['N', 'time'])\n",
        "poly_df"
      ],
      "execution_count": 48,
      "outputs": [
        {
          "output_type": "execute_result",
          "data": {
            "text/plain": [
              "       N      time\n",
              "0     10  0.000014\n",
              "1     50  0.000213\n",
              "2    100  0.009518\n",
              "3    500  0.088601\n",
              "4   1000  0.438167\n",
              "5   5000  3.826275\n",
              "6  10000  6.278345"
            ],
            "text/html": [
              "\n",
              "  <div id=\"df-139b3316-0e9f-4581-9de6-7334d6c977b3\" class=\"colab-df-container\">\n",
              "    <div>\n",
              "<style scoped>\n",
              "    .dataframe tbody tr th:only-of-type {\n",
              "        vertical-align: middle;\n",
              "    }\n",
              "\n",
              "    .dataframe tbody tr th {\n",
              "        vertical-align: top;\n",
              "    }\n",
              "\n",
              "    .dataframe thead th {\n",
              "        text-align: right;\n",
              "    }\n",
              "</style>\n",
              "<table border=\"1\" class=\"dataframe\">\n",
              "  <thead>\n",
              "    <tr style=\"text-align: right;\">\n",
              "      <th></th>\n",
              "      <th>N</th>\n",
              "      <th>time</th>\n",
              "    </tr>\n",
              "  </thead>\n",
              "  <tbody>\n",
              "    <tr>\n",
              "      <th>0</th>\n",
              "      <td>10</td>\n",
              "      <td>0.000014</td>\n",
              "    </tr>\n",
              "    <tr>\n",
              "      <th>1</th>\n",
              "      <td>50</td>\n",
              "      <td>0.000213</td>\n",
              "    </tr>\n",
              "    <tr>\n",
              "      <th>2</th>\n",
              "      <td>100</td>\n",
              "      <td>0.009518</td>\n",
              "    </tr>\n",
              "    <tr>\n",
              "      <th>3</th>\n",
              "      <td>500</td>\n",
              "      <td>0.088601</td>\n",
              "    </tr>\n",
              "    <tr>\n",
              "      <th>4</th>\n",
              "      <td>1000</td>\n",
              "      <td>0.438167</td>\n",
              "    </tr>\n",
              "    <tr>\n",
              "      <th>5</th>\n",
              "      <td>5000</td>\n",
              "      <td>3.826275</td>\n",
              "    </tr>\n",
              "    <tr>\n",
              "      <th>6</th>\n",
              "      <td>10000</td>\n",
              "      <td>6.278345</td>\n",
              "    </tr>\n",
              "  </tbody>\n",
              "</table>\n",
              "</div>\n",
              "    <div class=\"colab-df-buttons\">\n",
              "\n",
              "  <div class=\"colab-df-container\">\n",
              "    <button class=\"colab-df-convert\" onclick=\"convertToInteractive('df-139b3316-0e9f-4581-9de6-7334d6c977b3')\"\n",
              "            title=\"Convert this dataframe to an interactive table.\"\n",
              "            style=\"display:none;\">\n",
              "\n",
              "  <svg xmlns=\"http://www.w3.org/2000/svg\" height=\"24px\" viewBox=\"0 -960 960 960\">\n",
              "    <path d=\"M120-120v-720h720v720H120Zm60-500h600v-160H180v160Zm220 220h160v-160H400v160Zm0 220h160v-160H400v160ZM180-400h160v-160H180v160Zm440 0h160v-160H620v160ZM180-180h160v-160H180v160Zm440 0h160v-160H620v160Z\"/>\n",
              "  </svg>\n",
              "    </button>\n",
              "\n",
              "  <style>\n",
              "    .colab-df-container {\n",
              "      display:flex;\n",
              "      gap: 12px;\n",
              "    }\n",
              "\n",
              "    .colab-df-convert {\n",
              "      background-color: #E8F0FE;\n",
              "      border: none;\n",
              "      border-radius: 50%;\n",
              "      cursor: pointer;\n",
              "      display: none;\n",
              "      fill: #1967D2;\n",
              "      height: 32px;\n",
              "      padding: 0 0 0 0;\n",
              "      width: 32px;\n",
              "    }\n",
              "\n",
              "    .colab-df-convert:hover {\n",
              "      background-color: #E2EBFA;\n",
              "      box-shadow: 0px 1px 2px rgba(60, 64, 67, 0.3), 0px 1px 3px 1px rgba(60, 64, 67, 0.15);\n",
              "      fill: #174EA6;\n",
              "    }\n",
              "\n",
              "    .colab-df-buttons div {\n",
              "      margin-bottom: 4px;\n",
              "    }\n",
              "\n",
              "    [theme=dark] .colab-df-convert {\n",
              "      background-color: #3B4455;\n",
              "      fill: #D2E3FC;\n",
              "    }\n",
              "\n",
              "    [theme=dark] .colab-df-convert:hover {\n",
              "      background-color: #434B5C;\n",
              "      box-shadow: 0px 1px 3px 1px rgba(0, 0, 0, 0.15);\n",
              "      filter: drop-shadow(0px 1px 2px rgba(0, 0, 0, 0.3));\n",
              "      fill: #FFFFFF;\n",
              "    }\n",
              "  </style>\n",
              "\n",
              "    <script>\n",
              "      const buttonEl =\n",
              "        document.querySelector('#df-139b3316-0e9f-4581-9de6-7334d6c977b3 button.colab-df-convert');\n",
              "      buttonEl.style.display =\n",
              "        google.colab.kernel.accessAllowed ? 'block' : 'none';\n",
              "\n",
              "      async function convertToInteractive(key) {\n",
              "        const element = document.querySelector('#df-139b3316-0e9f-4581-9de6-7334d6c977b3');\n",
              "        const dataTable =\n",
              "          await google.colab.kernel.invokeFunction('convertToInteractive',\n",
              "                                                    [key], {});\n",
              "        if (!dataTable) return;\n",
              "\n",
              "        const docLinkHtml = 'Like what you see? Visit the ' +\n",
              "          '<a target=\"_blank\" href=https://colab.research.google.com/notebooks/data_table.ipynb>data table notebook</a>'\n",
              "          + ' to learn more about interactive tables.';\n",
              "        element.innerHTML = '';\n",
              "        dataTable['output_type'] = 'display_data';\n",
              "        await google.colab.output.renderOutput(dataTable, element);\n",
              "        const docLink = document.createElement('div');\n",
              "        docLink.innerHTML = docLinkHtml;\n",
              "        element.appendChild(docLink);\n",
              "      }\n",
              "    </script>\n",
              "  </div>\n",
              "\n",
              "\n",
              "    <div id=\"df-77136af6-1cec-40d0-9567-023d8e09126c\">\n",
              "      <button class=\"colab-df-quickchart\" onclick=\"quickchart('df-77136af6-1cec-40d0-9567-023d8e09126c')\"\n",
              "                title=\"Suggest charts\"\n",
              "                style=\"display:none;\">\n",
              "\n",
              "<svg xmlns=\"http://www.w3.org/2000/svg\" height=\"24px\"viewBox=\"0 0 24 24\"\n",
              "     width=\"24px\">\n",
              "    <g>\n",
              "        <path d=\"M19 3H5c-1.1 0-2 .9-2 2v14c0 1.1.9 2 2 2h14c1.1 0 2-.9 2-2V5c0-1.1-.9-2-2-2zM9 17H7v-7h2v7zm4 0h-2V7h2v10zm4 0h-2v-4h2v4z\"/>\n",
              "    </g>\n",
              "</svg>\n",
              "      </button>\n",
              "\n",
              "<style>\n",
              "  .colab-df-quickchart {\n",
              "      --bg-color: #E8F0FE;\n",
              "      --fill-color: #1967D2;\n",
              "      --hover-bg-color: #E2EBFA;\n",
              "      --hover-fill-color: #174EA6;\n",
              "      --disabled-fill-color: #AAA;\n",
              "      --disabled-bg-color: #DDD;\n",
              "  }\n",
              "\n",
              "  [theme=dark] .colab-df-quickchart {\n",
              "      --bg-color: #3B4455;\n",
              "      --fill-color: #D2E3FC;\n",
              "      --hover-bg-color: #434B5C;\n",
              "      --hover-fill-color: #FFFFFF;\n",
              "      --disabled-bg-color: #3B4455;\n",
              "      --disabled-fill-color: #666;\n",
              "  }\n",
              "\n",
              "  .colab-df-quickchart {\n",
              "    background-color: var(--bg-color);\n",
              "    border: none;\n",
              "    border-radius: 50%;\n",
              "    cursor: pointer;\n",
              "    display: none;\n",
              "    fill: var(--fill-color);\n",
              "    height: 32px;\n",
              "    padding: 0;\n",
              "    width: 32px;\n",
              "  }\n",
              "\n",
              "  .colab-df-quickchart:hover {\n",
              "    background-color: var(--hover-bg-color);\n",
              "    box-shadow: 0 1px 2px rgba(60, 64, 67, 0.3), 0 1px 3px 1px rgba(60, 64, 67, 0.15);\n",
              "    fill: var(--button-hover-fill-color);\n",
              "  }\n",
              "\n",
              "  .colab-df-quickchart-complete:disabled,\n",
              "  .colab-df-quickchart-complete:disabled:hover {\n",
              "    background-color: var(--disabled-bg-color);\n",
              "    fill: var(--disabled-fill-color);\n",
              "    box-shadow: none;\n",
              "  }\n",
              "\n",
              "  .colab-df-spinner {\n",
              "    border: 2px solid var(--fill-color);\n",
              "    border-color: transparent;\n",
              "    border-bottom-color: var(--fill-color);\n",
              "    animation:\n",
              "      spin 1s steps(1) infinite;\n",
              "  }\n",
              "\n",
              "  @keyframes spin {\n",
              "    0% {\n",
              "      border-color: transparent;\n",
              "      border-bottom-color: var(--fill-color);\n",
              "      border-left-color: var(--fill-color);\n",
              "    }\n",
              "    20% {\n",
              "      border-color: transparent;\n",
              "      border-left-color: var(--fill-color);\n",
              "      border-top-color: var(--fill-color);\n",
              "    }\n",
              "    30% {\n",
              "      border-color: transparent;\n",
              "      border-left-color: var(--fill-color);\n",
              "      border-top-color: var(--fill-color);\n",
              "      border-right-color: var(--fill-color);\n",
              "    }\n",
              "    40% {\n",
              "      border-color: transparent;\n",
              "      border-right-color: var(--fill-color);\n",
              "      border-top-color: var(--fill-color);\n",
              "    }\n",
              "    60% {\n",
              "      border-color: transparent;\n",
              "      border-right-color: var(--fill-color);\n",
              "    }\n",
              "    80% {\n",
              "      border-color: transparent;\n",
              "      border-right-color: var(--fill-color);\n",
              "      border-bottom-color: var(--fill-color);\n",
              "    }\n",
              "    90% {\n",
              "      border-color: transparent;\n",
              "      border-bottom-color: var(--fill-color);\n",
              "    }\n",
              "  }\n",
              "</style>\n",
              "\n",
              "      <script>\n",
              "        async function quickchart(key) {\n",
              "          const quickchartButtonEl =\n",
              "            document.querySelector('#' + key + ' button');\n",
              "          quickchartButtonEl.disabled = true;  // To prevent multiple clicks.\n",
              "          quickchartButtonEl.classList.add('colab-df-spinner');\n",
              "          try {\n",
              "            const charts = await google.colab.kernel.invokeFunction(\n",
              "                'suggestCharts', [key], {});\n",
              "          } catch (error) {\n",
              "            console.error('Error during call to suggestCharts:', error);\n",
              "          }\n",
              "          quickchartButtonEl.classList.remove('colab-df-spinner');\n",
              "          quickchartButtonEl.classList.add('colab-df-quickchart-complete');\n",
              "        }\n",
              "        (() => {\n",
              "          let quickchartButtonEl =\n",
              "            document.querySelector('#df-77136af6-1cec-40d0-9567-023d8e09126c button');\n",
              "          quickchartButtonEl.style.display =\n",
              "            google.colab.kernel.accessAllowed ? 'block' : 'none';\n",
              "        })();\n",
              "      </script>\n",
              "    </div>\n",
              "\n",
              "  <div id=\"id_7493b608-c934-48ca-90a4-883291421055\">\n",
              "    <style>\n",
              "      .colab-df-generate {\n",
              "        background-color: #E8F0FE;\n",
              "        border: none;\n",
              "        border-radius: 50%;\n",
              "        cursor: pointer;\n",
              "        display: none;\n",
              "        fill: #1967D2;\n",
              "        height: 32px;\n",
              "        padding: 0 0 0 0;\n",
              "        width: 32px;\n",
              "      }\n",
              "\n",
              "      .colab-df-generate:hover {\n",
              "        background-color: #E2EBFA;\n",
              "        box-shadow: 0px 1px 2px rgba(60, 64, 67, 0.3), 0px 1px 3px 1px rgba(60, 64, 67, 0.15);\n",
              "        fill: #174EA6;\n",
              "      }\n",
              "\n",
              "      [theme=dark] .colab-df-generate {\n",
              "        background-color: #3B4455;\n",
              "        fill: #D2E3FC;\n",
              "      }\n",
              "\n",
              "      [theme=dark] .colab-df-generate:hover {\n",
              "        background-color: #434B5C;\n",
              "        box-shadow: 0px 1px 3px 1px rgba(0, 0, 0, 0.15);\n",
              "        filter: drop-shadow(0px 1px 2px rgba(0, 0, 0, 0.3));\n",
              "        fill: #FFFFFF;\n",
              "      }\n",
              "    </style>\n",
              "    <button class=\"colab-df-generate\" onclick=\"generateWithVariable('poly_df')\"\n",
              "            title=\"Generate code using this dataframe.\"\n",
              "            style=\"display:none;\">\n",
              "\n",
              "  <svg xmlns=\"http://www.w3.org/2000/svg\" height=\"24px\"viewBox=\"0 0 24 24\"\n",
              "       width=\"24px\">\n",
              "    <path d=\"M7,19H8.4L18.45,9,17,7.55,7,17.6ZM5,21V16.75L18.45,3.32a2,2,0,0,1,2.83,0l1.4,1.43a1.91,1.91,0,0,1,.58,1.4,1.91,1.91,0,0,1-.58,1.4L9.25,21ZM18.45,9,17,7.55Zm-12,3A5.31,5.31,0,0,0,4.9,8.1,5.31,5.31,0,0,0,1,6.5,5.31,5.31,0,0,0,4.9,4.9,5.31,5.31,0,0,0,6.5,1,5.31,5.31,0,0,0,8.1,4.9,5.31,5.31,0,0,0,12,6.5,5.46,5.46,0,0,0,6.5,12Z\"/>\n",
              "  </svg>\n",
              "    </button>\n",
              "    <script>\n",
              "      (() => {\n",
              "      const buttonEl =\n",
              "        document.querySelector('#id_7493b608-c934-48ca-90a4-883291421055 button.colab-df-generate');\n",
              "      buttonEl.style.display =\n",
              "        google.colab.kernel.accessAllowed ? 'block' : 'none';\n",
              "\n",
              "      buttonEl.onclick = () => {\n",
              "        google.colab.notebook.generateWithVariable('poly_df');\n",
              "      }\n",
              "      })();\n",
              "    </script>\n",
              "  </div>\n",
              "\n",
              "    </div>\n",
              "  </div>\n"
            ],
            "application/vnd.google.colaboratory.intrinsic+json": {
              "type": "dataframe",
              "variable_name": "poly_df",
              "summary": "{\n  \"name\": \"poly_df\",\n  \"rows\": 7,\n  \"fields\": [\n    {\n      \"column\": \"N\",\n      \"properties\": {\n        \"dtype\": \"number\",\n        \"std\": 3799,\n        \"min\": 10,\n        \"max\": 10000,\n        \"num_unique_values\": 7,\n        \"samples\": [\n          10,\n          50,\n          5000\n        ],\n        \"semantic_type\": \"\",\n        \"description\": \"\"\n      }\n    },\n    {\n      \"column\": \"time\",\n      \"properties\": {\n        \"dtype\": \"number\",\n        \"std\": 2.519314872047116,\n        \"min\": 1.4082000006965245e-05,\n        \"max\": 6.278345188999992,\n        \"num_unique_values\": 7,\n        \"samples\": [\n          1.4082000006965245e-05,\n          0.00021317599998837977,\n          3.8262748910000255\n        ],\n        \"semantic_type\": \"\",\n        \"description\": \"\"\n      }\n    }\n  ]\n}"
            }
          },
          "metadata": {},
          "execution_count": 48
        }
      ]
    },
    {
      "cell_type": "code",
      "metadata": {
        "id": "GLmzSaMYsgeb",
        "colab": {
          "base_uri": "https://localhost:8080/",
          "height": 506
        },
        "outputId": "b41f1e78-cca4-4f53-b74c-e9a585703098"
      },
      "source": [
        "_ = sns.lmplot(x='N', y='time', data=poly_df, ci=None, order=2)"
      ],
      "execution_count": 49,
      "outputs": [
        {
          "output_type": "display_data",
          "data": {
            "text/plain": [
              "<Figure size 500x500 with 1 Axes>"
            ],
            "image/png": "[encoded data removed]"
          },
          "metadata": {}
        }
      ]
    },
    {
      "cell_type": "markdown",
      "metadata": {
        "id": "mpl4mIzzUuI6"
      },
      "source": [
        " #### In Big O notation:\n",
        "\n",
        " * constant: O(1)\n",
        " * linear: O(N)\n",
        " * polynomial: O(N**2)\n",
        "\n",
        "\n",
        " #### Others\n",
        "\n",
        "* logarithmic: O(log N)\n",
        "* exponential: O(2**N)\n",
        "* O(N log N)\n",
        "* O(N!)"
      ]
    },
    {
      "cell_type": "code",
      "metadata": {
        "id": "xHaG3z18VSFw"
      },
      "source": [],
      "execution_count": null,
      "outputs": []
    },
    {
      "cell_type": "markdown",
      "metadata": {
        "id": "8J0o70jQKjCe"
      },
      "source": [
        "# **Intermediate Python Data Structures**\n",
        "\n",
        "* https://medium.com/analytics-vidhya/python-list-vs-tuple-vs-dictionary-4a48655c7934\n",
        "\n",
        "* https://www.pythonlikeyoumeanit.com/Module2_EssentialsOfPython/ForLoops.html\n",
        "\n",
        "* https://www.pythonlikeyoumeanit.com/Module2_EssentialsOfPython/ForLoops.html"
      ]
    },
    {
      "cell_type": "code",
      "metadata": {
        "id": "UoNQicx8KmnH"
      },
      "source": [],
      "execution_count": null,
      "outputs": []
    },
    {
      "cell_type": "code",
      "metadata": {
        "id": "xcs-TNw5Km87"
      },
      "source": [],
      "execution_count": null,
      "outputs": []
    },
    {
      "cell_type": "code",
      "metadata": {
        "id": "eZ44tnEQKm5c"
      },
      "source": [],
      "execution_count": null,
      "outputs": []
    }
  ]
}