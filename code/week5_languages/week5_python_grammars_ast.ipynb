{
  "nbformat": 4,
  "nbformat_minor": 0,
  "metadata": {
    "anaconda-cloud": {},
    "kernelspec": {
      "display_name": "Python 3",
      "language": "python",
      "name": "python3"
    },
    "language_info": {
      "codemirror_mode": {
        "name": "ipython",
        "version": 3
      },
      "file_extension": ".py",
      "mimetype": "text/x-python",
      "name": "python",
      "nbconvert_exporter": "python",
      "pygments_lexer": "ipython3",
      "version": "3.5.1"
    },
    "colab": {
      "provenance": []
    }
  },
  "cells": [
    {
      "cell_type": "markdown",
      "metadata": {
        "id": "I-hGws-1dmeM"
      },
      "source": [
        "# **Language as Grammar: Parsing English/Code as a Basis for Language Generation**"
      ]
    },
    {
      "cell_type": "markdown",
      "source": [
        "Here we explore how the parsing exercises we did with SpaCy can be used to generate language. What advantages does this approach offer over the use of n-grams for generation? Where and when does it break down? Why? Is parsing a formal language (seen at the end of this notebook) similar to parsing a natural language? Why or why not?"
      ],
      "metadata": {
        "id": "T8JuSbMMast1"
      }
    },
    {
      "cell_type": "code",
      "metadata": {
        "id": "8Qts6tloeNln"
      },
      "source": [
        "import nltk"
      ],
      "execution_count": null,
      "outputs": []
    },
    {
      "cell_type": "code",
      "metadata": {
        "colab": {
          "base_uri": "https://localhost:8080/"
        },
        "id": "8DvPtqQ6eNlq",
        "outputId": "a0277466-3e3d-4faa-f0f0-e76b7ec7ca18"
      },
      "source": [
        "sent = ['I', 'shot', 'an', 'elephant', 'in', 'my', 'pajamas']\n",
        "\n",
        "parser = nltk.ChartParser(groucho_grammar)\n",
        "for tree in parser.parse(sent):\n",
        "  print(tree)"
      ],
      "execution_count": null,
      "outputs": [
        {
          "output_type": "stream",
          "name": "stdout",
          "text": [
            "(S\n",
            "  (NP I)\n",
            "  (VP\n",
            "    (VP (V shot) (NP (Det an) (N elephant)))\n",
            "    (PP (P in) (NP (Det my) (N pajamas)))))\n",
            "(S\n",
            "  (NP I)\n",
            "  (VP\n",
            "    (V shot)\n",
            "    (NP (Det an) (N elephant) (PP (P in) (NP (Det my) (N pajamas))))))\n"
          ]
        }
      ]
    },
    {
      "cell_type": "code",
      "metadata": {
        "id": "HhgvYPQJeNlp"
      },
      "source": [
        "groucho_grammar = nltk.CFG.fromstring(\"\"\"\n",
        "S -> NP VP\n",
        "PP -> P NP\n",
        "NP -> Det N | Det N PP | 'I'\n",
        "VP -> V NP | VP PP\n",
        "Det -> 'an' | 'my'\n",
        "N -> 'elephant' | 'pajamas'\n",
        "V -> 'shot'\n",
        "P -> 'in'\n",
        "\"\"\")"
      ],
      "execution_count": null,
      "outputs": []
    },
    {
      "cell_type": "markdown",
      "metadata": {
        "id": "iGJl2jYUeNlm"
      },
      "source": [
        "# **CFG: Grammar Generation**\n",
        "\n",
        "* https://www.nltk.org/book/ch08.html"
      ]
    },
    {
      "cell_type": "code",
      "metadata": {
        "colab": {
          "base_uri": "https://localhost:8080/"
        },
        "id": "VWYOZ8GWeNlh",
        "outputId": "0c2c3f86-6a5a-413f-ea57-57dd0d44dca8"
      },
      "source": [
        "from nltk.parse.generate import generate, demo_grammar\n",
        "from nltk import CFG\n",
        "\n",
        "grammar = CFG.fromstring(demo_grammar)\n",
        "print(grammar)"
      ],
      "execution_count": null,
      "outputs": [
        {
          "output_type": "stream",
          "name": "stdout",
          "text": [
            "Grammar with 13 productions (start state = S)\n",
            "    S -> NP VP\n",
            "    NP -> Det N\n",
            "    PP -> P NP\n",
            "    VP -> 'slept'\n",
            "    VP -> 'saw' NP\n",
            "    VP -> 'walked' PP\n",
            "    Det -> 'the'\n",
            "    Det -> 'a'\n",
            "    N -> 'man'\n",
            "    N -> 'park'\n",
            "    N -> 'dog'\n",
            "    P -> 'in'\n",
            "    P -> 'with'\n"
          ]
        }
      ]
    },
    {
      "cell_type": "code",
      "metadata": {
        "colab": {
          "base_uri": "https://localhost:8080/"
        },
        "id": "a8RmPNoYeNli",
        "outputId": "b74a2324-ec42-41d1-80cd-f9568e1660f3"
      },
      "source": [
        "for sentence in generate(grammar, n=5):\n",
        "  print(' '.join(sentence))"
      ],
      "execution_count": null,
      "outputs": [
        {
          "output_type": "stream",
          "name": "stdout",
          "text": [
            "the man slept\n",
            "the man saw the man\n",
            "the man saw the park\n",
            "the man saw the dog\n",
            "the man saw a man\n"
          ]
        }
      ]
    },
    {
      "cell_type": "code",
      "metadata": {
        "colab": {
          "base_uri": "https://localhost:8080/"
        },
        "id": "JL2FggG1eNlk",
        "outputId": "734e81be-fe2d-406d-f205-a8e25e920bcc"
      },
      "source": [
        "for sentence in generate(grammar, depth=10):\n",
        "  print(' '.join(sentence))"
      ],
      "execution_count": null,
      "outputs": [
        {
          "output_type": "stream",
          "name": "stdout",
          "text": [
            "the man slept\n",
            "the man saw the man\n",
            "the man saw the park\n",
            "the man saw the dog\n",
            "the man saw a man\n",
            "the man saw a park\n",
            "the man saw a dog\n",
            "the man walked in the man\n",
            "the man walked in the park\n",
            "the man walked in the dog\n",
            "the man walked in a man\n",
            "the man walked in a park\n",
            "the man walked in a dog\n",
            "the man walked with the man\n",
            "the man walked with the park\n",
            "the man walked with the dog\n",
            "the man walked with a man\n",
            "the man walked with a park\n",
            "the man walked with a dog\n",
            "the park slept\n",
            "the park saw the man\n",
            "the park saw the park\n",
            "the park saw the dog\n",
            "the park saw a man\n",
            "the park saw a park\n",
            "the park saw a dog\n",
            "the park walked in the man\n",
            "the park walked in the park\n",
            "the park walked in the dog\n",
            "the park walked in a man\n",
            "the park walked in a park\n",
            "the park walked in a dog\n",
            "the park walked with the man\n",
            "the park walked with the park\n",
            "the park walked with the dog\n",
            "the park walked with a man\n",
            "the park walked with a park\n",
            "the park walked with a dog\n",
            "the dog slept\n",
            "the dog saw the man\n",
            "the dog saw the park\n",
            "the dog saw the dog\n",
            "the dog saw a man\n",
            "the dog saw a park\n",
            "the dog saw a dog\n",
            "the dog walked in the man\n",
            "the dog walked in the park\n",
            "the dog walked in the dog\n",
            "the dog walked in a man\n",
            "the dog walked in a park\n",
            "the dog walked in a dog\n",
            "the dog walked with the man\n",
            "the dog walked with the park\n",
            "the dog walked with the dog\n",
            "the dog walked with a man\n",
            "the dog walked with a park\n",
            "the dog walked with a dog\n",
            "a man slept\n",
            "a man saw the man\n",
            "a man saw the park\n",
            "a man saw the dog\n",
            "a man saw a man\n",
            "a man saw a park\n",
            "a man saw a dog\n",
            "a man walked in the man\n",
            "a man walked in the park\n",
            "a man walked in the dog\n",
            "a man walked in a man\n",
            "a man walked in a park\n",
            "a man walked in a dog\n",
            "a man walked with the man\n",
            "a man walked with the park\n",
            "a man walked with the dog\n",
            "a man walked with a man\n",
            "a man walked with a park\n",
            "a man walked with a dog\n",
            "a park slept\n",
            "a park saw the man\n",
            "a park saw the park\n",
            "a park saw the dog\n",
            "a park saw a man\n",
            "a park saw a park\n",
            "a park saw a dog\n",
            "a park walked in the man\n",
            "a park walked in the park\n",
            "a park walked in the dog\n",
            "a park walked in a man\n",
            "a park walked in a park\n",
            "a park walked in a dog\n",
            "a park walked with the man\n",
            "a park walked with the park\n",
            "a park walked with the dog\n",
            "a park walked with a man\n",
            "a park walked with a park\n",
            "a park walked with a dog\n",
            "a dog slept\n",
            "a dog saw the man\n",
            "a dog saw the park\n",
            "a dog saw the dog\n",
            "a dog saw a man\n",
            "a dog saw a park\n",
            "a dog saw a dog\n",
            "a dog walked in the man\n",
            "a dog walked in the park\n",
            "a dog walked in the dog\n",
            "a dog walked in a man\n",
            "a dog walked in a park\n",
            "a dog walked in a dog\n",
            "a dog walked with the man\n",
            "a dog walked with the park\n",
            "a dog walked with the dog\n",
            "a dog walked with a man\n",
            "a dog walked with a park\n",
            "a dog walked with a dog\n"
          ]
        }
      ]
    },
    {
      "cell_type": "markdown",
      "metadata": {
        "id": "GP5Zqe4JeNls"
      },
      "source": [
        "# **Python AST**\n",
        "\n",
        "* https://github.com/hchasestevens/show_ast"
      ]
    },
    {
      "cell_type": "code",
      "metadata": {
        "colab": {
          "base_uri": "https://localhost:8080/"
        },
        "id": "Hy32JdjgeNlu",
        "outputId": "96efe8bd-10d5-44c7-a0c4-f0537e1f1941"
      },
      "source": [
        "!pip install showast"
      ],
      "execution_count": null,
      "outputs": [
        {
          "output_type": "stream",
          "name": "stdout",
          "text": [
            "Looking in indexes: https://pypi.org/simple, https://us-python.pkg.dev/colab-wheels/public/simple/\n",
            "Collecting showast\n",
            "  Downloading showast-0.2.4.zip (8.4 kB)\n",
            "Requirement already satisfied: ipython in /usr/local/lib/python3.7/dist-packages (from showast) (7.9.0)\n",
            "Requirement already satisfied: graphviz in /usr/local/lib/python3.7/dist-packages (from showast) (0.10.1)\n",
            "Requirement already satisfied: prompt-toolkit<2.1.0,>=2.0.0 in /usr/local/lib/python3.7/dist-packages (from ipython->showast) (2.0.10)\n",
            "Requirement already satisfied: traitlets>=4.2 in /usr/local/lib/python3.7/dist-packages (from ipython->showast) (5.1.1)\n",
            "Requirement already satisfied: decorator in /usr/local/lib/python3.7/dist-packages (from ipython->showast) (4.4.2)\n",
            "Requirement already satisfied: pickleshare in /usr/local/lib/python3.7/dist-packages (from ipython->showast) (0.7.5)\n",
            "Collecting jedi>=0.10\n",
            "  Downloading jedi-0.18.1-py2.py3-none-any.whl (1.6 MB)\n",
            "\u001b[K     |████████████████████████████████| 1.6 MB 15.3 MB/s \n",
            "\u001b[?25hRequirement already satisfied: pygments in /usr/local/lib/python3.7/dist-packages (from ipython->showast) (2.6.1)\n",
            "Requirement already satisfied: backcall in /usr/local/lib/python3.7/dist-packages (from ipython->showast) (0.2.0)\n",
            "Requirement already satisfied: pexpect in /usr/local/lib/python3.7/dist-packages (from ipython->showast) (4.8.0)\n",
            "Requirement already satisfied: setuptools>=18.5 in /usr/local/lib/python3.7/dist-packages (from ipython->showast) (57.4.0)\n",
            "Requirement already satisfied: parso<0.9.0,>=0.8.0 in /usr/local/lib/python3.7/dist-packages (from jedi>=0.10->ipython->showast) (0.8.3)\n",
            "Requirement already satisfied: wcwidth in /usr/local/lib/python3.7/dist-packages (from prompt-toolkit<2.1.0,>=2.0.0->ipython->showast) (0.2.5)\n",
            "Requirement already satisfied: six>=1.9.0 in /usr/local/lib/python3.7/dist-packages (from prompt-toolkit<2.1.0,>=2.0.0->ipython->showast) (1.15.0)\n",
            "Requirement already satisfied: ptyprocess>=0.5 in /usr/local/lib/python3.7/dist-packages (from pexpect->ipython->showast) (0.7.0)\n",
            "Building wheels for collected packages: showast\n",
            "  Building wheel for showast (setup.py) ... \u001b[?25l\u001b[?25hdone\n",
            "  Created wheel for showast: filename=showast-0.2.4-py3-none-any.whl size=6044 sha256=6635b20cc056c15c93618885421b9ee543e8849b29c2a168c812b2f719bf1a83\n",
            "  Stored in directory: /root/.cache/pip/wheels/7a/99/9c/efb972a66dba1881f91b23fa1f2c88f8c38058f551b33e2dcc\n",
            "Successfully built showast\n",
            "Installing collected packages: jedi, showast\n",
            "Successfully installed jedi-0.18.1 showast-0.2.4\n"
          ]
        }
      ]
    },
    {
      "cell_type": "code",
      "metadata": {
        "id": "yo5FowtgeNly"
      },
      "source": [
        "import showast"
      ],
      "execution_count": null,
      "outputs": []
    },
    {
      "cell_type": "code",
      "metadata": {
        "colab": {
          "base_uri": "https://localhost:8080/",
          "height": 464
        },
        "id": "5JcFYObYeNlz",
        "outputId": "b0e19ad9-e813-40ab-ebcb-01fc7bf1e387"
      },
      "source": [
        "%%showast\n",
        "\n",
        "print(1 + 2)"
      ],
      "execution_count": null,
      "outputs": [
        {
          "output_type": "display_data",
          "data": {
            "text/plain": [
              "<IPython.core.display.SVG object>"
            ],
            "image/svg+xml": "<svg height=\"332pt\" viewBox=\"0.00 0.00 370.00 332.00\" width=\"370pt\" xmlns=\"http://www.w3.org/2000/svg\" xmlns:xlink=\"http://www.w3.org/1999/xlink\">\n<g class=\"graph\" id=\"graph0\" transform=\"scale(1 1) rotate(0) translate(4 328)\">\n<title>%3</title>\n<polygon fill=\"#ffffff\" points=\"-4,4 -4,-328 366,-328 366,4 -4,4\" stroke=\"transparent\"/>\n<!-- 0 -->\n<g class=\"node\" id=\"node1\">\n<title>0</title>\n<text fill=\"#004080\" font-family=\"Courier,monospace\" font-size=\"14.00\" font-weight=\"bold\" text-anchor=\"start\" x=\"156\" y=\"-303.3\">Expr</text>\n</g>\n<!-- 1 -->\n<g class=\"node\" id=\"node2\">\n<title>1</title>\n<text fill=\"#004080\" font-family=\"Courier,monospace\" font-size=\"14.00\" font-weight=\"bold\" text-anchor=\"start\" x=\"156\" y=\"-231.3\">Call</text>\n</g>\n<!-- 0&#45;&#45;1 -->\n<g class=\"edge\" id=\"edge1\">\n<title>0--1</title>\n<path d=\"M173,-287.8314C173,-277 173,-263.2876 173,-252.4133\" fill=\"none\" stroke=\"#000000\"/>\n</g>\n<!-- 2 -->\n<g class=\"node\" id=\"node3\">\n<title>2</title>\n<text fill=\"#004080\" font-family=\"Courier,monospace\" font-size=\"14.00\" font-weight=\"bold\" text-anchor=\"start\" x=\"102\" y=\"-159.3\">Name</text>\n</g>\n<!-- 1&#45;&#45;2 -->\n<g class=\"edge\" id=\"edge2\">\n<title>1--2</title>\n<path d=\"M173,-216C173,-216 152.9478,-195.9478 137.2819,-180.2819\" fill=\"none\" stroke=\"#000000\"/>\n</g>\n<!-- 5 -->\n<g class=\"node\" id=\"node6\">\n<title>5</title>\n<text fill=\"#004080\" font-family=\"Courier,monospace\" font-size=\"14.00\" font-weight=\"bold\" text-anchor=\"start\" x=\"207\" y=\"-159.3\">BinOp</text>\n</g>\n<!-- 1&#45;&#45;5 -->\n<g class=\"edge\" id=\"edge5\">\n<title>1--5</title>\n<path d=\"M173,-216C173,-216 193.4236,-195.9478 209.3795,-180.2819\" fill=\"none\" stroke=\"#000000\"/>\n</g>\n<!-- 3 -->\n<g class=\"node\" id=\"node4\">\n<title>3</title>\n<text fill=\"#008040\" font-family=\"Courier,monospace\" font-size=\"14.00\" text-anchor=\"middle\" x=\"37\" y=\"-86.3\">&quot;print&quot;</text>\n</g>\n<!-- 2&#45;&#45;3 -->\n<g class=\"edge\" id=\"edge3\">\n<title>2--3</title>\n<path d=\"M111,-144C111,-144 83.521,-123.9478 62.053,-108.2819\" fill=\"none\" stroke=\"#000000\"/>\n</g>\n<!-- 4 -->\n<g class=\"node\" id=\"node5\">\n<title>4</title>\n<text fill=\"#008040\" font-family=\"Courier,monospace\" font-size=\"14.00\" text-anchor=\"middle\" x=\"119\" y=\"-86.3\">Load</text>\n</g>\n<!-- 2&#45;&#45;4 -->\n<g class=\"edge\" id=\"edge4\">\n<title>2--4</title>\n<path d=\"M111,-144C111,-144 113.9707,-123.9478 116.2916,-108.2819\" fill=\"none\" stroke=\"#000000\"/>\n</g>\n<!-- 6 -->\n<g class=\"node\" id=\"node7\">\n<title>6</title>\n<text fill=\"#004080\" font-family=\"Courier,monospace\" font-size=\"14.00\" font-weight=\"bold\" text-anchor=\"start\" x=\"178.5\" y=\"-87.3\">Num</text>\n</g>\n<!-- 5&#45;&#45;6 -->\n<g class=\"edge\" id=\"edge6\">\n<title>5--6</title>\n<path d=\"M234,-144C234,-144 218.0325,-123.9478 205.5578,-108.2819\" fill=\"none\" stroke=\"#000000\"/>\n</g>\n<!-- 8 -->\n<g class=\"node\" id=\"node9\">\n<title>8</title>\n<text fill=\"#008040\" font-family=\"Courier,monospace\" font-size=\"14.00\" text-anchor=\"middle\" x=\"263\" y=\"-86.3\">Add</text>\n</g>\n<!-- 5&#45;&#45;8 -->\n<g class=\"edge\" id=\"edge8\">\n<title>5--8</title>\n<path d=\"M234,-144C234,-144 244.7688,-123.9478 253.1819,-108.2819\" fill=\"none\" stroke=\"#000000\"/>\n</g>\n<!-- 9 -->\n<g class=\"node\" id=\"node10\">\n<title>9</title>\n<text fill=\"#004080\" font-family=\"Courier,monospace\" font-size=\"14.00\" font-weight=\"bold\" text-anchor=\"start\" x=\"322.5\" y=\"-87.3\">Num</text>\n</g>\n<!-- 5&#45;&#45;9 -->\n<g class=\"edge\" id=\"edge9\">\n<title>5--9</title>\n<path d=\"M234,-144C234,-144 278.0164,-120.4665 307.9339,-104.471\" fill=\"none\" stroke=\"#000000\"/>\n</g>\n<!-- 7 -->\n<g class=\"node\" id=\"node8\">\n<title>7</title>\n<text fill=\"#008040\" font-family=\"Courier,monospace\" font-size=\"14.00\" text-anchor=\"middle\" x=\"191\" y=\"-14.3\">1</text>\n</g>\n<!-- 6&#45;&#45;7 -->\n<g class=\"edge\" id=\"edge7\">\n<title>6--7</title>\n<path d=\"M191,-71.8314C191,-61 191,-47.2876 191,-36.4133\" fill=\"none\" stroke=\"#000000\"/>\n</g>\n<!-- 10 -->\n<g class=\"node\" id=\"node11\">\n<title>10</title>\n<text fill=\"#008040\" font-family=\"Courier,monospace\" font-size=\"14.00\" text-anchor=\"middle\" x=\"335\" y=\"-14.3\">2</text>\n</g>\n<!-- 9&#45;&#45;10 -->\n<g class=\"edge\" id=\"edge10\">\n<title>9--10</title>\n<path d=\"M335,-71.8314C335,-61 335,-47.2876 335,-36.4133\" fill=\"none\" stroke=\"#000000\"/>\n</g>\n</g>\n</svg>"
          },
          "metadata": {}
        }
      ]
    },
    {
      "cell_type": "code",
      "metadata": {
        "colab": {
          "base_uri": "https://localhost:8080/",
          "height": 560
        },
        "id": "EpCN706ReNl0",
        "outputId": "c126282b-be73-4e14-fa15-88c26db415e0"
      },
      "source": [
        "%%showast\n",
        "\n",
        "for i in range(5):\n",
        "  print(i * 2)\n"
      ],
      "execution_count": null,
      "outputs": [
        {
          "output_type": "display_data",
          "data": {
            "text/plain": [
              "<IPython.core.display.SVG object>"
            ],
            "image/svg+xml": "<svg height=\"404pt\" viewBox=\"0.00 0.00 570.00 404.00\" width=\"570pt\" xmlns=\"http://www.w3.org/2000/svg\" xmlns:xlink=\"http://www.w3.org/1999/xlink\">\n<g class=\"graph\" id=\"graph0\" transform=\"scale(1 1) rotate(0) translate(4 400)\">\n<title>%3</title>\n<polygon fill=\"#ffffff\" points=\"-4,4 -4,-400 566,-400 566,4 -4,4\" stroke=\"transparent\"/>\n<!-- 0 -->\n<g class=\"node\" id=\"node1\">\n<title>0</title>\n<text fill=\"#004080\" font-family=\"Courier,monospace\" font-size=\"14.00\" font-weight=\"bold\" text-anchor=\"start\" x=\"198.5\" y=\"-375.3\">For</text>\n</g>\n<!-- 1 -->\n<g class=\"node\" id=\"node2\">\n<title>1</title>\n<text fill=\"#004080\" font-family=\"Courier,monospace\" font-size=\"14.00\" font-weight=\"bold\" text-anchor=\"start\" x=\"84\" y=\"-303.3\">Name</text>\n</g>\n<!-- 0&#45;&#45;1 -->\n<g class=\"edge\" id=\"edge1\">\n<title>0--1</title>\n<path d=\"M211,-360C211,-360 160.7652,-335.3393 128.191,-319.3483\" fill=\"none\" stroke=\"#000000\"/>\n</g>\n<!-- 4 -->\n<g class=\"node\" id=\"node5\">\n<title>4</title>\n<text fill=\"#004080\" font-family=\"Courier,monospace\" font-size=\"14.00\" font-weight=\"bold\" text-anchor=\"start\" x=\"194\" y=\"-303.3\">Call</text>\n</g>\n<!-- 0&#45;&#45;4 -->\n<g class=\"edge\" id=\"edge4\">\n<title>0--4</title>\n<path d=\"M211,-360C211,-360 211,-339.9478 211,-324.2819\" fill=\"none\" stroke=\"#000000\"/>\n</g>\n<!-- 10 -->\n<g class=\"node\" id=\"node11\">\n<title>10</title>\n<text fill=\"#004080\" font-family=\"Courier,monospace\" font-size=\"14.00\" font-weight=\"bold\" text-anchor=\"start\" x=\"284\" y=\"-303.3\">Expr</text>\n</g>\n<!-- 0&#45;&#45;10 -->\n<g class=\"edge\" id=\"edge10\">\n<title>0--10</title>\n<path d=\"M211,-360C211,-360 247.487,-338.1078 273.997,-322.2018\" fill=\"none\" stroke=\"#000000\"/>\n</g>\n<!-- 2 -->\n<g class=\"node\" id=\"node3\">\n<title>2</title>\n<text fill=\"#008040\" font-family=\"Courier,monospace\" font-size=\"14.00\" text-anchor=\"middle\" x=\"27\" y=\"-230.3\">&quot;i&quot;</text>\n</g>\n<!-- 1&#45;&#45;2 -->\n<g class=\"edge\" id=\"edge2\">\n<title>1--2</title>\n<path d=\"M93,-288C93,-288 68.4917,-267.9478 49.3446,-252.2819\" fill=\"none\" stroke=\"#000000\"/>\n</g>\n<!-- 3 -->\n<g class=\"node\" id=\"node4\">\n<title>3</title>\n<text fill=\"#008040\" font-family=\"Courier,monospace\" font-size=\"14.00\" text-anchor=\"middle\" x=\"101\" y=\"-230.3\">Store</text>\n</g>\n<!-- 1&#45;&#45;3 -->\n<g class=\"edge\" id=\"edge3\">\n<title>1--3</title>\n<path d=\"M93,-288C93,-288 95.9707,-267.9478 98.2916,-252.2819\" fill=\"none\" stroke=\"#000000\"/>\n</g>\n<!-- 5 -->\n<g class=\"node\" id=\"node6\">\n<title>5</title>\n<text fill=\"#004080\" font-family=\"Courier,monospace\" font-size=\"14.00\" font-weight=\"bold\" text-anchor=\"start\" x=\"158\" y=\"-231.3\">Name</text>\n</g>\n<!-- 4&#45;&#45;5 -->\n<g class=\"edge\" id=\"edge5\">\n<title>4--5</title>\n<path d=\"M211,-288C211,-288 197.6318,-267.9478 187.188,-252.2819\" fill=\"none\" stroke=\"#000000\"/>\n</g>\n<!-- 8 -->\n<g class=\"node\" id=\"node9\">\n<title>8</title>\n<text fill=\"#004080\" font-family=\"Courier,monospace\" font-size=\"14.00\" font-weight=\"bold\" text-anchor=\"start\" x=\"234.5\" y=\"-231.3\">Num</text>\n</g>\n<!-- 4&#45;&#45;8 -->\n<g class=\"edge\" id=\"edge8\">\n<title>4--8</title>\n<path d=\"M211,-288C211,-288 224.3682,-267.9478 234.812,-252.2819\" fill=\"none\" stroke=\"#000000\"/>\n</g>\n<!-- 6 -->\n<g class=\"node\" id=\"node7\">\n<title>6</title>\n<text fill=\"#008040\" font-family=\"Courier,monospace\" font-size=\"14.00\" text-anchor=\"middle\" x=\"93\" y=\"-158.3\">&quot;range&quot;</text>\n</g>\n<!-- 5&#45;&#45;6 -->\n<g class=\"edge\" id=\"edge6\">\n<title>5--6</title>\n<path d=\"M167,-216C167,-216 139.521,-195.9478 118.053,-180.2819\" fill=\"none\" stroke=\"#000000\"/>\n</g>\n<!-- 7 -->\n<g class=\"node\" id=\"node8\">\n<title>7</title>\n<text fill=\"#008040\" font-family=\"Courier,monospace\" font-size=\"14.00\" text-anchor=\"middle\" x=\"175\" y=\"-158.3\">Load</text>\n</g>\n<!-- 5&#45;&#45;7 -->\n<g class=\"edge\" id=\"edge7\">\n<title>5--7</title>\n<path d=\"M167,-216C167,-216 169.9707,-195.9478 172.2916,-180.2819\" fill=\"none\" stroke=\"#000000\"/>\n</g>\n<!-- 9 -->\n<g class=\"node\" id=\"node10\">\n<title>9</title>\n<text fill=\"#008040\" font-family=\"Courier,monospace\" font-size=\"14.00\" text-anchor=\"middle\" x=\"247\" y=\"-158.3\">5</text>\n</g>\n<!-- 8&#45;&#45;9 -->\n<g class=\"edge\" id=\"edge9\">\n<title>8--9</title>\n<path d=\"M247,-215.8314C247,-205 247,-191.2876 247,-180.4133\" fill=\"none\" stroke=\"#000000\"/>\n</g>\n<!-- 11 -->\n<g class=\"node\" id=\"node12\">\n<title>11</title>\n<text fill=\"#004080\" font-family=\"Courier,monospace\" font-size=\"14.00\" font-weight=\"bold\" text-anchor=\"start\" x=\"302\" y=\"-231.3\">Call</text>\n</g>\n<!-- 10&#45;&#45;11 -->\n<g class=\"edge\" id=\"edge11\">\n<title>10--11</title>\n<path d=\"M305.5422,-287.8314C308.25,-277 311.6781,-263.2876 314.3967,-252.4133\" fill=\"none\" stroke=\"#000000\"/>\n</g>\n<!-- 12 -->\n<g class=\"node\" id=\"node13\">\n<title>12</title>\n<text fill=\"#004080\" font-family=\"Courier,monospace\" font-size=\"14.00\" font-weight=\"bold\" text-anchor=\"start\" x=\"302\" y=\"-159.3\">Name</text>\n</g>\n<!-- 11&#45;&#45;12 -->\n<g class=\"edge\" id=\"edge12\">\n<title>11--12</title>\n<path d=\"M329,-216C329,-216 325.2866,-195.9478 322.3855,-180.2819\" fill=\"none\" stroke=\"#000000\"/>\n</g>\n<!-- 15 -->\n<g class=\"node\" id=\"node16\">\n<title>15</title>\n<text fill=\"#004080\" font-family=\"Courier,monospace\" font-size=\"14.00\" font-weight=\"bold\" text-anchor=\"start\" x=\"407\" y=\"-159.3\">BinOp</text>\n</g>\n<!-- 11&#45;&#45;15 -->\n<g class=\"edge\" id=\"edge15\">\n<title>11--15</title>\n<path d=\"M329,-216C329,-216 369.6296,-193.8384 398.8322,-177.9097\" fill=\"none\" stroke=\"#000000\"/>\n</g>\n<!-- 13 -->\n<g class=\"node\" id=\"node14\">\n<title>13</title>\n<text fill=\"#008040\" font-family=\"Courier,monospace\" font-size=\"14.00\" text-anchor=\"middle\" x=\"237\" y=\"-86.3\">&quot;print&quot;</text>\n</g>\n<!-- 12&#45;&#45;13 -->\n<g class=\"edge\" id=\"edge13\">\n<title>12--13</title>\n<path d=\"M311,-144C311,-144 283.521,-123.9478 262.053,-108.2819\" fill=\"none\" stroke=\"#000000\"/>\n</g>\n<!-- 14 -->\n<g class=\"node\" id=\"node15\">\n<title>14</title>\n<text fill=\"#008040\" font-family=\"Courier,monospace\" font-size=\"14.00\" text-anchor=\"middle\" x=\"319\" y=\"-86.3\">Load</text>\n</g>\n<!-- 12&#45;&#45;14 -->\n<g class=\"edge\" id=\"edge14\">\n<title>12--14</title>\n<path d=\"M311,-144C311,-144 313.9707,-123.9478 316.2916,-108.2819\" fill=\"none\" stroke=\"#000000\"/>\n</g>\n<!-- 16 -->\n<g class=\"node\" id=\"node17\">\n<title>16</title>\n<text fill=\"#004080\" font-family=\"Courier,monospace\" font-size=\"14.00\" font-weight=\"bold\" text-anchor=\"start\" x=\"374\" y=\"-87.3\">Name</text>\n</g>\n<!-- 15&#45;&#45;16 -->\n<g class=\"edge\" id=\"edge16\">\n<title>15--16</title>\n<path d=\"M434,-144C434,-144 418.0325,-123.9478 405.5578,-108.2819\" fill=\"none\" stroke=\"#000000\"/>\n</g>\n<!-- 19 -->\n<g class=\"node\" id=\"node20\">\n<title>19</title>\n<text fill=\"#008040\" font-family=\"Courier,monospace\" font-size=\"14.00\" text-anchor=\"middle\" x=\"463\" y=\"-86.3\">Mult</text>\n</g>\n<!-- 15&#45;&#45;19 -->\n<g class=\"edge\" id=\"edge19\">\n<title>15--19</title>\n<path d=\"M434,-144C434,-144 444.7688,-123.9478 453.1819,-108.2819\" fill=\"none\" stroke=\"#000000\"/>\n</g>\n<!-- 20 -->\n<g class=\"node\" id=\"node21\">\n<title>20</title>\n<text fill=\"#004080\" font-family=\"Courier,monospace\" font-size=\"14.00\" font-weight=\"bold\" text-anchor=\"start\" x=\"522.5\" y=\"-87.3\">Num</text>\n</g>\n<!-- 15&#45;&#45;20 -->\n<g class=\"edge\" id=\"edge20\">\n<title>15--20</title>\n<path d=\"M434,-144C434,-144 478.0164,-120.4665 507.9339,-104.471\" fill=\"none\" stroke=\"#000000\"/>\n</g>\n<!-- 17 -->\n<g class=\"node\" id=\"node18\">\n<title>17</title>\n<text fill=\"#008040\" font-family=\"Courier,monospace\" font-size=\"14.00\" text-anchor=\"middle\" x=\"355\" y=\"-14.3\">&quot;i&quot;</text>\n</g>\n<!-- 16&#45;&#45;17 -->\n<g class=\"edge\" id=\"edge17\">\n<title>16--17</title>\n<path d=\"M391,-72C391,-72 377.6318,-51.9478 367.188,-36.2819\" fill=\"none\" stroke=\"#000000\"/>\n</g>\n<!-- 18 -->\n<g class=\"node\" id=\"node19\">\n<title>18</title>\n<text fill=\"#008040\" font-family=\"Courier,monospace\" font-size=\"14.00\" text-anchor=\"middle\" x=\"427\" y=\"-14.3\">Load</text>\n</g>\n<!-- 16&#45;&#45;18 -->\n<g class=\"edge\" id=\"edge18\">\n<title>16--18</title>\n<path d=\"M391,-72C391,-72 404.3682,-51.9478 414.812,-36.2819\" fill=\"none\" stroke=\"#000000\"/>\n</g>\n<!-- 21 -->\n<g class=\"node\" id=\"node22\">\n<title>21</title>\n<text fill=\"#008040\" font-family=\"Courier,monospace\" font-size=\"14.00\" text-anchor=\"middle\" x=\"535\" y=\"-14.3\">2</text>\n</g>\n<!-- 20&#45;&#45;21 -->\n<g class=\"edge\" id=\"edge21\">\n<title>20--21</title>\n<path d=\"M535,-71.8314C535,-61 535,-47.2876 535,-36.4133\" fill=\"none\" stroke=\"#000000\"/>\n</g>\n</g>\n</svg>"
          },
          "metadata": {}
        }
      ]
    },
    {
      "cell_type": "code",
      "metadata": {
        "colab": {
          "base_uri": "https://localhost:8080/",
          "height": 964
        },
        "id": "MpQ3_z1-eNl1",
        "outputId": "428a2911-0d99-4c7b-87ee-7531c897b1aa"
      },
      "source": [
        "from showast import show_source\n",
        "\n",
        "import antigravity\n",
        "\n",
        "show_source(antigravity)"
      ],
      "execution_count": null,
      "outputs": [
        {
          "output_type": "display_data",
          "data": {
            "text/plain": [
              "<IPython.core.display.SVG object>"
            ],
            "image/svg+xml": "<svg height=\"692pt\" viewBox=\"0.00 0.00 3057.00 692.00\" width=\"3057pt\" xmlns=\"http://www.w3.org/2000/svg\" xmlns:xlink=\"http://www.w3.org/1999/xlink\">\n<g class=\"graph\" id=\"graph0\" transform=\"scale(1 1) rotate(0) translate(4 688)\">\n<title>%3</title>\n<polygon fill=\"#ffffff\" points=\"-4,4 -4,-688 3053,-688 3053,4 -4,4\" stroke=\"transparent\"/>\n<!-- 0 -->\n<g class=\"node\" id=\"node1\">\n<title>0</title>\n<text fill=\"#004080\" font-family=\"Courier,monospace\" font-size=\"14.00\" font-weight=\"bold\" text-anchor=\"start\" x=\"213\" y=\"-663.3\">Module</text>\n</g>\n<!-- 1 -->\n<g class=\"node\" id=\"node2\">\n<title>1</title>\n<text fill=\"#004080\" font-family=\"Courier,monospace\" font-size=\"14.00\" font-weight=\"bold\" text-anchor=\"start\" x=\"79\" y=\"-591.3\">Import</text>\n</g>\n<!-- 0&#45;&#45;1 -->\n<g class=\"edge\" id=\"edge1\">\n<title>0--1</title>\n<path d=\"M239,-648C239,-648 176.9913,-623.1965 137.0247,-607.2099\" fill=\"none\" stroke=\"#000000\"/>\n</g>\n<!-- 4 -->\n<g class=\"node\" id=\"node5\">\n<title>4</title>\n<text fill=\"#004080\" font-family=\"Courier,monospace\" font-size=\"14.00\" font-weight=\"bold\" text-anchor=\"start\" x=\"174\" y=\"-591.3\">Import</text>\n</g>\n<!-- 0&#45;&#45;4 -->\n<g class=\"edge\" id=\"edge4\">\n<title>0--4</title>\n<path d=\"M239,-648C239,-648 224.1465,-627.9478 212.5422,-612.2819\" fill=\"none\" stroke=\"#000000\"/>\n</g>\n<!-- 7 -->\n<g class=\"node\" id=\"node8\">\n<title>7</title>\n<text fill=\"#004080\" font-family=\"Courier,monospace\" font-size=\"14.00\" font-weight=\"bold\" text-anchor=\"start\" x=\"266\" y=\"-591.3\">Expr</text>\n</g>\n<!-- 0&#45;&#45;7 -->\n<g class=\"edge\" id=\"edge7\">\n<title>0--7</title>\n<path d=\"M239,-648C239,-648 255.3389,-627.9478 268.1036,-612.2819\" fill=\"none\" stroke=\"#000000\"/>\n</g>\n<!-- 17 -->\n<g class=\"node\" id=\"node18\">\n<title>17</title>\n<text fill=\"#004080\" font-family=\"Courier,monospace\" font-size=\"14.00\" font-weight=\"bold\" text-anchor=\"start\" x=\"865.5\" y=\"-591.3\">FunctionDef</text>\n</g>\n<!-- 0&#45;&#45;17 -->\n<g class=\"edge\" id=\"edge17\">\n<title>0--17</title>\n<path d=\"M239,-648C239,-648 698.2226,-611.0982 857.4258,-598.3051\" fill=\"none\" stroke=\"#000000\"/>\n</g>\n<!-- 2 -->\n<g class=\"node\" id=\"node3\">\n<title>2</title>\n<text fill=\"#004080\" font-family=\"Courier,monospace\" font-size=\"14.00\" font-weight=\"bold\" text-anchor=\"start\" x=\"72\" y=\"-519.3\">alias</text>\n</g>\n<!-- 1&#45;&#45;2 -->\n<g class=\"edge\" id=\"edge2\">\n<title>1--2</title>\n<path d=\"M101.2242,-575.8314C99.5694,-565 97.4745,-551.2876 95.8131,-540.4133\" fill=\"none\" stroke=\"#000000\"/>\n</g>\n<!-- 3 -->\n<g class=\"node\" id=\"node4\">\n<title>3</title>\n<text fill=\"#008040\" font-family=\"Courier,monospace\" font-size=\"14.00\" text-anchor=\"middle\" x=\"58\" y=\"-446.3\">&quot;webbrowser&quot;</text>\n</g>\n<!-- 2&#45;&#45;3 -->\n<g class=\"edge\" id=\"edge3\">\n<title>2--3</title>\n<path d=\"M84.168,-503.8314C78.9028,-493 72.237,-479.2876 66.9509,-468.4133\" fill=\"none\" stroke=\"#000000\"/>\n</g>\n<!-- 5 -->\n<g class=\"node\" id=\"node6\">\n<title>5</title>\n<text fill=\"#004080\" font-family=\"Courier,monospace\" font-size=\"14.00\" font-weight=\"bold\" text-anchor=\"start\" x=\"171\" y=\"-519.3\">alias</text>\n</g>\n<!-- 4&#45;&#45;5 -->\n<g class=\"edge\" id=\"edge5\">\n<title>4--5</title>\n<path d=\"M197.2336,-575.8314C196.1806,-565 194.8474,-551.2876 193.7902,-540.4133\" fill=\"none\" stroke=\"#000000\"/>\n</g>\n<!-- 6 -->\n<g class=\"node\" id=\"node7\">\n<title>6</title>\n<text fill=\"#008040\" font-family=\"Courier,monospace\" font-size=\"14.00\" text-anchor=\"middle\" x=\"180\" y=\"-446.3\">&quot;hashlib&quot;</text>\n</g>\n<!-- 5&#45;&#45;6 -->\n<g class=\"edge\" id=\"edge6\">\n<title>5--6</title>\n<path d=\"M188.9719,-503.8314C187.1667,-493 184.8813,-479.2876 183.0689,-468.4133\" fill=\"none\" stroke=\"#000000\"/>\n</g>\n<!-- 8 -->\n<g class=\"node\" id=\"node9\">\n<title>8</title>\n<text fill=\"#004080\" font-family=\"Courier,monospace\" font-size=\"14.00\" font-weight=\"bold\" text-anchor=\"start\" x=\"272\" y=\"-519.3\">Call</text>\n</g>\n<!-- 7&#45;&#45;8 -->\n<g class=\"edge\" id=\"edge8\">\n<title>7--8</title>\n<path d=\"M284.5141,-575.8314C285.4167,-565 286.5594,-551.2876 287.4656,-540.4133\" fill=\"none\" stroke=\"#000000\"/>\n</g>\n<!-- 9 -->\n<g class=\"node\" id=\"node10\">\n<title>9</title>\n<text fill=\"#004080\" font-family=\"Courier,monospace\" font-size=\"14.00\" font-weight=\"bold\" text-anchor=\"start\" x=\"251.5\" y=\"-447.3\">Attribute</text>\n</g>\n<!-- 8&#45;&#45;9 -->\n<g class=\"edge\" id=\"edge9\">\n<title>8--9</title>\n<path d=\"M299,-504C299,-504 295.2866,-483.9478 292.3855,-468.2819\" fill=\"none\" stroke=\"#000000\"/>\n</g>\n<!-- 15 -->\n<g class=\"node\" id=\"node16\">\n<title>15</title>\n<text fill=\"#004080\" font-family=\"Courier,monospace\" font-size=\"14.00\" font-weight=\"bold\" text-anchor=\"start\" x=\"396.5\" y=\"-447.3\">Str</text>\n</g>\n<!-- 8&#45;&#45;15 -->\n<g class=\"edge\" id=\"edge15\">\n<title>8--15</title>\n<path d=\"M299,-504C299,-504 349.2348,-479.3393 381.809,-463.3483\" fill=\"none\" stroke=\"#000000\"/>\n</g>\n<!-- 10 -->\n<g class=\"node\" id=\"node11\">\n<title>10</title>\n<text fill=\"#004080\" font-family=\"Courier,monospace\" font-size=\"14.00\" font-weight=\"bold\" text-anchor=\"start\" x=\"116\" y=\"-375.3\">Name</text>\n</g>\n<!-- 9&#45;&#45;10 -->\n<g class=\"edge\" id=\"edge10\">\n<title>9--10</title>\n<path d=\"M275,-432C275,-432 214.9127,-415.1698 169,-396 166.1628,-394.8154 163.2374,-393.5062 160.3379,-392.1504\" fill=\"none\" stroke=\"#000000\"/>\n</g>\n<!-- 13 -->\n<g class=\"node\" id=\"node14\">\n<title>13</title>\n<text fill=\"#008040\" font-family=\"Courier,monospace\" font-size=\"14.00\" text-anchor=\"middle\" x=\"211\" y=\"-374.3\">&quot;open&quot;</text>\n</g>\n<!-- 9&#45;&#45;13 -->\n<g class=\"edge\" id=\"edge13\">\n<title>9--13</title>\n<path d=\"M275,-432C275,-432 251.2344,-411.9478 232.6675,-396.2819\" fill=\"none\" stroke=\"#000000\"/>\n</g>\n<!-- 14 -->\n<g class=\"node\" id=\"node15\">\n<title>14</title>\n<text fill=\"#008040\" font-family=\"Courier,monospace\" font-size=\"14.00\" text-anchor=\"middle\" x=\"289\" y=\"-374.3\">Load</text>\n</g>\n<!-- 9&#45;&#45;14 -->\n<g class=\"edge\" id=\"edge14\">\n<title>9--14</title>\n<path d=\"M275,-432C275,-432 280.1987,-411.9478 284.2602,-396.2819\" fill=\"none\" stroke=\"#000000\"/>\n</g>\n<!-- 11 -->\n<g class=\"node\" id=\"node12\">\n<title>11</title>\n<text fill=\"#008040\" font-family=\"Courier,monospace\" font-size=\"14.00\" text-anchor=\"middle\" x=\"82\" y=\"-302.3\">&quot;webbrowser&quot;</text>\n</g>\n<!-- 10&#45;&#45;11 -->\n<g class=\"edge\" id=\"edge11\">\n<title>10--11</title>\n<path d=\"M133,-360C133,-360 114.0618,-339.9478 99.2663,-324.2819\" fill=\"none\" stroke=\"#000000\"/>\n</g>\n<!-- 12 -->\n<g class=\"node\" id=\"node13\">\n<title>12</title>\n<text fill=\"#008040\" font-family=\"Courier,monospace\" font-size=\"14.00\" text-anchor=\"middle\" x=\"185\" y=\"-302.3\">Load</text>\n</g>\n<!-- 10&#45;&#45;12 -->\n<g class=\"edge\" id=\"edge12\">\n<title>10--12</title>\n<path d=\"M133,-360C133,-360 152.3096,-339.9478 167.3952,-324.2819\" fill=\"none\" stroke=\"#000000\"/>\n</g>\n<!-- 16 -->\n<g class=\"node\" id=\"node17\">\n<title>16</title>\n<text fill=\"#008040\" font-family=\"Courier,monospace\" font-size=\"14.00\" text-anchor=\"middle\" x=\"437\" y=\"-374.3\">&quot;https://xkcd.com/353/&quot;</text>\n</g>\n<!-- 15&#45;&#45;16 -->\n<g class=\"edge\" id=\"edge16\">\n<title>15--16</title>\n<path d=\"M416.0656,-431.8314C420.2778,-421 425.6104,-407.2876 429.8393,-396.4133\" fill=\"none\" stroke=\"#000000\"/>\n</g>\n<!-- 18 -->\n<g class=\"node\" id=\"node19\">\n<title>18</title>\n<text fill=\"#008040\" font-family=\"Courier,monospace\" font-size=\"14.00\" text-anchor=\"middle\" x=\"737\" y=\"-518.3\">&quot;geohash&quot;</text>\n</g>\n<!-- 17&#45;&#45;18 -->\n<g class=\"edge\" id=\"edge18\">\n<title>17--18</title>\n<path d=\"M920,-576C920,-576 847.9189,-557.4169 791,-540 788.2596,-539.1615 785.4471,-538.2819 782.6141,-537.3814\" fill=\"none\" stroke=\"#000000\"/>\n</g>\n<!-- 19 -->\n<g class=\"node\" id=\"node20\">\n<title>19</title>\n<text fill=\"#004080\" font-family=\"Courier,monospace\" font-size=\"14.00\" font-weight=\"bold\" text-anchor=\"start\" x=\"808.5\" y=\"-519.3\">arguments</text>\n</g>\n<!-- 17&#45;&#45;19 -->\n<g class=\"edge\" id=\"edge19\">\n<title>17--19</title>\n<path d=\"M920,-576C920,-576 892.521,-555.9478 871.053,-540.2819\" fill=\"none\" stroke=\"#000000\"/>\n</g>\n<!-- 26 -->\n<g class=\"node\" id=\"node27\">\n<title>26</title>\n<text fill=\"#004080\" font-family=\"Courier,monospace\" font-size=\"14.00\" font-weight=\"bold\" text-anchor=\"start\" x=\"952\" y=\"-519.3\">Assign</text>\n</g>\n<!-- 17&#45;&#45;26 -->\n<g class=\"edge\" id=\"edge26\">\n<title>17--26</title>\n<path d=\"M920,-576C920,-576 941.1663,-555.9478 957.7024,-540.2819\" fill=\"none\" stroke=\"#000000\"/>\n</g>\n<!-- 44 -->\n<g class=\"node\" id=\"node45\">\n<title>44</title>\n<text fill=\"#004080\" font-family=\"Courier,monospace\" font-size=\"14.00\" font-weight=\"bold\" text-anchor=\"start\" x=\"1299\" y=\"-519.3\">Assign</text>\n</g>\n<!-- 17&#45;&#45;44 -->\n<g class=\"edge\" id=\"edge44\">\n<title>17--44</title>\n<path d=\"M920,-576C920,-576 1194.452,-539.3158 1290.939,-526.419\" fill=\"none\" stroke=\"#000000\"/>\n</g>\n<!-- 97 -->\n<g class=\"node\" id=\"node98\">\n<title>97</title>\n<text fill=\"#004080\" font-family=\"Courier,monospace\" font-size=\"14.00\" font-weight=\"bold\" text-anchor=\"start\" x=\"1770\" y=\"-519.3\">Expr</text>\n</g>\n<!-- 17&#45;&#45;97 -->\n<g class=\"edge\" id=\"edge97\">\n<title>17--97</title>\n<path d=\"M920,-576C920,-576 1612.2475,-532.8842 1759.6205,-523.7053\" fill=\"none\" stroke=\"#000000\"/>\n</g>\n<!-- 20 -->\n<g class=\"node\" id=\"node21\">\n<title>20</title>\n<text fill=\"#004080\" font-family=\"Courier,monospace\" font-size=\"14.00\" font-weight=\"bold\" text-anchor=\"start\" x=\"620.5\" y=\"-447.3\">arg</text>\n</g>\n<!-- 19&#45;&#45;20 -->\n<g class=\"edge\" id=\"edge20\">\n<title>19--20</title>\n<path d=\"M830,-504C830,-504 714.5222,-472.3462 660.392,-457.5085\" fill=\"none\" stroke=\"#000000\"/>\n</g>\n<!-- 22 -->\n<g class=\"node\" id=\"node23\">\n<title>22</title>\n<text fill=\"#004080\" font-family=\"Courier,monospace\" font-size=\"14.00\" font-weight=\"bold\" text-anchor=\"start\" x=\"739.5\" y=\"-447.3\">arg</text>\n</g>\n<!-- 19&#45;&#45;22 -->\n<g class=\"edge\" id=\"edge22\">\n<title>19--22</title>\n<path d=\"M830,-504C830,-504 801.0356,-483.9478 778.4072,-468.2819\" fill=\"none\" stroke=\"#000000\"/>\n</g>\n<!-- 24 -->\n<g class=\"node\" id=\"node25\">\n<title>24</title>\n<text fill=\"#004080\" font-family=\"Courier,monospace\" font-size=\"14.00\" font-weight=\"bold\" text-anchor=\"start\" x=\"833.5\" y=\"-447.3\">arg</text>\n</g>\n<!-- 19&#45;&#45;24 -->\n<g class=\"edge\" id=\"edge24\">\n<title>19--24</title>\n<path d=\"M830,-504C830,-504 835.9414,-483.9478 840.5831,-468.2819\" fill=\"none\" stroke=\"#000000\"/>\n</g>\n<!-- 21 -->\n<g class=\"node\" id=\"node22\">\n<title>21</title>\n<text fill=\"#008040\" font-family=\"Courier,monospace\" font-size=\"14.00\" text-anchor=\"middle\" x=\"608\" y=\"-374.3\">&quot;latitude&quot;</text>\n</g>\n<!-- 20&#45;&#45;21 -->\n<g class=\"edge\" id=\"edge21\">\n<title>20--21</title>\n<path d=\"M626.6914,-431.8314C622.9306,-421 618.1693,-407.2876 614.3935,-396.4133\" fill=\"none\" stroke=\"#000000\"/>\n</g>\n<!-- 23 -->\n<g class=\"node\" id=\"node24\">\n<title>23</title>\n<text fill=\"#008040\" font-family=\"Courier,monospace\" font-size=\"14.00\" text-anchor=\"middle\" x=\"729\" y=\"-374.3\">&quot;longitude&quot;</text>\n</g>\n<!-- 22&#45;&#45;23 -->\n<g class=\"edge\" id=\"edge23\">\n<title>22--23</title>\n<path d=\"M746.1961,-431.8314C742.7361,-421 738.3558,-407.2876 734.882,-396.4133\" fill=\"none\" stroke=\"#000000\"/>\n</g>\n<!-- 25 -->\n<g class=\"node\" id=\"node26\">\n<title>25</title>\n<text fill=\"#008040\" font-family=\"Courier,monospace\" font-size=\"14.00\" text-anchor=\"middle\" x=\"846\" y=\"-374.3\">&quot;datedow&quot;</text>\n</g>\n<!-- 24&#45;&#45;25 -->\n<g class=\"edge\" id=\"edge25\">\n<title>24--25</title>\n<path d=\"M846,-431.8314C846,-421 846,-407.2876 846,-396.4133\" fill=\"none\" stroke=\"#000000\"/>\n</g>\n<!-- 27 -->\n<g class=\"node\" id=\"node28\">\n<title>27</title>\n<text fill=\"#004080\" font-family=\"Courier,monospace\" font-size=\"14.00\" font-weight=\"bold\" text-anchor=\"start\" x=\"960\" y=\"-447.3\">Name</text>\n</g>\n<!-- 26&#45;&#45;27 -->\n<g class=\"edge\" id=\"edge27\">\n<title>26--27</title>\n<path d=\"M986,-504C986,-504 982.658,-483.9478 980.047,-468.2819\" fill=\"none\" stroke=\"#000000\"/>\n</g>\n<!-- 30 -->\n<g class=\"node\" id=\"node31\">\n<title>30</title>\n<text fill=\"#004080\" font-family=\"Courier,monospace\" font-size=\"14.00\" font-weight=\"bold\" text-anchor=\"start\" x=\"1060\" y=\"-447.3\">Call</text>\n</g>\n<!-- 26&#45;&#45;30 -->\n<g class=\"edge\" id=\"edge30\">\n<title>26--30</title>\n<path d=\"M986,-504C986,-504 1022.8924,-482.1078 1049.697,-466.2018\" fill=\"none\" stroke=\"#000000\"/>\n</g>\n<!-- 28 -->\n<g class=\"node\" id=\"node29\">\n<title>28</title>\n<text fill=\"#008040\" font-family=\"Courier,monospace\" font-size=\"14.00\" text-anchor=\"middle\" x=\"937\" y=\"-374.3\">&quot;h&quot;</text>\n</g>\n<!-- 27&#45;&#45;28 -->\n<g class=\"edge\" id=\"edge28\">\n<title>27--28</title>\n<path d=\"M976,-432C976,-432 961.5178,-411.9478 950.2036,-396.2819\" fill=\"none\" stroke=\"#000000\"/>\n</g>\n<!-- 29 -->\n<g class=\"node\" id=\"node30\">\n<title>29</title>\n<text fill=\"#008040\" font-family=\"Courier,monospace\" font-size=\"14.00\" text-anchor=\"middle\" x=\"1011\" y=\"-374.3\">Store</text>\n</g>\n<!-- 27&#45;&#45;29 -->\n<g class=\"edge\" id=\"edge29\">\n<title>27--29</title>\n<path d=\"M976,-432C976,-432 988.9968,-411.9478 999.1506,-396.2819\" fill=\"none\" stroke=\"#000000\"/>\n</g>\n<!-- 31 -->\n<g class=\"node\" id=\"node32\">\n<title>31</title>\n<text fill=\"#004080\" font-family=\"Courier,monospace\" font-size=\"14.00\" font-weight=\"bold\" text-anchor=\"start\" x=\"1066.5\" y=\"-375.3\">Attribute</text>\n</g>\n<!-- 30&#45;&#45;31 -->\n<g class=\"edge\" id=\"edge31\">\n<title>30--31</title>\n<path d=\"M1083.8132,-431.8314C1087.875,-421 1093.0172,-407.2876 1097.095,-396.4133\" fill=\"none\" stroke=\"#000000\"/>\n</g>\n<!-- 32 -->\n<g class=\"node\" id=\"node33\">\n<title>32</title>\n<text fill=\"#004080\" font-family=\"Courier,monospace\" font-size=\"14.00\" font-weight=\"bold\" text-anchor=\"start\" x=\"889\" y=\"-303.3\">Call</text>\n</g>\n<!-- 31&#45;&#45;32 -->\n<g class=\"edge\" id=\"edge32\">\n<title>31--32</title>\n<path d=\"M1088,-360C1088,-360 1004.7184,-347.0861 942,-324 939.1147,-322.9379 936.1577,-321.7092 933.2389,-320.4025\" fill=\"none\" stroke=\"#000000\"/>\n</g>\n<!-- 42 -->\n<g class=\"node\" id=\"node43\">\n<title>42</title>\n<text fill=\"#008040\" font-family=\"Courier,monospace\" font-size=\"14.00\" text-anchor=\"middle\" x=\"1005\" y=\"-302.3\">&quot;hexdigest&quot;</text>\n</g>\n<!-- 31&#45;&#45;42 -->\n<g class=\"edge\" id=\"edge42\">\n<title>31--42</title>\n<path d=\"M1088,-360C1088,-360 1057.179,-339.9478 1033.1,-324.2819\" fill=\"none\" stroke=\"#000000\"/>\n</g>\n<!-- 43 -->\n<g class=\"node\" id=\"node44\">\n<title>43</title>\n<text fill=\"#008040\" font-family=\"Courier,monospace\" font-size=\"14.00\" text-anchor=\"middle\" x=\"1104\" y=\"-302.3\">Load</text>\n</g>\n<!-- 31&#45;&#45;43 -->\n<g class=\"edge\" id=\"edge43\">\n<title>31--43</title>\n<path d=\"M1088,-360C1088,-360 1093.9414,-339.9478 1098.5831,-324.2819\" fill=\"none\" stroke=\"#000000\"/>\n</g>\n<!-- 33 -->\n<g class=\"node\" id=\"node34\">\n<title>33</title>\n<text fill=\"#004080\" font-family=\"Courier,monospace\" font-size=\"14.00\" font-weight=\"bold\" text-anchor=\"start\" x=\"804.5\" y=\"-231.3\">Attribute</text>\n</g>\n<!-- 32&#45;&#45;33 -->\n<g class=\"edge\" id=\"edge33\">\n<title>32--33</title>\n<path d=\"M906,-288C906,-288 882.2344,-267.9478 863.6675,-252.2819\" fill=\"none\" stroke=\"#000000\"/>\n</g>\n<!-- 39 -->\n<g class=\"node\" id=\"node40\">\n<title>39</title>\n<text fill=\"#004080\" font-family=\"Courier,monospace\" font-size=\"14.00\" font-weight=\"bold\" text-anchor=\"start\" x=\"953\" y=\"-231.3\">Name</text>\n</g>\n<!-- 32&#45;&#45;39 -->\n<g class=\"edge\" id=\"edge39\">\n<title>32--39</title>\n<path d=\"M906,-288C906,-288 929.7656,-267.9478 948.3325,-252.2819\" fill=\"none\" stroke=\"#000000\"/>\n</g>\n<!-- 34 -->\n<g class=\"node\" id=\"node35\">\n<title>34</title>\n<text fill=\"#004080\" font-family=\"Courier,monospace\" font-size=\"14.00\" font-weight=\"bold\" text-anchor=\"start\" x=\"714\" y=\"-159.3\">Name</text>\n</g>\n<!-- 33&#45;&#45;34 -->\n<g class=\"edge\" id=\"edge34\">\n<title>33--34</title>\n<path d=\"M835,-216C835,-216 788.868,-192.0469 758.0533,-176.0469\" fill=\"none\" stroke=\"#000000\"/>\n</g>\n<!-- 37 -->\n<g class=\"node\" id=\"node38\">\n<title>37</title>\n<text fill=\"#008040\" font-family=\"Courier,monospace\" font-size=\"14.00\" text-anchor=\"middle\" x=\"805\" y=\"-158.3\">&quot;md5&quot;</text>\n</g>\n<!-- 33&#45;&#45;37 -->\n<g class=\"edge\" id=\"edge37\">\n<title>33--37</title>\n<path d=\"M835,-216C835,-216 823.8599,-195.9478 815.1566,-180.2819\" fill=\"none\" stroke=\"#000000\"/>\n</g>\n<!-- 38 -->\n<g class=\"node\" id=\"node39\">\n<title>38</title>\n<text fill=\"#008040\" font-family=\"Courier,monospace\" font-size=\"14.00\" text-anchor=\"middle\" x=\"879\" y=\"-158.3\">Load</text>\n</g>\n<!-- 33&#45;&#45;38 -->\n<g class=\"edge\" id=\"edge38\">\n<title>33--38</title>\n<path d=\"M835,-216C835,-216 851.3389,-195.9478 864.1036,-180.2819\" fill=\"none\" stroke=\"#000000\"/>\n</g>\n<!-- 35 -->\n<g class=\"node\" id=\"node36\">\n<title>35</title>\n<text fill=\"#008040\" font-family=\"Courier,monospace\" font-size=\"14.00\" text-anchor=\"middle\" x=\"686\" y=\"-86.3\">&quot;hashlib&quot;</text>\n</g>\n<!-- 34&#45;&#45;35 -->\n<g class=\"edge\" id=\"edge35\">\n<title>34--35</title>\n<path d=\"M731,-144C731,-144 714.2898,-123.9478 701.2349,-108.2819\" fill=\"none\" stroke=\"#000000\"/>\n</g>\n<!-- 36 -->\n<g class=\"node\" id=\"node37\">\n<title>36</title>\n<text fill=\"#008040\" font-family=\"Courier,monospace\" font-size=\"14.00\" text-anchor=\"middle\" x=\"777\" y=\"-86.3\">Load</text>\n</g>\n<!-- 34&#45;&#45;36 -->\n<g class=\"edge\" id=\"edge36\">\n<title>34--36</title>\n<path d=\"M731,-144C731,-144 748.0815,-123.9478 761.4265,-108.2819\" fill=\"none\" stroke=\"#000000\"/>\n</g>\n<!-- 40 -->\n<g class=\"node\" id=\"node41\">\n<title>40</title>\n<text fill=\"#008040\" font-family=\"Courier,monospace\" font-size=\"14.00\" text-anchor=\"middle\" x=\"970\" y=\"-158.3\">&quot;datedow&quot;</text>\n</g>\n<!-- 39&#45;&#45;40 -->\n<g class=\"edge\" id=\"edge40\">\n<title>39--40</title>\n<path d=\"M979,-216C979,-216 975.658,-195.9478 973.047,-180.2819\" fill=\"none\" stroke=\"#000000\"/>\n</g>\n<!-- 41 -->\n<g class=\"node\" id=\"node42\">\n<title>41</title>\n<text fill=\"#008040\" font-family=\"Courier,monospace\" font-size=\"14.00\" text-anchor=\"middle\" x=\"1061\" y=\"-158.3\">Load</text>\n</g>\n<!-- 39&#45;&#45;41 -->\n<g class=\"edge\" id=\"edge41\">\n<title>39--41</title>\n<path d=\"M979,-216C979,-216 1009.8413,-195.6898 1033.6952,-179.9812\" fill=\"none\" stroke=\"#000000\"/>\n</g>\n<!-- 45 -->\n<g class=\"node\" id=\"node46\">\n<title>45</title>\n<text fill=\"#004080\" font-family=\"Courier,monospace\" font-size=\"14.00\" font-weight=\"bold\" text-anchor=\"start\" x=\"1303\" y=\"-447.3\">Tuple</text>\n</g>\n<!-- 44&#45;&#45;45 -->\n<g class=\"edge\" id=\"edge45\">\n<title>44--45</title>\n<path d=\"M1337,-504C1337,-504 1332.1726,-483.9478 1328.4012,-468.2819\" fill=\"none\" stroke=\"#000000\"/>\n</g>\n<!-- 53 -->\n<g class=\"node\" id=\"node54\">\n<title>53</title>\n<text fill=\"#004080\" font-family=\"Courier,monospace\" font-size=\"14.00\" font-weight=\"bold\" text-anchor=\"start\" x=\"1510.5\" y=\"-447.3\">ListComp</text>\n</g>\n<!-- 44&#45;&#45;53 -->\n<g class=\"edge\" id=\"edge53\">\n<title>44--53</title>\n<path d=\"M1337,-504C1337,-504 1441.6245,-476.7067 1502.1105,-460.9277\" fill=\"none\" stroke=\"#000000\"/>\n</g>\n<!-- 46 -->\n<g class=\"node\" id=\"node47\">\n<title>46</title>\n<text fill=\"#004080\" font-family=\"Courier,monospace\" font-size=\"14.00\" font-weight=\"bold\" text-anchor=\"start\" x=\"1233\" y=\"-375.3\">Name</text>\n</g>\n<!-- 45&#45;&#45;46 -->\n<g class=\"edge\" id=\"edge46\">\n<title>45--46</title>\n<path d=\"M1324,-432C1324,-432 1296.521,-411.9478 1275.053,-396.2819\" fill=\"none\" stroke=\"#000000\"/>\n</g>\n<!-- 49 -->\n<g class=\"node\" id=\"node50\">\n<title>49</title>\n<text fill=\"#004080\" font-family=\"Courier,monospace\" font-size=\"14.00\" font-weight=\"bold\" text-anchor=\"start\" x=\"1307\" y=\"-375.3\">Name</text>\n</g>\n<!-- 45&#45;&#45;49 -->\n<g class=\"edge\" id=\"edge49\">\n<title>45--49</title>\n<path d=\"M1324,-432C1324,-432 1324,-411.9478 1324,-396.2819\" fill=\"none\" stroke=\"#000000\"/>\n</g>\n<!-- 52 -->\n<g class=\"node\" id=\"node53\">\n<title>52</title>\n<text fill=\"#008040\" font-family=\"Courier,monospace\" font-size=\"14.00\" text-anchor=\"middle\" x=\"1398\" y=\"-374.3\">Store</text>\n</g>\n<!-- 45&#45;&#45;52 -->\n<g class=\"edge\" id=\"edge52\">\n<title>45--52</title>\n<path d=\"M1324,-432C1324,-432 1351.479,-411.9478 1372.947,-396.2819\" fill=\"none\" stroke=\"#000000\"/>\n</g>\n<!-- 47 -->\n<g class=\"node\" id=\"node48\">\n<title>47</title>\n<text fill=\"#008040\" font-family=\"Courier,monospace\" font-size=\"14.00\" text-anchor=\"middle\" x=\"1176\" y=\"-302.3\">&quot;p&quot;</text>\n</g>\n<!-- 46&#45;&#45;47 -->\n<g class=\"edge\" id=\"edge47\">\n<title>46--47</title>\n<path d=\"M1242,-360C1242,-360 1217.4917,-339.9478 1198.3446,-324.2819\" fill=\"none\" stroke=\"#000000\"/>\n</g>\n<!-- 48 -->\n<g class=\"node\" id=\"node49\">\n<title>48</title>\n<text fill=\"#008040\" font-family=\"Courier,monospace\" font-size=\"14.00\" text-anchor=\"middle\" x=\"1250\" y=\"-302.3\">Store</text>\n</g>\n<!-- 46&#45;&#45;48 -->\n<g class=\"edge\" id=\"edge48\">\n<title>46--48</title>\n<path d=\"M1242,-360C1242,-360 1244.9707,-339.9478 1247.2916,-324.2819\" fill=\"none\" stroke=\"#000000\"/>\n</g>\n<!-- 50 -->\n<g class=\"node\" id=\"node51\">\n<title>50</title>\n<text fill=\"#008040\" font-family=\"Courier,monospace\" font-size=\"14.00\" text-anchor=\"middle\" x=\"1324\" y=\"-302.3\">&quot;q&quot;</text>\n</g>\n<!-- 49&#45;&#45;50 -->\n<g class=\"edge\" id=\"edge50\">\n<title>49--50</title>\n<path d=\"M1332,-360C1332,-360 1329.0293,-339.9478 1326.7084,-324.2819\" fill=\"none\" stroke=\"#000000\"/>\n</g>\n<!-- 51 -->\n<g class=\"node\" id=\"node52\">\n<title>51</title>\n<text fill=\"#008040\" font-family=\"Courier,monospace\" font-size=\"14.00\" text-anchor=\"middle\" x=\"1398\" y=\"-302.3\">Store</text>\n</g>\n<!-- 49&#45;&#45;51 -->\n<g class=\"edge\" id=\"edge51\">\n<title>49--51</title>\n<path d=\"M1332,-360C1332,-360 1356.5083,-339.9478 1375.6554,-324.2819\" fill=\"none\" stroke=\"#000000\"/>\n</g>\n<!-- 54 -->\n<g class=\"node\" id=\"node55\">\n<title>54</title>\n<text fill=\"#004080\" font-family=\"Courier,monospace\" font-size=\"14.00\" font-weight=\"bold\" text-anchor=\"start\" x=\"1523\" y=\"-375.3\">BinOp</text>\n</g>\n<!-- 53&#45;&#45;54 -->\n<g class=\"edge\" id=\"edge54\">\n<title>53--54</title>\n<path d=\"M1559,-432C1559,-432 1553.4299,-411.9478 1549.0783,-396.2819\" fill=\"none\" stroke=\"#000000\"/>\n</g>\n<!-- 72 -->\n<g class=\"node\" id=\"node73\">\n<title>72</title>\n<text fill=\"#004080\" font-family=\"Courier,monospace\" font-size=\"14.00\" font-weight=\"bold\" text-anchor=\"start\" x=\"1819\" y=\"-375.3\">comprehension</text>\n</g>\n<!-- 53&#45;&#45;72 -->\n<g class=\"edge\" id=\"edge72\">\n<title>53--72</title>\n<path d=\"M1559,-432C1559,-432 1719.4545,-404.4059 1810.9637,-388.6687\" fill=\"none\" stroke=\"#000000\"/>\n</g>\n<!-- 55 -->\n<g class=\"node\" id=\"node56\">\n<title>55</title>\n<text fill=\"#004080\" font-family=\"Courier,monospace\" font-size=\"14.00\" font-weight=\"bold\" text-anchor=\"start\" x=\"1459.5\" y=\"-303.3\">Str</text>\n</g>\n<!-- 54&#45;&#45;55 -->\n<g class=\"edge\" id=\"edge55\">\n<title>54--55</title>\n<path d=\"M1544,-360C1544,-360 1517.2637,-339.9478 1496.3759,-324.2819\" fill=\"none\" stroke=\"#000000\"/>\n</g>\n<!-- 57 -->\n<g class=\"node\" id=\"node58\">\n<title>57</title>\n<text fill=\"#008040\" font-family=\"Courier,monospace\" font-size=\"14.00\" text-anchor=\"middle\" x=\"1544\" y=\"-302.3\">Mod</text>\n</g>\n<!-- 54&#45;&#45;57 -->\n<g class=\"edge\" id=\"edge57\">\n<title>54--57</title>\n<path d=\"M1544,-360C1544,-360 1544,-339.9478 1544,-324.2819\" fill=\"none\" stroke=\"#000000\"/>\n</g>\n<!-- 58 -->\n<g class=\"node\" id=\"node59\">\n<title>58</title>\n<text fill=\"#004080\" font-family=\"Courier,monospace\" font-size=\"14.00\" font-weight=\"bold\" text-anchor=\"start\" x=\"1599\" y=\"-303.3\">Call</text>\n</g>\n<!-- 54&#45;&#45;58 -->\n<g class=\"edge\" id=\"edge58\">\n<title>54--58</title>\n<path d=\"M1544,-360C1544,-360 1570.7363,-339.9478 1591.6241,-324.2819\" fill=\"none\" stroke=\"#000000\"/>\n</g>\n<!-- 56 -->\n<g class=\"node\" id=\"node57\">\n<title>56</title>\n<text fill=\"#008040\" font-family=\"Courier,monospace\" font-size=\"14.00\" text-anchor=\"middle\" x=\"1381\" y=\"-230.3\">&quot;%f&quot;</text>\n</g>\n<!-- 55&#45;&#45;56 -->\n<g class=\"edge\" id=\"edge56\">\n<title>55--56</title>\n<path d=\"M1449.0369,-287.8314C1435.2419,-276.9167 1417.7494,-263.0764 1403.9558,-252.1628\" fill=\"none\" stroke=\"#000000\"/>\n</g>\n<!-- 59 -->\n<g class=\"node\" id=\"node60\">\n<title>59</title>\n<text fill=\"#004080\" font-family=\"Courier,monospace\" font-size=\"14.00\" font-weight=\"bold\" text-anchor=\"start\" x=\"1434.5\" y=\"-231.3\">Attribute</text>\n</g>\n<!-- 58&#45;&#45;59 -->\n<g class=\"edge\" id=\"edge59\">\n<title>58--59</title>\n<path d=\"M1605,-288C1605,-288 1555.295,-267.819 1516.6571,-252.1314\" fill=\"none\" stroke=\"#000000\"/>\n</g>\n<!-- 65 -->\n<g class=\"node\" id=\"node66\">\n<title>65</title>\n<text fill=\"#004080\" font-family=\"Courier,monospace\" font-size=\"14.00\" font-weight=\"bold\" text-anchor=\"start\" x=\"1595\" y=\"-231.3\">BinOp</text>\n</g>\n<!-- 58&#45;&#45;65 -->\n<g class=\"edge\" id=\"edge65\">\n<title>58--65</title>\n<path d=\"M1605,-288C1605,-288 1609.0847,-267.9478 1612.2759,-252.2819\" fill=\"none\" stroke=\"#000000\"/>\n</g>\n<!-- 60 -->\n<g class=\"node\" id=\"node61\">\n<title>60</title>\n<text fill=\"#004080\" font-family=\"Courier,monospace\" font-size=\"14.00\" font-weight=\"bold\" text-anchor=\"start\" x=\"1273\" y=\"-159.3\">Name</text>\n</g>\n<!-- 59&#45;&#45;60 -->\n<g class=\"edge\" id=\"edge60\">\n<title>59--60</title>\n<path d=\"M1456,-216C1456,-216 1381.962,-201.5063 1326,-180 1323.13,-178.8971 1320.1832,-177.6415 1317.2706,-176.3184\" fill=\"none\" stroke=\"#000000\"/>\n</g>\n<!-- 63 -->\n<g class=\"node\" id=\"node64\">\n<title>63</title>\n<text fill=\"#008040\" font-family=\"Courier,monospace\" font-size=\"14.00\" text-anchor=\"middle\" x=\"1381\" y=\"-158.3\">&quot;fromhex&quot;</text>\n</g>\n<!-- 59&#45;&#45;63 -->\n<g class=\"edge\" id=\"edge63\">\n<title>59--63</title>\n<path d=\"M1456,-216C1456,-216 1428.1497,-195.9478 1406.3916,-180.2819\" fill=\"none\" stroke=\"#000000\"/>\n</g>\n<!-- 64 -->\n<g class=\"node\" id=\"node65\">\n<title>64</title>\n<text fill=\"#008040\" font-family=\"Courier,monospace\" font-size=\"14.00\" text-anchor=\"middle\" x=\"1472\" y=\"-158.3\">Load</text>\n</g>\n<!-- 59&#45;&#45;64 -->\n<g class=\"edge\" id=\"edge64\">\n<title>59--64</title>\n<path d=\"M1456,-216C1456,-216 1461.9414,-195.9478 1466.5831,-180.2819\" fill=\"none\" stroke=\"#000000\"/>\n</g>\n<!-- 61 -->\n<g class=\"node\" id=\"node62\">\n<title>61</title>\n<text fill=\"#008040\" font-family=\"Courier,monospace\" font-size=\"14.00\" text-anchor=\"middle\" x=\"1249\" y=\"-86.3\">&quot;float&quot;</text>\n</g>\n<!-- 60&#45;&#45;61 -->\n<g class=\"edge\" id=\"edge61\">\n<title>60--61</title>\n<path d=\"M1290,-144C1290,-144 1274.7751,-123.9478 1262.8807,-108.2819\" fill=\"none\" stroke=\"#000000\"/>\n</g>\n<!-- 62 -->\n<g class=\"node\" id=\"node63\">\n<title>62</title>\n<text fill=\"#008040\" font-family=\"Courier,monospace\" font-size=\"14.00\" text-anchor=\"middle\" x=\"1331\" y=\"-86.3\">Load</text>\n</g>\n<!-- 60&#45;&#45;62 -->\n<g class=\"edge\" id=\"edge62\">\n<title>60--62</title>\n<path d=\"M1290,-144C1290,-144 1305.2249,-123.9478 1317.1193,-108.2819\" fill=\"none\" stroke=\"#000000\"/>\n</g>\n<!-- 66 -->\n<g class=\"node\" id=\"node67\">\n<title>66</title>\n<text fill=\"#004080\" font-family=\"Courier,monospace\" font-size=\"14.00\" font-weight=\"bold\" text-anchor=\"start\" x=\"1531.5\" y=\"-159.3\">Str</text>\n</g>\n<!-- 65&#45;&#45;66 -->\n<g class=\"edge\" id=\"edge66\">\n<title>65--66</title>\n<path d=\"M1616,-216C1616,-216 1589.2637,-195.9478 1568.3759,-180.2819\" fill=\"none\" stroke=\"#000000\"/>\n</g>\n<!-- 68 -->\n<g class=\"node\" id=\"node69\">\n<title>68</title>\n<text fill=\"#008040\" font-family=\"Courier,monospace\" font-size=\"14.00\" text-anchor=\"middle\" x=\"1616\" y=\"-158.3\">Add</text>\n</g>\n<!-- 65&#45;&#45;68 -->\n<g class=\"edge\" id=\"edge68\">\n<title>65--68</title>\n<path d=\"M1616,-216C1616,-216 1616,-195.9478 1616,-180.2819\" fill=\"none\" stroke=\"#000000\"/>\n</g>\n<!-- 69 -->\n<g class=\"node\" id=\"node70\">\n<title>69</title>\n<text fill=\"#004080\" font-family=\"Courier,monospace\" font-size=\"14.00\" font-weight=\"bold\" text-anchor=\"start\" x=\"1671\" y=\"-159.3\">Name</text>\n</g>\n<!-- 65&#45;&#45;69 -->\n<g class=\"edge\" id=\"edge69\">\n<title>65--69</title>\n<path d=\"M1616,-216C1616,-216 1642.7363,-195.9478 1663.6241,-180.2819\" fill=\"none\" stroke=\"#000000\"/>\n</g>\n<!-- 67 -->\n<g class=\"node\" id=\"node68\">\n<title>67</title>\n<text fill=\"#008040\" font-family=\"Courier,monospace\" font-size=\"14.00\" text-anchor=\"middle\" x=\"1544\" y=\"-86.3\">&quot;0.&quot;</text>\n</g>\n<!-- 66&#45;&#45;67 -->\n<g class=\"edge\" id=\"edge67\">\n<title>66--67</title>\n<path d=\"M1544,-143.8314C1544,-133 1544,-119.2876 1544,-108.4133\" fill=\"none\" stroke=\"#000000\"/>\n</g>\n<!-- 70 -->\n<g class=\"node\" id=\"node71\">\n<title>70</title>\n<text fill=\"#008040\" font-family=\"Courier,monospace\" font-size=\"14.00\" text-anchor=\"middle\" x=\"1616\" y=\"-86.3\">&quot;x&quot;</text>\n</g>\n<!-- 69&#45;&#45;70 -->\n<g class=\"edge\" id=\"edge70\">\n<title>69--70</title>\n<path d=\"M1680,-144C1680,-144 1656.2344,-123.9478 1637.6675,-108.2819\" fill=\"none\" stroke=\"#000000\"/>\n</g>\n<!-- 71 -->\n<g class=\"node\" id=\"node72\">\n<title>71</title>\n<text fill=\"#008040\" font-family=\"Courier,monospace\" font-size=\"14.00\" text-anchor=\"middle\" x=\"1688\" y=\"-86.3\">Load</text>\n</g>\n<!-- 69&#45;&#45;71 -->\n<g class=\"edge\" id=\"edge71\">\n<title>69--71</title>\n<path d=\"M1680,-144C1680,-144 1682.9707,-123.9478 1685.2916,-108.2819\" fill=\"none\" stroke=\"#000000\"/>\n</g>\n<!-- 73 -->\n<g class=\"node\" id=\"node74\">\n<title>73</title>\n<text fill=\"#004080\" font-family=\"Courier,monospace\" font-size=\"14.00\" font-weight=\"bold\" text-anchor=\"start\" x=\"1809\" y=\"-303.3\">Name</text>\n</g>\n<!-- 72&#45;&#45;73 -->\n<g class=\"edge\" id=\"edge73\">\n<title>72--73</title>\n<path d=\"M1880,-360C1880,-360 1859.9478,-339.9478 1844.2819,-324.2819\" fill=\"none\" stroke=\"#000000\"/>\n</g>\n<!-- 76 -->\n<g class=\"node\" id=\"node77\">\n<title>76</title>\n<text fill=\"#004080\" font-family=\"Courier,monospace\" font-size=\"14.00\" font-weight=\"bold\" text-anchor=\"start\" x=\"1898\" y=\"-303.3\">Tuple</text>\n</g>\n<!-- 72&#45;&#45;76 -->\n<g class=\"edge\" id=\"edge76\">\n<title>72--76</title>\n<path d=\"M1880,-360C1880,-360 1894.4822,-339.9478 1905.7964,-324.2819\" fill=\"none\" stroke=\"#000000\"/>\n</g>\n<!-- 96 -->\n<g class=\"node\" id=\"node97\">\n<title>96</title>\n<text fill=\"#008040\" font-family=\"Courier,monospace\" font-size=\"14.00\" text-anchor=\"middle\" x=\"1993\" y=\"-302.3\">0</text>\n</g>\n<!-- 72&#45;&#45;96 -->\n<g class=\"edge\" id=\"edge96\">\n<title>72--96</title>\n<path d=\"M1880,-360C1880,-360 1922.9912,-340.4488 1957,-324 1959.8937,-322.6004 1962.9098,-321.1227 1965.9109,-319.64\" fill=\"none\" stroke=\"#000000\"/>\n</g>\n<!-- 74 -->\n<g class=\"node\" id=\"node75\">\n<title>74</title>\n<text fill=\"#008040\" font-family=\"Courier,monospace\" font-size=\"14.00\" text-anchor=\"middle\" x=\"1752\" y=\"-230.3\">&quot;x&quot;</text>\n</g>\n<!-- 73&#45;&#45;74 -->\n<g class=\"edge\" id=\"edge74\">\n<title>73--74</title>\n<path d=\"M1818,-288C1818,-288 1793.4917,-267.9478 1774.3446,-252.2819\" fill=\"none\" stroke=\"#000000\"/>\n</g>\n<!-- 75 -->\n<g class=\"node\" id=\"node76\">\n<title>75</title>\n<text fill=\"#008040\" font-family=\"Courier,monospace\" font-size=\"14.00\" text-anchor=\"middle\" x=\"1826\" y=\"-230.3\">Store</text>\n</g>\n<!-- 73&#45;&#45;75 -->\n<g class=\"edge\" id=\"edge75\">\n<title>73--75</title>\n<path d=\"M1818,-288C1818,-288 1820.9707,-267.9478 1823.2916,-252.2819\" fill=\"none\" stroke=\"#000000\"/>\n</g>\n<!-- 77 -->\n<g class=\"node\" id=\"node78\">\n<title>77</title>\n<text fill=\"#004080\" font-family=\"Courier,monospace\" font-size=\"14.00\" font-weight=\"bold\" text-anchor=\"start\" x=\"1881.5\" y=\"-231.3\">Subscript</text>\n</g>\n<!-- 76&#45;&#45;77 -->\n<g class=\"edge\" id=\"edge77\">\n<title>76--77</title>\n<path d=\"M1937,-288C1937,-288 1930.3159,-267.9478 1925.094,-252.2819\" fill=\"none\" stroke=\"#000000\"/>\n</g>\n<!-- 85 -->\n<g class=\"node\" id=\"node86\">\n<title>85</title>\n<text fill=\"#004080\" font-family=\"Courier,monospace\" font-size=\"14.00\" font-weight=\"bold\" text-anchor=\"start\" x=\"2008.5\" y=\"-231.3\">Subscript</text>\n</g>\n<!-- 76&#45;&#45;85 -->\n<g class=\"edge\" id=\"edge85\">\n<title>76--85</title>\n<path d=\"M1937,-288C1937,-288 1977.7357,-267.819 2009.4014,-252.1314\" fill=\"none\" stroke=\"#000000\"/>\n</g>\n<!-- 95 -->\n<g class=\"node\" id=\"node96\">\n<title>95</title>\n<text fill=\"#008040\" font-family=\"Courier,monospace\" font-size=\"14.00\" text-anchor=\"middle\" x=\"2137\" y=\"-230.3\">Load</text>\n</g>\n<!-- 76&#45;&#45;95 -->\n<g class=\"edge\" id=\"edge95\">\n<title>76--95</title>\n<path d=\"M1937,-288C1937,-288 2029.9357,-276.3967 2100,-252 2103.2381,-250.8725 2106.5628,-249.5349 2109.8276,-248.1058\" fill=\"none\" stroke=\"#000000\"/>\n</g>\n<!-- 78 -->\n<g class=\"node\" id=\"node79\">\n<title>78</title>\n<text fill=\"#004080\" font-family=\"Courier,monospace\" font-size=\"14.00\" font-weight=\"bold\" text-anchor=\"start\" x=\"1809\" y=\"-159.3\">Name</text>\n</g>\n<!-- 77&#45;&#45;78 -->\n<g class=\"edge\" id=\"edge78\">\n<title>77--78</title>\n<path d=\"M1916,-216C1916,-216 1879.513,-194.1078 1853.003,-178.2018\" fill=\"none\" stroke=\"#000000\"/>\n</g>\n<!-- 81 -->\n<g class=\"node\" id=\"node82\">\n<title>81</title>\n<text fill=\"#004080\" font-family=\"Courier,monospace\" font-size=\"14.00\" font-weight=\"bold\" text-anchor=\"start\" x=\"1879\" y=\"-159.3\">Slice</text>\n</g>\n<!-- 77&#45;&#45;81 -->\n<g class=\"edge\" id=\"edge81\">\n<title>77--81</title>\n<path d=\"M1916,-216C1916,-216 1910.0586,-195.9478 1905.4169,-180.2819\" fill=\"none\" stroke=\"#000000\"/>\n</g>\n<!-- 84 -->\n<g class=\"node\" id=\"node85\">\n<title>84</title>\n<text fill=\"#008040\" font-family=\"Courier,monospace\" font-size=\"14.00\" text-anchor=\"middle\" x=\"1974\" y=\"-158.3\">Load</text>\n</g>\n<!-- 77&#45;&#45;84 -->\n<g class=\"edge\" id=\"edge84\">\n<title>77--84</title>\n<path d=\"M1916,-216C1916,-216 1937.5376,-195.9478 1954.3638,-180.2819\" fill=\"none\" stroke=\"#000000\"/>\n</g>\n<!-- 79 -->\n<g class=\"node\" id=\"node80\">\n<title>79</title>\n<text fill=\"#008040\" font-family=\"Courier,monospace\" font-size=\"14.00\" text-anchor=\"middle\" x=\"1760\" y=\"-86.3\">&quot;h&quot;</text>\n</g>\n<!-- 78&#45;&#45;79 -->\n<g class=\"edge\" id=\"edge79\">\n<title>78--79</title>\n<path d=\"M1820,-144C1820,-144 1797.7197,-123.9478 1780.3133,-108.2819\" fill=\"none\" stroke=\"#000000\"/>\n</g>\n<!-- 80 -->\n<g class=\"node\" id=\"node81\">\n<title>80</title>\n<text fill=\"#008040\" font-family=\"Courier,monospace\" font-size=\"14.00\" text-anchor=\"middle\" x=\"1832\" y=\"-86.3\">Load</text>\n</g>\n<!-- 78&#45;&#45;80 -->\n<g class=\"edge\" id=\"edge80\">\n<title>78--80</title>\n<path d=\"M1820,-144C1820,-144 1824.4561,-123.9478 1827.9373,-108.2819\" fill=\"none\" stroke=\"#000000\"/>\n</g>\n<!-- 82 -->\n<g class=\"node\" id=\"node83\">\n<title>82</title>\n<text fill=\"#004080\" font-family=\"Courier,monospace\" font-size=\"14.00\" font-weight=\"bold\" text-anchor=\"start\" x=\"1891.5\" y=\"-87.3\">Num</text>\n</g>\n<!-- 81&#45;&#45;82 -->\n<g class=\"edge\" id=\"edge82\">\n<title>81--82</title>\n<path d=\"M1901.0094,-143.8314C1901.6111,-133 1902.3729,-119.2876 1902.977,-108.4133\" fill=\"none\" stroke=\"#000000\"/>\n</g>\n<!-- 83 -->\n<g class=\"node\" id=\"node84\">\n<title>83</title>\n<text fill=\"#008040\" font-family=\"Courier,monospace\" font-size=\"14.00\" text-anchor=\"middle\" x=\"1904\" y=\"-14.3\">16</text>\n</g>\n<!-- 82&#45;&#45;83 -->\n<g class=\"edge\" id=\"edge83\">\n<title>82--83</title>\n<path d=\"M1904,-71.8314C1904,-61 1904,-47.2876 1904,-36.4133\" fill=\"none\" stroke=\"#000000\"/>\n</g>\n<!-- 86 -->\n<g class=\"node\" id=\"node87\">\n<title>86</title>\n<text fill=\"#004080\" font-family=\"Courier,monospace\" font-size=\"14.00\" font-weight=\"bold\" text-anchor=\"start\" x=\"2029\" y=\"-159.3\">Name</text>\n</g>\n<!-- 85&#45;&#45;86 -->\n<g class=\"edge\" id=\"edge86\">\n<title>85--86</title>\n<path d=\"M2060,-216C2060,-216 2054.8013,-195.9478 2050.7398,-180.2819\" fill=\"none\" stroke=\"#000000\"/>\n</g>\n<!-- 89 -->\n<g class=\"node\" id=\"node90\">\n<title>89</title>\n<text fill=\"#004080\" font-family=\"Courier,monospace\" font-size=\"14.00\" font-weight=\"bold\" text-anchor=\"start\" x=\"2099\" y=\"-159.3\">Slice</text>\n</g>\n<!-- 85&#45;&#45;89 -->\n<g class=\"edge\" id=\"edge89\">\n<title>85--89</title>\n<path d=\"M2060,-216C2060,-216 2082.2803,-195.9478 2099.6867,-180.2819\" fill=\"none\" stroke=\"#000000\"/>\n</g>\n<!-- 94 -->\n<g class=\"node\" id=\"node95\">\n<title>94</title>\n<text fill=\"#008040\" font-family=\"Courier,monospace\" font-size=\"14.00\" text-anchor=\"middle\" x=\"2194\" y=\"-158.3\">Load</text>\n</g>\n<!-- 85&#45;&#45;94 -->\n<g class=\"edge\" id=\"edge94\">\n<title>85--94</title>\n<path d=\"M2060,-216C2060,-216 2115.4046,-198.4043 2158,-180 2160.8224,-178.7805 2163.7381,-177.4485 2166.6316,-176.0786\" fill=\"none\" stroke=\"#000000\"/>\n</g>\n<!-- 87 -->\n<g class=\"node\" id=\"node88\">\n<title>87</title>\n<text fill=\"#008040\" font-family=\"Courier,monospace\" font-size=\"14.00\" text-anchor=\"middle\" x=\"1976\" y=\"-86.3\">&quot;h&quot;</text>\n</g>\n<!-- 86&#45;&#45;87 -->\n<g class=\"edge\" id=\"edge87\">\n<title>86--87</title>\n<path d=\"M2039,-144C2039,-144 2015.6057,-123.9478 1997.3289,-108.2819\" fill=\"none\" stroke=\"#000000\"/>\n</g>\n<!-- 88 -->\n<g class=\"node\" id=\"node89\">\n<title>88</title>\n<text fill=\"#008040\" font-family=\"Courier,monospace\" font-size=\"14.00\" text-anchor=\"middle\" x=\"2048\" y=\"-86.3\">Load</text>\n</g>\n<!-- 86&#45;&#45;88 -->\n<g class=\"edge\" id=\"edge88\">\n<title>86--88</title>\n<path d=\"M2039,-144C2039,-144 2042.342,-123.9478 2044.953,-108.2819\" fill=\"none\" stroke=\"#000000\"/>\n</g>\n<!-- 90 -->\n<g class=\"node\" id=\"node91\">\n<title>90</title>\n<text fill=\"#004080\" font-family=\"Courier,monospace\" font-size=\"14.00\" font-weight=\"bold\" text-anchor=\"start\" x=\"2107.5\" y=\"-87.3\">Num</text>\n</g>\n<!-- 89&#45;&#45;90 -->\n<g class=\"edge\" id=\"edge90\">\n<title>89--90</title>\n<path d=\"M2128,-144C2128,-144 2125.0293,-123.9478 2122.7084,-108.2819\" fill=\"none\" stroke=\"#000000\"/>\n</g>\n<!-- 92 -->\n<g class=\"node\" id=\"node93\">\n<title>92</title>\n<text fill=\"#004080\" font-family=\"Courier,monospace\" font-size=\"14.00\" font-weight=\"bold\" text-anchor=\"start\" x=\"2179.5\" y=\"-87.3\">Num</text>\n</g>\n<!-- 89&#45;&#45;92 -->\n<g class=\"edge\" id=\"edge92\">\n<title>89--92</title>\n<path d=\"M2128,-144C2128,-144 2151.7656,-123.9478 2170.3325,-108.2819\" fill=\"none\" stroke=\"#000000\"/>\n</g>\n<!-- 91 -->\n<g class=\"node\" id=\"node92\">\n<title>91</title>\n<text fill=\"#008040\" font-family=\"Courier,monospace\" font-size=\"14.00\" text-anchor=\"middle\" x=\"2120\" y=\"-14.3\">16</text>\n</g>\n<!-- 90&#45;&#45;91 -->\n<g class=\"edge\" id=\"edge91\">\n<title>90--91</title>\n<path d=\"M2120,-71.8314C2120,-61 2120,-47.2876 2120,-36.4133\" fill=\"none\" stroke=\"#000000\"/>\n</g>\n<!-- 93 -->\n<g class=\"node\" id=\"node94\">\n<title>93</title>\n<text fill=\"#008040\" font-family=\"Courier,monospace\" font-size=\"14.00\" text-anchor=\"middle\" x=\"2192\" y=\"-14.3\">32</text>\n</g>\n<!-- 92&#45;&#45;93 -->\n<g class=\"edge\" id=\"edge93\">\n<title>92--93</title>\n<path d=\"M2192,-71.8314C2192,-61 2192,-47.2876 2192,-36.4133\" fill=\"none\" stroke=\"#000000\"/>\n</g>\n<!-- 98 -->\n<g class=\"node\" id=\"node99\">\n<title>98</title>\n<text fill=\"#004080\" font-family=\"Courier,monospace\" font-size=\"14.00\" font-weight=\"bold\" text-anchor=\"start\" x=\"2115\" y=\"-447.3\">Call</text>\n</g>\n<!-- 97&#45;&#45;98 -->\n<g class=\"edge\" id=\"edge98\">\n<title>97--98</title>\n<path d=\"M1814.0716,-516.3503C1878.4053,-502.9241 2039.8907,-469.2228 2104.5768,-455.7231\" fill=\"none\" stroke=\"#000000\"/>\n</g>\n<!-- 99 -->\n<g class=\"node\" id=\"node100\">\n<title>99</title>\n<text fill=\"#004080\" font-family=\"Courier,monospace\" font-size=\"14.00\" font-weight=\"bold\" text-anchor=\"start\" x=\"2115\" y=\"-375.3\">Name</text>\n</g>\n<!-- 98&#45;&#45;99 -->\n<g class=\"edge\" id=\"edge99\">\n<title>98--99</title>\n<path d=\"M2144,-432C2144,-432 2139.5439,-411.9478 2136.0627,-396.2819\" fill=\"none\" stroke=\"#000000\"/>\n</g>\n<!-- 102 -->\n<g class=\"node\" id=\"node103\">\n<title>102</title>\n<text fill=\"#004080\" font-family=\"Courier,monospace\" font-size=\"14.00\" font-weight=\"bold\" text-anchor=\"start\" x=\"2276\" y=\"-375.3\">BinOp</text>\n</g>\n<!-- 98&#45;&#45;102 -->\n<g class=\"edge\" id=\"edge102\">\n<title>98--102</title>\n<path d=\"M2144,-432C2144,-432 2223.4702,-403.9517 2267.8617,-388.2841\" fill=\"none\" stroke=\"#000000\"/>\n</g>\n<!-- 100 -->\n<g class=\"node\" id=\"node101\">\n<title>100</title>\n<text fill=\"#008040\" font-family=\"Courier,monospace\" font-size=\"14.00\" text-anchor=\"middle\" x=\"2091\" y=\"-302.3\">&quot;print&quot;</text>\n</g>\n<!-- 99&#45;&#45;100 -->\n<g class=\"edge\" id=\"edge100\">\n<title>99--100</title>\n<path d=\"M2132,-360C2132,-360 2116.7751,-339.9478 2104.8807,-324.2819\" fill=\"none\" stroke=\"#000000\"/>\n</g>\n<!-- 101 -->\n<g class=\"node\" id=\"node102\">\n<title>101</title>\n<text fill=\"#008040\" font-family=\"Courier,monospace\" font-size=\"14.00\" text-anchor=\"middle\" x=\"2173\" y=\"-302.3\">Load</text>\n</g>\n<!-- 99&#45;&#45;101 -->\n<g class=\"edge\" id=\"edge101\">\n<title>99--101</title>\n<path d=\"M2132,-360C2132,-360 2147.2249,-339.9478 2159.1193,-324.2819\" fill=\"none\" stroke=\"#000000\"/>\n</g>\n<!-- 103 -->\n<g class=\"node\" id=\"node104\">\n<title>103</title>\n<text fill=\"#004080\" font-family=\"Courier,monospace\" font-size=\"14.00\" font-weight=\"bold\" text-anchor=\"start\" x=\"2248.5\" y=\"-303.3\">Str</text>\n</g>\n<!-- 102&#45;&#45;103 -->\n<g class=\"edge\" id=\"edge103\">\n<title>102--103</title>\n<path d=\"M2306,-360C2306,-360 2289.2898,-339.9478 2276.2349,-324.2819\" fill=\"none\" stroke=\"#000000\"/>\n</g>\n<!-- 105 -->\n<g class=\"node\" id=\"node106\">\n<title>105</title>\n<text fill=\"#008040\" font-family=\"Courier,monospace\" font-size=\"14.00\" text-anchor=\"middle\" x=\"2333\" y=\"-302.3\">Mod</text>\n</g>\n<!-- 102&#45;&#45;105 -->\n<g class=\"edge\" id=\"edge105\">\n<title>102--105</title>\n<path d=\"M2306,-360C2306,-360 2316.0261,-339.9478 2323.859,-324.2819\" fill=\"none\" stroke=\"#000000\"/>\n</g>\n<!-- 106 -->\n<g class=\"node\" id=\"node107\">\n<title>106</title>\n<text fill=\"#004080\" font-family=\"Courier,monospace\" font-size=\"14.00\" font-weight=\"bold\" text-anchor=\"start\" x=\"2632\" y=\"-303.3\">Tuple</text>\n</g>\n<!-- 102&#45;&#45;106 -->\n<g class=\"edge\" id=\"edge106\">\n<title>102--106</title>\n<path d=\"M2306,-360C2306,-360 2540.057,-323.5762 2623.714,-310.5575\" fill=\"none\" stroke=\"#000000\"/>\n</g>\n<!-- 104 -->\n<g class=\"node\" id=\"node105\">\n<title>104</title>\n<text fill=\"#008040\" font-family=\"Courier,monospace\" font-size=\"14.00\" text-anchor=\"middle\" x=\"2261\" y=\"-230.3\">&quot;%d%s %d%s&quot;</text>\n</g>\n<!-- 103&#45;&#45;104 -->\n<g class=\"edge\" id=\"edge104\">\n<title>103--104</title>\n<path d=\"M2261,-287.8314C2261,-277 2261,-263.2876 2261,-252.4133\" fill=\"none\" stroke=\"#000000\"/>\n</g>\n<!-- 107 -->\n<g class=\"node\" id=\"node108\">\n<title>107</title>\n<text fill=\"#004080\" font-family=\"Courier,monospace\" font-size=\"14.00\" font-weight=\"bold\" text-anchor=\"start\" x=\"2367\" y=\"-231.3\">Name</text>\n</g>\n<!-- 106&#45;&#45;107 -->\n<g class=\"edge\" id=\"edge107\">\n<title>106--107</title>\n<path d=\"M2659,-288C2659,-288 2480.499,-252.9489 2411.1207,-239.3255\" fill=\"none\" stroke=\"#000000\"/>\n</g>\n<!-- 110 -->\n<g class=\"node\" id=\"node111\">\n<title>110</title>\n<text fill=\"#004080\" font-family=\"Courier,monospace\" font-size=\"14.00\" font-weight=\"bold\" text-anchor=\"start\" x=\"2529.5\" y=\"-231.3\">Subscript</text>\n</g>\n<!-- 106&#45;&#45;110 -->\n<g class=\"edge\" id=\"edge110\">\n<title>106--110</title>\n<path d=\"M2659,-288C2659,-288 2624.6176,-267.819 2597.8906,-252.1314\" fill=\"none\" stroke=\"#000000\"/>\n</g>\n<!-- 118 -->\n<g class=\"node\" id=\"node119\">\n<title>118</title>\n<text fill=\"#004080\" font-family=\"Courier,monospace\" font-size=\"14.00\" font-weight=\"bold\" text-anchor=\"start\" x=\"2686\" y=\"-231.3\">Name</text>\n</g>\n<!-- 106&#45;&#45;118 -->\n<g class=\"edge\" id=\"edge118\">\n<title>106--118</title>\n<path d=\"M2659,-288C2659,-288 2675.3389,-267.9478 2688.1036,-252.2819\" fill=\"none\" stroke=\"#000000\"/>\n</g>\n<!-- 121 -->\n<g class=\"node\" id=\"node122\">\n<title>121</title>\n<text fill=\"#004080\" font-family=\"Courier,monospace\" font-size=\"14.00\" font-weight=\"bold\" text-anchor=\"start\" x=\"2836.5\" y=\"-231.3\">Subscript</text>\n</g>\n<!-- 106&#45;&#45;121 -->\n<g class=\"edge\" id=\"edge121\">\n<title>106--121</title>\n<path d=\"M2659,-288C2659,-288 2765.2927,-261.3032 2828.404,-245.452\" fill=\"none\" stroke=\"#000000\"/>\n</g>\n<!-- 129 -->\n<g class=\"node\" id=\"node130\">\n<title>129</title>\n<text fill=\"#008040\" font-family=\"Courier,monospace\" font-size=\"14.00\" text-anchor=\"middle\" x=\"2965\" y=\"-230.3\">Load</text>\n</g>\n<!-- 106&#45;&#45;129 -->\n<g class=\"edge\" id=\"edge129\">\n<title>106--129</title>\n<path d=\"M2659,-288C2659,-288 2812.5161,-286.828 2928,-252 2931.2828,-251.01 2934.6353,-249.7584 2937.916,-248.3781\" fill=\"none\" stroke=\"#000000\"/>\n</g>\n<!-- 108 -->\n<g class=\"node\" id=\"node109\">\n<title>108</title>\n<text fill=\"#008040\" font-family=\"Courier,monospace\" font-size=\"14.00\" text-anchor=\"middle\" x=\"2289\" y=\"-158.3\">&quot;latitude&quot;</text>\n</g>\n<!-- 107&#45;&#45;108 -->\n<g class=\"edge\" id=\"edge108\">\n<title>107--108</title>\n<path d=\"M2375,-216C2375,-216 2343.0649,-195.9478 2318.1157,-180.2819\" fill=\"none\" stroke=\"#000000\"/>\n</g>\n<!-- 109 -->\n<g class=\"node\" id=\"node110\">\n<title>109</title>\n<text fill=\"#008040\" font-family=\"Courier,monospace\" font-size=\"14.00\" text-anchor=\"middle\" x=\"2384\" y=\"-158.3\">Load</text>\n</g>\n<!-- 107&#45;&#45;109 -->\n<g class=\"edge\" id=\"edge109\">\n<title>107--109</title>\n<path d=\"M2375,-216C2375,-216 2378.342,-195.9478 2380.953,-180.2819\" fill=\"none\" stroke=\"#000000\"/>\n</g>\n<!-- 111 -->\n<g class=\"node\" id=\"node112\">\n<title>111</title>\n<text fill=\"#004080\" font-family=\"Courier,monospace\" font-size=\"14.00\" font-weight=\"bold\" text-anchor=\"start\" x=\"2439\" y=\"-159.3\">Name</text>\n</g>\n<!-- 110&#45;&#45;111 -->\n<g class=\"edge\" id=\"edge111\">\n<title>110--111</title>\n<path d=\"M2560,-216C2560,-216 2513.868,-192.0469 2483.0533,-176.0469\" fill=\"none\" stroke=\"#000000\"/>\n</g>\n<!-- 114 -->\n<g class=\"node\" id=\"node115\">\n<title>114</title>\n<text fill=\"#004080\" font-family=\"Courier,monospace\" font-size=\"14.00\" font-weight=\"bold\" text-anchor=\"start\" x=\"2509\" y=\"-159.3\">Slice</text>\n</g>\n<!-- 110&#45;&#45;114 -->\n<g class=\"edge\" id=\"edge114\">\n<title>110--114</title>\n<path d=\"M2560,-216C2560,-216 2548.8599,-195.9478 2540.1566,-180.2819\" fill=\"none\" stroke=\"#000000\"/>\n</g>\n<!-- 117 -->\n<g class=\"node\" id=\"node118\">\n<title>117</title>\n<text fill=\"#008040\" font-family=\"Courier,monospace\" font-size=\"14.00\" text-anchor=\"middle\" x=\"2604\" y=\"-158.3\">Load</text>\n</g>\n<!-- 110&#45;&#45;117 -->\n<g class=\"edge\" id=\"edge117\">\n<title>110--117</title>\n<path d=\"M2560,-216C2560,-216 2576.3389,-195.9478 2589.1036,-180.2819\" fill=\"none\" stroke=\"#000000\"/>\n</g>\n<!-- 112 -->\n<g class=\"node\" id=\"node113\">\n<title>112</title>\n<text fill=\"#008040\" font-family=\"Courier,monospace\" font-size=\"14.00\" text-anchor=\"middle\" x=\"2385\" y=\"-86.3\">&quot;p&quot;</text>\n</g>\n<!-- 111&#45;&#45;112 -->\n<g class=\"edge\" id=\"edge112\">\n<title>111--112</title>\n<path d=\"M2449,-144C2449,-144 2425.2344,-123.9478 2406.6675,-108.2819\" fill=\"none\" stroke=\"#000000\"/>\n</g>\n<!-- 113 -->\n<g class=\"node\" id=\"node114\">\n<title>113</title>\n<text fill=\"#008040\" font-family=\"Courier,monospace\" font-size=\"14.00\" text-anchor=\"middle\" x=\"2457\" y=\"-86.3\">Load</text>\n</g>\n<!-- 111&#45;&#45;113 -->\n<g class=\"edge\" id=\"edge113\">\n<title>111--113</title>\n<path d=\"M2449,-144C2449,-144 2451.9707,-123.9478 2454.2916,-108.2819\" fill=\"none\" stroke=\"#000000\"/>\n</g>\n<!-- 115 -->\n<g class=\"node\" id=\"node116\">\n<title>115</title>\n<text fill=\"#004080\" font-family=\"Courier,monospace\" font-size=\"14.00\" font-weight=\"bold\" text-anchor=\"start\" x=\"2517.5\" y=\"-87.3\">Num</text>\n</g>\n<!-- 114&#45;&#45;115 -->\n<g class=\"edge\" id=\"edge115\">\n<title>114--115</title>\n<path d=\"M2530,-143.8314C2530,-133 2530,-119.2876 2530,-108.4133\" fill=\"none\" stroke=\"#000000\"/>\n</g>\n<!-- 116 -->\n<g class=\"node\" id=\"node117\">\n<title>116</title>\n<text fill=\"#008040\" font-family=\"Courier,monospace\" font-size=\"14.00\" text-anchor=\"middle\" x=\"2530\" y=\"-14.3\">1</text>\n</g>\n<!-- 115&#45;&#45;116 -->\n<g class=\"edge\" id=\"edge116\">\n<title>115--116</title>\n<path d=\"M2530,-71.8314C2530,-61 2530,-47.2876 2530,-36.4133\" fill=\"none\" stroke=\"#000000\"/>\n</g>\n<!-- 119 -->\n<g class=\"node\" id=\"node120\">\n<title>119</title>\n<text fill=\"#008040\" font-family=\"Courier,monospace\" font-size=\"14.00\" text-anchor=\"middle\" x=\"2703\" y=\"-158.3\">&quot;longitude&quot;</text>\n</g>\n<!-- 118&#45;&#45;119 -->\n<g class=\"edge\" id=\"edge119\">\n<title>118--119</title>\n<path d=\"M2712,-216C2712,-216 2708.658,-195.9478 2706.047,-180.2819\" fill=\"none\" stroke=\"#000000\"/>\n</g>\n<!-- 120 -->\n<g class=\"node\" id=\"node121\">\n<title>120</title>\n<text fill=\"#008040\" font-family=\"Courier,monospace\" font-size=\"14.00\" text-anchor=\"middle\" x=\"2802\" y=\"-158.3\">Load</text>\n</g>\n<!-- 118&#45;&#45;120 -->\n<g class=\"edge\" id=\"edge120\">\n<title>118--120</title>\n<path d=\"M2712,-216C2712,-216 2748.487,-194.1078 2774.997,-178.2018\" fill=\"none\" stroke=\"#000000\"/>\n</g>\n<!-- 122 -->\n<g class=\"node\" id=\"node123\">\n<title>122</title>\n<text fill=\"#004080\" font-family=\"Courier,monospace\" font-size=\"14.00\" font-weight=\"bold\" text-anchor=\"start\" x=\"2857\" y=\"-159.3\">Name</text>\n</g>\n<!-- 121&#45;&#45;122 -->\n<g class=\"edge\" id=\"edge122\">\n<title>121--122</title>\n<path d=\"M2888,-216C2888,-216 2882.8013,-195.9478 2878.7398,-180.2819\" fill=\"none\" stroke=\"#000000\"/>\n</g>\n<!-- 125 -->\n<g class=\"node\" id=\"node126\">\n<title>125</title>\n<text fill=\"#004080\" font-family=\"Courier,monospace\" font-size=\"14.00\" font-weight=\"bold\" text-anchor=\"start\" x=\"2927\" y=\"-159.3\">Slice</text>\n</g>\n<!-- 121&#45;&#45;125 -->\n<g class=\"edge\" id=\"edge125\">\n<title>121--125</title>\n<path d=\"M2888,-216C2888,-216 2910.2803,-195.9478 2927.6867,-180.2819\" fill=\"none\" stroke=\"#000000\"/>\n</g>\n<!-- 128 -->\n<g class=\"node\" id=\"node129\">\n<title>128</title>\n<text fill=\"#008040\" font-family=\"Courier,monospace\" font-size=\"14.00\" text-anchor=\"middle\" x=\"3022\" y=\"-158.3\">Load</text>\n</g>\n<!-- 121&#45;&#45;128 -->\n<g class=\"edge\" id=\"edge128\">\n<title>121--128</title>\n<path d=\"M2888,-216C2888,-216 2943.4046,-198.4043 2986,-180 2988.8224,-178.7805 2991.7381,-177.4485 2994.6316,-176.0786\" fill=\"none\" stroke=\"#000000\"/>\n</g>\n<!-- 123 -->\n<g class=\"node\" id=\"node124\">\n<title>123</title>\n<text fill=\"#008040\" font-family=\"Courier,monospace\" font-size=\"14.00\" text-anchor=\"middle\" x=\"2803\" y=\"-86.3\">&quot;q&quot;</text>\n</g>\n<!-- 122&#45;&#45;123 -->\n<g class=\"edge\" id=\"edge123\">\n<title>122--123</title>\n<path d=\"M2867,-144C2867,-144 2843.2344,-123.9478 2824.6675,-108.2819\" fill=\"none\" stroke=\"#000000\"/>\n</g>\n<!-- 124 -->\n<g class=\"node\" id=\"node125\">\n<title>124</title>\n<text fill=\"#008040\" font-family=\"Courier,monospace\" font-size=\"14.00\" text-anchor=\"middle\" x=\"2875\" y=\"-86.3\">Load</text>\n</g>\n<!-- 122&#45;&#45;124 -->\n<g class=\"edge\" id=\"edge124\">\n<title>122--124</title>\n<path d=\"M2867,-144C2867,-144 2869.9707,-123.9478 2872.2916,-108.2819\" fill=\"none\" stroke=\"#000000\"/>\n</g>\n<!-- 126 -->\n<g class=\"node\" id=\"node127\">\n<title>126</title>\n<text fill=\"#004080\" font-family=\"Courier,monospace\" font-size=\"14.00\" font-weight=\"bold\" text-anchor=\"start\" x=\"2935.5\" y=\"-87.3\">Num</text>\n</g>\n<!-- 125&#45;&#45;126 -->\n<g class=\"edge\" id=\"edge126\">\n<title>125--126</title>\n<path d=\"M2948,-143.8314C2948,-133 2948,-119.2876 2948,-108.4133\" fill=\"none\" stroke=\"#000000\"/>\n</g>\n<!-- 127 -->\n<g class=\"node\" id=\"node128\">\n<title>127</title>\n<text fill=\"#008040\" font-family=\"Courier,monospace\" font-size=\"14.00\" text-anchor=\"middle\" x=\"2948\" y=\"-14.3\">1</text>\n</g>\n<!-- 126&#45;&#45;127 -->\n<g class=\"edge\" id=\"edge127\">\n<title>126--127</title>\n<path d=\"M2948,-71.8314C2948,-61 2948,-47.2876 2948,-36.4133\" fill=\"none\" stroke=\"#000000\"/>\n</g>\n</g>\n</svg>"
          },
          "metadata": {}
        }
      ]
    }
  ]
}